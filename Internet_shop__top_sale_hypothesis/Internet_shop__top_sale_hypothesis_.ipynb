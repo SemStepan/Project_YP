{
 "cells": [
  {
   "cell_type": "markdown",
   "metadata": {},
   "source": [
    "# Проверка гипотез для увеличения выручки  (исследование для крупного интернет-магазина)"
   ]
  },
  {
   "cell_type": "markdown",
   "metadata": {},
   "source": [
    "## Введение\n",
    "<b> Краткое описание проекта: </b>\n",
    "\n",
    "<b> Цель проекта: </b> Проверить ряд гипотез с целью увеличения выручки интернет-магазина. \n",
    "\n",
    "Исходной информацией служит файл с выдвинутыми гипотезами и файлы с заказами и результатми А/В тестов."
   ]
  },
  {
   "cell_type": "markdown",
   "metadata": {},
   "source": [
    "<b> Описание данных: </b>\n",
    "\n",
    "\n",
    "<b> В файле `hypothesis.csv` 9 гипотез по увеличению выручки интернет-магазина с указанными параметрами:</b> \n",
    "\n",
    "`Hypothesis` — краткое описание гипотезы;\n",
    "\n",
    "`Reach`- охват пользователей по 10-балльной шкале;\n",
    "\n",
    "`Impact`- влияние на пользователей по 10-балльной шкале;\n",
    "\n",
    "`Confidence` - уверенность в гипотезе по 10-балльной шкале;\n",
    "\n",
    "`Effort` - затраты ресурсов на проверку гипотезы по 10-балльной шкале. Чем больше значение Efforts, тем дороже проверка гипотезы.\n",
    "\n",
    "\n",
    "<b> Файл `orders.csv` содержит: </b> \n",
    "\n",
    "`transactionId` — идентификатор заказа;\n",
    "\n",
    "`visitorId` — идентификатор пользователя, совершившего заказ;\n",
    "\n",
    "`date` — дата, когда был совершён заказ;\n",
    "\n",
    "`revenue` — выручка заказа;\n",
    "\n",
    "`group` — группа A/B-теста, в которую попал заказ.\n",
    "\n",
    "\n",
    "<b> Файл `visitors.csv` содержит:</b> \n",
    "\n",
    "`date` — дата;\n",
    "\n",
    "`group` — группа A/B-теста;\n",
    "\n",
    "`visitors` — количество пользователей в указанную дату в указанной группе A/B-теста"
   ]
  },
  {
   "cell_type": "markdown",
   "metadata": {},
   "source": [
    "<b>План работы: </b> <a id=\"cell0\"></a>\n",
    "\n",
    "[<b>1. Загрузка и подготовка данных к анализу.</b>](#cell1)\n",
    "    \n",
    "[<b>2. Приоритизация гипотез.</b>](#cell2)\n",
    "\n",
    " - Применение фреймворков ICE и RICE для приоритизации гипотез. \n",
    " - Объяснение изменения приоритизации гипотез при применении RICE вместо ICE. Причина.\n",
    "    \n",
    "[<b>3. Анализ A/B-теста.</b>](#cell3)\n",
    "\n",
    " - График кумулятивной выручки по группам. Выводы и предположения.\n",
    " - График кумулятивного среднего чека по группам. Выводы и предположения.\n",
    " - График относительного изменения кумулятивного среднего чека группы B к группе A.Выводы и предположения.\n",
    " - График кумулятивного среднего количества заказов на посетителя по группам. Выводы и предположения.\n",
    " - График относительного изменения кумулятивного среднего количества заказов на посетителя группы B к группе A. Выводы и предположения.\n",
    " - Точечный график количества заказов по пользователям. Выводы и предположения.\n",
    " - Расчет 95-го и 99-го перцентилей количества заказов на пользователя. Выбор границы для определения аномальных пользователей.\n",
    " - Точечный график стоимостей заказов. Выводы и предположения.\n",
    " - Расчет 95-го и 99-го перцентилей стоимости заказов. Выбор границы для определения аномальных заказов.\n",
    " - Расчет статистической значимости различий в среднем количестве заказов на посетителя между группами по «сырым» данным. Выводы и предположения.\n",
    " - Расчет статистической значимости различий в среднем чеке заказа между группами по «сырым» данным. Выводы и предположения.\n",
    " - Расчет статистической значимости различий в среднем количестве заказов на посетителя между группами по «очищенным» данным. Выводы и предположения.\n",
    " - Расчет статистической значимости различий в среднем чеке заказа между группами по «очищенным» данным. Выводы и предположения.\n",
    " - Принятие решения по результатам теста, объяснение. Варианты решений:\n",
    "    1. Остановить тест, зафиксировать победу одной из групп.\n",
    "    2. Остановить тест, зафиксировать отсутствие различий между группами.\n",
    "    3. Продолжить тест.\n",
    "   \n",
    "[<b>4. Общий вывод  </b>](#cell4)\n"
   ]
  },
  {
   "cell_type": "markdown",
   "metadata": {
    "id": "r-BO88CnWVwe"
   },
   "source": [
    "### 1. Загрузка данных и подготовка их к анализу <a id=\"cell1\"></a> </a> <font size = 2>[к оглавлению](#cell0)</font>"
   ]
  },
  {
   "cell_type": "code",
   "execution_count": 1,
   "metadata": {},
   "outputs": [],
   "source": [
    "# загрузим необходимые библиотеки\n",
    "import pandas as pd\n",
    "import numpy as np\n",
    "import datetime as dt\n",
    "import matplotlib.pyplot as plt\n",
    "import scipy.stats as stats"
   ]
  },
  {
   "cell_type": "code",
   "execution_count": 2,
   "metadata": {},
   "outputs": [],
   "source": [
    "# зададим параметр, чтоб содержимое строк датасетов отображалось полностью\n",
    "pd.set_option('display.max_colwidth', None) "
   ]
  },
  {
   "cell_type": "code",
   "execution_count": 3,
   "metadata": {
    "id": "LCZi0P80WVwj"
   },
   "outputs": [],
   "source": [
    "# Загрузим данные в переменные\n",
    "hypothesis = pd.read_csv('hypothesis.csv') # гипотезы\n",
    "orders = pd.read_csv('orders.csv') # заказы\n",
    "visitors = pd.read_csv('visitors.csv') # группы А/В теста"
   ]
  },
  {
   "cell_type": "markdown",
   "metadata": {},
   "source": [
    "**Посмотрим данные о гипотезах (hypothesis)**"
   ]
  },
  {
   "cell_type": "code",
   "execution_count": 4,
   "metadata": {},
   "outputs": [
    {
     "data": {
      "text/html": [
       "<div>\n",
       "<style scoped>\n",
       "    .dataframe tbody tr th:only-of-type {\n",
       "        vertical-align: middle;\n",
       "    }\n",
       "\n",
       "    .dataframe tbody tr th {\n",
       "        vertical-align: top;\n",
       "    }\n",
       "\n",
       "    .dataframe thead th {\n",
       "        text-align: right;\n",
       "    }\n",
       "</style>\n",
       "<table border=\"1\" class=\"dataframe\">\n",
       "  <thead>\n",
       "    <tr style=\"text-align: right;\">\n",
       "      <th></th>\n",
       "      <th>Hypothesis</th>\n",
       "      <th>Reach</th>\n",
       "      <th>Impact</th>\n",
       "      <th>Confidence</th>\n",
       "      <th>Efforts</th>\n",
       "    </tr>\n",
       "  </thead>\n",
       "  <tbody>\n",
       "    <tr>\n",
       "      <th>0</th>\n",
       "      <td>Добавить два новых канала привлечения трафика, что позволит привлекать на 30% больше пользователей</td>\n",
       "      <td>3</td>\n",
       "      <td>10</td>\n",
       "      <td>8</td>\n",
       "      <td>6</td>\n",
       "    </tr>\n",
       "    <tr>\n",
       "      <th>1</th>\n",
       "      <td>Запустить собственную службу доставки, что сократит срок доставки заказов</td>\n",
       "      <td>2</td>\n",
       "      <td>5</td>\n",
       "      <td>4</td>\n",
       "      <td>10</td>\n",
       "    </tr>\n",
       "    <tr>\n",
       "      <th>2</th>\n",
       "      <td>Добавить блоки рекомендаций товаров на сайт интернет магазина, чтобы повысить конверсию и средний чек заказа</td>\n",
       "      <td>8</td>\n",
       "      <td>3</td>\n",
       "      <td>7</td>\n",
       "      <td>3</td>\n",
       "    </tr>\n",
       "    <tr>\n",
       "      <th>3</th>\n",
       "      <td>Изменить структура категорий, что увеличит конверсию, т.к. пользователи быстрее найдут нужный товар</td>\n",
       "      <td>8</td>\n",
       "      <td>3</td>\n",
       "      <td>3</td>\n",
       "      <td>8</td>\n",
       "    </tr>\n",
       "    <tr>\n",
       "      <th>4</th>\n",
       "      <td>Изменить цвет фона главной страницы, чтобы увеличить вовлеченность пользователей</td>\n",
       "      <td>3</td>\n",
       "      <td>1</td>\n",
       "      <td>1</td>\n",
       "      <td>1</td>\n",
       "    </tr>\n",
       "    <tr>\n",
       "      <th>5</th>\n",
       "      <td>Добавить страницу отзывов клиентов о магазине, что позволит увеличить количество заказов</td>\n",
       "      <td>3</td>\n",
       "      <td>2</td>\n",
       "      <td>2</td>\n",
       "      <td>3</td>\n",
       "    </tr>\n",
       "    <tr>\n",
       "      <th>6</th>\n",
       "      <td>Показать на главной странице баннеры с актуальными акциями и распродажами, чтобы увеличить конверсию</td>\n",
       "      <td>5</td>\n",
       "      <td>3</td>\n",
       "      <td>8</td>\n",
       "      <td>3</td>\n",
       "    </tr>\n",
       "    <tr>\n",
       "      <th>7</th>\n",
       "      <td>Добавить форму подписки на все основные страницы, чтобы собрать базу клиентов для email-рассылок</td>\n",
       "      <td>10</td>\n",
       "      <td>7</td>\n",
       "      <td>8</td>\n",
       "      <td>5</td>\n",
       "    </tr>\n",
       "    <tr>\n",
       "      <th>8</th>\n",
       "      <td>Запустить акцию, дающую скидку на товар в день рождения</td>\n",
       "      <td>1</td>\n",
       "      <td>9</td>\n",
       "      <td>9</td>\n",
       "      <td>5</td>\n",
       "    </tr>\n",
       "  </tbody>\n",
       "</table>\n",
       "</div>"
      ],
      "text/plain": [
       "                                                                                                     Hypothesis  \\\n",
       "0            Добавить два новых канала привлечения трафика, что позволит привлекать на 30% больше пользователей   \n",
       "1                                     Запустить собственную службу доставки, что сократит срок доставки заказов   \n",
       "2  Добавить блоки рекомендаций товаров на сайт интернет магазина, чтобы повысить конверсию и средний чек заказа   \n",
       "3           Изменить структура категорий, что увеличит конверсию, т.к. пользователи быстрее найдут нужный товар   \n",
       "4                              Изменить цвет фона главной страницы, чтобы увеличить вовлеченность пользователей   \n",
       "5                      Добавить страницу отзывов клиентов о магазине, что позволит увеличить количество заказов   \n",
       "6          Показать на главной странице баннеры с актуальными акциями и распродажами, чтобы увеличить конверсию   \n",
       "7              Добавить форму подписки на все основные страницы, чтобы собрать базу клиентов для email-рассылок   \n",
       "8                                                       Запустить акцию, дающую скидку на товар в день рождения   \n",
       "\n",
       "   Reach  Impact  Confidence  Efforts  \n",
       "0      3      10           8        6  \n",
       "1      2       5           4       10  \n",
       "2      8       3           7        3  \n",
       "3      8       3           3        8  \n",
       "4      3       1           1        1  \n",
       "5      3       2           2        3  \n",
       "6      5       3           8        3  \n",
       "7     10       7           8        5  \n",
       "8      1       9           9        5  "
      ]
     },
     "execution_count": 4,
     "metadata": {},
     "output_type": "execute_result"
    }
   ],
   "source": [
    "hypothesis.head(10)"
   ]
  },
  {
   "cell_type": "code",
   "execution_count": 5,
   "metadata": {},
   "outputs": [
    {
     "name": "stdout",
     "output_type": "stream",
     "text": [
      "<class 'pandas.core.frame.DataFrame'>\n",
      "RangeIndex: 9 entries, 0 to 8\n",
      "Data columns (total 5 columns):\n",
      " #   Column      Non-Null Count  Dtype \n",
      "---  ------      --------------  ----- \n",
      " 0   Hypothesis  9 non-null      object\n",
      " 1   Reach       9 non-null      int64 \n",
      " 2   Impact      9 non-null      int64 \n",
      " 3   Confidence  9 non-null      int64 \n",
      " 4   Efforts     9 non-null      int64 \n",
      "dtypes: int64(4), object(1)\n",
      "memory usage: 488.0+ bytes\n"
     ]
    }
   ],
   "source": [
    "# основная информация\n",
    "hypothesis.info(10)"
   ]
  },
  {
   "cell_type": "code",
   "execution_count": 6,
   "metadata": {},
   "outputs": [],
   "source": [
    "# преобразование названий стоблцов в стиле snake case\n",
    "hypothesis.columns = hypothesis.columns.str.lower() "
   ]
  },
  {
   "cell_type": "markdown",
   "metadata": {},
   "source": [
    "**Посмотрим данные о заказах (orders)**"
   ]
  },
  {
   "cell_type": "code",
   "execution_count": 7,
   "metadata": {},
   "outputs": [
    {
     "data": {
      "text/html": [
       "<div>\n",
       "<style scoped>\n",
       "    .dataframe tbody tr th:only-of-type {\n",
       "        vertical-align: middle;\n",
       "    }\n",
       "\n",
       "    .dataframe tbody tr th {\n",
       "        vertical-align: top;\n",
       "    }\n",
       "\n",
       "    .dataframe thead th {\n",
       "        text-align: right;\n",
       "    }\n",
       "</style>\n",
       "<table border=\"1\" class=\"dataframe\">\n",
       "  <thead>\n",
       "    <tr style=\"text-align: right;\">\n",
       "      <th></th>\n",
       "      <th>transactionId</th>\n",
       "      <th>visitorId</th>\n",
       "      <th>date</th>\n",
       "      <th>revenue</th>\n",
       "      <th>group</th>\n",
       "    </tr>\n",
       "  </thead>\n",
       "  <tbody>\n",
       "    <tr>\n",
       "      <th>0</th>\n",
       "      <td>3667963787</td>\n",
       "      <td>3312258926</td>\n",
       "      <td>2019-08-15</td>\n",
       "      <td>1650</td>\n",
       "      <td>B</td>\n",
       "    </tr>\n",
       "    <tr>\n",
       "      <th>1</th>\n",
       "      <td>2804400009</td>\n",
       "      <td>3642806036</td>\n",
       "      <td>2019-08-15</td>\n",
       "      <td>730</td>\n",
       "      <td>B</td>\n",
       "    </tr>\n",
       "    <tr>\n",
       "      <th>2</th>\n",
       "      <td>2961555356</td>\n",
       "      <td>4069496402</td>\n",
       "      <td>2019-08-15</td>\n",
       "      <td>400</td>\n",
       "      <td>A</td>\n",
       "    </tr>\n",
       "    <tr>\n",
       "      <th>3</th>\n",
       "      <td>3797467345</td>\n",
       "      <td>1196621759</td>\n",
       "      <td>2019-08-15</td>\n",
       "      <td>9759</td>\n",
       "      <td>B</td>\n",
       "    </tr>\n",
       "    <tr>\n",
       "      <th>4</th>\n",
       "      <td>2282983706</td>\n",
       "      <td>2322279887</td>\n",
       "      <td>2019-08-15</td>\n",
       "      <td>2308</td>\n",
       "      <td>B</td>\n",
       "    </tr>\n",
       "  </tbody>\n",
       "</table>\n",
       "</div>"
      ],
      "text/plain": [
       "   transactionId   visitorId        date  revenue group\n",
       "0     3667963787  3312258926  2019-08-15     1650     B\n",
       "1     2804400009  3642806036  2019-08-15      730     B\n",
       "2     2961555356  4069496402  2019-08-15      400     A\n",
       "3     3797467345  1196621759  2019-08-15     9759     B\n",
       "4     2282983706  2322279887  2019-08-15     2308     B"
      ]
     },
     "execution_count": 7,
     "metadata": {},
     "output_type": "execute_result"
    }
   ],
   "source": [
    "orders.head()"
   ]
  },
  {
   "cell_type": "code",
   "execution_count": 8,
   "metadata": {},
   "outputs": [
    {
     "name": "stdout",
     "output_type": "stream",
     "text": [
      "<class 'pandas.core.frame.DataFrame'>\n",
      "RangeIndex: 1197 entries, 0 to 1196\n",
      "Data columns (total 5 columns):\n",
      " #   Column         Non-Null Count  Dtype \n",
      "---  ------         --------------  ----- \n",
      " 0   transactionId  1197 non-null   int64 \n",
      " 1   visitorId      1197 non-null   int64 \n",
      " 2   date           1197 non-null   object\n",
      " 3   revenue        1197 non-null   int64 \n",
      " 4   group          1197 non-null   object\n",
      "dtypes: int64(3), object(2)\n",
      "memory usage: 46.9+ KB\n"
     ]
    }
   ],
   "source": [
    "# основная информация\n",
    "orders.info()"
   ]
  },
  {
   "cell_type": "code",
   "execution_count": 9,
   "metadata": {},
   "outputs": [
    {
     "data": {
      "text/plain": [
       "0"
      ]
     },
     "execution_count": 9,
     "metadata": {},
     "output_type": "execute_result"
    }
   ],
   "source": [
    "# проверим наличие дубликатов\n",
    "orders.duplicated().sum()"
   ]
  },
  {
   "cell_type": "markdown",
   "metadata": {},
   "source": [
    "В датасете отсутсвуют пропуски и явные дубликаты"
   ]
  },
  {
   "cell_type": "code",
   "execution_count": 10,
   "metadata": {},
   "outputs": [],
   "source": [
    "# приведем тип данных даты к date и поправим названия колонок на более стилистически верные\n",
    "orders.rename(columns = {'transactionId':'transaction_id', 'visitorId':'visitor_id'}, inplace = True ) \n",
    "orders['date'] = pd.to_datetime(orders['date'])"
   ]
  },
  {
   "cell_type": "code",
   "execution_count": 11,
   "metadata": {},
   "outputs": [
    {
     "name": "stdout",
     "output_type": "stream",
     "text": [
      "<class 'pandas.core.frame.DataFrame'>\n",
      "RangeIndex: 1197 entries, 0 to 1196\n",
      "Data columns (total 5 columns):\n",
      " #   Column          Non-Null Count  Dtype         \n",
      "---  ------          --------------  -----         \n",
      " 0   transaction_id  1197 non-null   int64         \n",
      " 1   visitor_id      1197 non-null   int64         \n",
      " 2   date            1197 non-null   datetime64[ns]\n",
      " 3   revenue         1197 non-null   int64         \n",
      " 4   group           1197 non-null   object        \n",
      "dtypes: datetime64[ns](1), int64(3), object(1)\n",
      "memory usage: 46.9+ KB\n"
     ]
    }
   ],
   "source": [
    "orders.info() # Проверим, что преобразования сделаны верно"
   ]
  },
  {
   "cell_type": "markdown",
   "metadata": {},
   "source": [
    "**Посмотрим данные о группах А/В (visitors)**"
   ]
  },
  {
   "cell_type": "code",
   "execution_count": 12,
   "metadata": {},
   "outputs": [
    {
     "data": {
      "text/html": [
       "<div>\n",
       "<style scoped>\n",
       "    .dataframe tbody tr th:only-of-type {\n",
       "        vertical-align: middle;\n",
       "    }\n",
       "\n",
       "    .dataframe tbody tr th {\n",
       "        vertical-align: top;\n",
       "    }\n",
       "\n",
       "    .dataframe thead th {\n",
       "        text-align: right;\n",
       "    }\n",
       "</style>\n",
       "<table border=\"1\" class=\"dataframe\">\n",
       "  <thead>\n",
       "    <tr style=\"text-align: right;\">\n",
       "      <th></th>\n",
       "      <th>date</th>\n",
       "      <th>group</th>\n",
       "      <th>visitors</th>\n",
       "    </tr>\n",
       "  </thead>\n",
       "  <tbody>\n",
       "    <tr>\n",
       "      <th>0</th>\n",
       "      <td>2019-08-01</td>\n",
       "      <td>A</td>\n",
       "      <td>719</td>\n",
       "    </tr>\n",
       "    <tr>\n",
       "      <th>1</th>\n",
       "      <td>2019-08-02</td>\n",
       "      <td>A</td>\n",
       "      <td>619</td>\n",
       "    </tr>\n",
       "    <tr>\n",
       "      <th>2</th>\n",
       "      <td>2019-08-03</td>\n",
       "      <td>A</td>\n",
       "      <td>507</td>\n",
       "    </tr>\n",
       "    <tr>\n",
       "      <th>3</th>\n",
       "      <td>2019-08-04</td>\n",
       "      <td>A</td>\n",
       "      <td>717</td>\n",
       "    </tr>\n",
       "    <tr>\n",
       "      <th>4</th>\n",
       "      <td>2019-08-05</td>\n",
       "      <td>A</td>\n",
       "      <td>756</td>\n",
       "    </tr>\n",
       "  </tbody>\n",
       "</table>\n",
       "</div>"
      ],
      "text/plain": [
       "         date group  visitors\n",
       "0  2019-08-01     A       719\n",
       "1  2019-08-02     A       619\n",
       "2  2019-08-03     A       507\n",
       "3  2019-08-04     A       717\n",
       "4  2019-08-05     A       756"
      ]
     },
     "execution_count": 12,
     "metadata": {},
     "output_type": "execute_result"
    }
   ],
   "source": [
    "visitors.head()"
   ]
  },
  {
   "cell_type": "code",
   "execution_count": 13,
   "metadata": {},
   "outputs": [
    {
     "name": "stdout",
     "output_type": "stream",
     "text": [
      "<class 'pandas.core.frame.DataFrame'>\n",
      "RangeIndex: 62 entries, 0 to 61\n",
      "Data columns (total 3 columns):\n",
      " #   Column    Non-Null Count  Dtype \n",
      "---  ------    --------------  ----- \n",
      " 0   date      62 non-null     object\n",
      " 1   group     62 non-null     object\n",
      " 2   visitors  62 non-null     int64 \n",
      "dtypes: int64(1), object(2)\n",
      "memory usage: 1.6+ KB\n"
     ]
    }
   ],
   "source": [
    "# основная информация\n",
    "visitors.info()"
   ]
  },
  {
   "cell_type": "code",
   "execution_count": 14,
   "metadata": {},
   "outputs": [
    {
     "data": {
      "text/plain": [
       "0"
      ]
     },
     "execution_count": 14,
     "metadata": {},
     "output_type": "execute_result"
    }
   ],
   "source": [
    "# проверим наличие дубликатов\n",
    "visitors.duplicated().sum()"
   ]
  },
  {
   "cell_type": "markdown",
   "metadata": {},
   "source": [
    "В датасете `visitors` отсутсвуют пропуски и явные дубликаты"
   ]
  },
  {
   "cell_type": "code",
   "execution_count": 15,
   "metadata": {},
   "outputs": [],
   "source": [
    "# приведем тип данных даты к date \n",
    "visitors['date'] = pd.to_datetime(visitors['date'])"
   ]
  },
  {
   "cell_type": "code",
   "execution_count": 16,
   "metadata": {},
   "outputs": [
    {
     "name": "stdout",
     "output_type": "stream",
     "text": [
      "<class 'pandas.core.frame.DataFrame'>\n",
      "RangeIndex: 62 entries, 0 to 61\n",
      "Data columns (total 3 columns):\n",
      " #   Column    Non-Null Count  Dtype         \n",
      "---  ------    --------------  -----         \n",
      " 0   date      62 non-null     datetime64[ns]\n",
      " 1   group     62 non-null     object        \n",
      " 2   visitors  62 non-null     int64         \n",
      "dtypes: datetime64[ns](1), int64(1), object(1)\n",
      "memory usage: 1.6+ KB\n"
     ]
    }
   ],
   "source": [
    "visitors.info() # Проверка"
   ]
  },
  {
   "cell_type": "markdown",
   "metadata": {},
   "source": [
    "Проверим, что в А/В тесте две группы"
   ]
  },
  {
   "cell_type": "code",
   "execution_count": 17,
   "metadata": {},
   "outputs": [
    {
     "data": {
      "text/plain": [
       "array(['A', 'B'], dtype=object)"
      ]
     },
     "execution_count": 17,
     "metadata": {},
     "output_type": "execute_result"
    }
   ],
   "source": [
    "visitors['group'].unique()# находим уникальные группы"
   ]
  },
  {
   "cell_type": "markdown",
   "metadata": {},
   "source": [
    "Посмотрим на временной интервал проведения теста: найдем даты начала и окончания."
   ]
  },
  {
   "cell_type": "code",
   "execution_count": 18,
   "metadata": {},
   "outputs": [
    {
     "name": "stdout",
     "output_type": "stream",
     "text": [
      "Дата начала теста 2019-08-01\n",
      "Дата окончания теста 2019-08-31\n"
     ]
    }
   ],
   "source": [
    "print('Дата начала теста', visitors['date'].min().date())\n",
    "print('Дата окончания теста', visitors['date'].max().date())"
   ]
  },
  {
   "cell_type": "markdown",
   "metadata": {},
   "source": [
    "Найдем количество пользователей в каждой группе"
   ]
  },
  {
   "cell_type": "code",
   "execution_count": 19,
   "metadata": {},
   "outputs": [
    {
     "data": {
      "text/html": [
       "<div>\n",
       "<style scoped>\n",
       "    .dataframe tbody tr th:only-of-type {\n",
       "        vertical-align: middle;\n",
       "    }\n",
       "\n",
       "    .dataframe tbody tr th {\n",
       "        vertical-align: top;\n",
       "    }\n",
       "\n",
       "    .dataframe thead th {\n",
       "        text-align: right;\n",
       "    }\n",
       "</style>\n",
       "<table border=\"1\" class=\"dataframe\">\n",
       "  <thead>\n",
       "    <tr style=\"text-align: right;\">\n",
       "      <th></th>\n",
       "      <th>group</th>\n",
       "      <th>visitor_id</th>\n",
       "    </tr>\n",
       "  </thead>\n",
       "  <tbody>\n",
       "    <tr>\n",
       "      <th>0</th>\n",
       "      <td>A</td>\n",
       "      <td>503</td>\n",
       "    </tr>\n",
       "    <tr>\n",
       "      <th>1</th>\n",
       "      <td>B</td>\n",
       "      <td>586</td>\n",
       "    </tr>\n",
       "  </tbody>\n",
       "</table>\n",
       "</div>"
      ],
      "text/plain": [
       "  group  visitor_id\n",
       "0     A         503\n",
       "1     B         586"
      ]
     },
     "execution_count": 19,
     "metadata": {},
     "output_type": "execute_result"
    }
   ],
   "source": [
    "orders.groupby('group', as_index=False).agg({'visitor_id': 'nunique'})\n"
   ]
  },
  {
   "cell_type": "markdown",
   "metadata": {},
   "source": [
    "Посмотрим динамику посетителей по дням по группам"
   ]
  },
  {
   "cell_type": "code",
   "execution_count": 20,
   "metadata": {},
   "outputs": [
    {
     "data": {
      "image/png": "[encoded data removed]",
      "text/plain": [
       "<Figure size 1296x360 with 1 Axes>"
      ]
     },
     "metadata": {
      "needs_background": "light"
     },
     "output_type": "display_data"
    }
   ],
   "source": [
    "visitors_day = visitors.pivot_table(index='date', columns='group', aggfunc = 'sum').reset_index()\n",
    "visitors_day['date'] = visitors_day['date'].dt.date\n",
    "visitors_day = visitors_day.set_index('date')\n",
    "visitors_day.plot(grid = True, figsize =(18,5),  style = 'o-')\n",
    "plt.title('Динамика посетителей по дням', size = 16)\n",
    "plt.ylabel('Количество посетителей', size = 14)\n",
    "plt.xlabel('День', size = 14)\n",
    "plt.show()"
   ]
  },
  {
   "cell_type": "markdown",
   "metadata": {},
   "source": [
    "**Общий вывод по загрузке данных и подготовке их к анализу**\n",
    "Данные хорошего качества, без пропусков и дубликатов. Было произведено приведение дат к типу date,а также названия колонок приведены к более стилистически верному виду.\n",
    "\n",
    "Проверено, что групп в А/В тесте действительно две.\n",
    "\n",
    "Тест проходил в течение одного месяца.\n",
    "\n",
    "Количество посетителей в группах составляет соответственно А - 503, B - 586. \n",
    "\n",
    "Динамика посетителей по дням в разных группах меняется почти по одинаковой кривой.\n"
   ]
  },
  {
   "cell_type": "markdown",
   "metadata": {},
   "source": [
    "### 2. Приоритизация гипотез. <a id=\"cell2\"></a> </a> <font size = 2>[к оглавлению](#cell0)</font>"
   ]
  },
  {
   "cell_type": "markdown",
   "metadata": {},
   "source": [
    "Для приоритизации гипотез применим фреймворки ICE и RICE"
   ]
  },
  {
   "cell_type": "code",
   "execution_count": 21,
   "metadata": {},
   "outputs": [
    {
     "data": {
      "text/html": [
       "<div>\n",
       "<style scoped>\n",
       "    .dataframe tbody tr th:only-of-type {\n",
       "        vertical-align: middle;\n",
       "    }\n",
       "\n",
       "    .dataframe tbody tr th {\n",
       "        vertical-align: top;\n",
       "    }\n",
       "\n",
       "    .dataframe thead th {\n",
       "        text-align: right;\n",
       "    }\n",
       "</style>\n",
       "<table border=\"1\" class=\"dataframe\">\n",
       "  <thead>\n",
       "    <tr style=\"text-align: right;\">\n",
       "      <th></th>\n",
       "      <th>hypothesis</th>\n",
       "      <th>ICE</th>\n",
       "    </tr>\n",
       "  </thead>\n",
       "  <tbody>\n",
       "    <tr>\n",
       "      <th>8</th>\n",
       "      <td>Запустить акцию, дающую скидку на товар в день рождения</td>\n",
       "      <td>16.20</td>\n",
       "    </tr>\n",
       "    <tr>\n",
       "      <th>0</th>\n",
       "      <td>Добавить два новых канала привлечения трафика, что позволит привлекать на 30% больше пользователей</td>\n",
       "      <td>13.33</td>\n",
       "    </tr>\n",
       "    <tr>\n",
       "      <th>7</th>\n",
       "      <td>Добавить форму подписки на все основные страницы, чтобы собрать базу клиентов для email-рассылок</td>\n",
       "      <td>11.20</td>\n",
       "    </tr>\n",
       "    <tr>\n",
       "      <th>6</th>\n",
       "      <td>Показать на главной странице баннеры с актуальными акциями и распродажами, чтобы увеличить конверсию</td>\n",
       "      <td>8.00</td>\n",
       "    </tr>\n",
       "    <tr>\n",
       "      <th>2</th>\n",
       "      <td>Добавить блоки рекомендаций товаров на сайт интернет магазина, чтобы повысить конверсию и средний чек заказа</td>\n",
       "      <td>7.00</td>\n",
       "    </tr>\n",
       "    <tr>\n",
       "      <th>1</th>\n",
       "      <td>Запустить собственную службу доставки, что сократит срок доставки заказов</td>\n",
       "      <td>2.00</td>\n",
       "    </tr>\n",
       "    <tr>\n",
       "      <th>5</th>\n",
       "      <td>Добавить страницу отзывов клиентов о магазине, что позволит увеличить количество заказов</td>\n",
       "      <td>1.33</td>\n",
       "    </tr>\n",
       "    <tr>\n",
       "      <th>3</th>\n",
       "      <td>Изменить структура категорий, что увеличит конверсию, т.к. пользователи быстрее найдут нужный товар</td>\n",
       "      <td>1.12</td>\n",
       "    </tr>\n",
       "    <tr>\n",
       "      <th>4</th>\n",
       "      <td>Изменить цвет фона главной страницы, чтобы увеличить вовлеченность пользователей</td>\n",
       "      <td>1.00</td>\n",
       "    </tr>\n",
       "  </tbody>\n",
       "</table>\n",
       "</div>"
      ],
      "text/plain": [
       "                                                                                                     hypothesis  \\\n",
       "8                                                       Запустить акцию, дающую скидку на товар в день рождения   \n",
       "0            Добавить два новых канала привлечения трафика, что позволит привлекать на 30% больше пользователей   \n",
       "7              Добавить форму подписки на все основные страницы, чтобы собрать базу клиентов для email-рассылок   \n",
       "6          Показать на главной странице баннеры с актуальными акциями и распродажами, чтобы увеличить конверсию   \n",
       "2  Добавить блоки рекомендаций товаров на сайт интернет магазина, чтобы повысить конверсию и средний чек заказа   \n",
       "1                                     Запустить собственную службу доставки, что сократит срок доставки заказов   \n",
       "5                      Добавить страницу отзывов клиентов о магазине, что позволит увеличить количество заказов   \n",
       "3           Изменить структура категорий, что увеличит конверсию, т.к. пользователи быстрее найдут нужный товар   \n",
       "4                              Изменить цвет фона главной страницы, чтобы увеличить вовлеченность пользователей   \n",
       "\n",
       "     ICE  \n",
       "8  16.20  \n",
       "0  13.33  \n",
       "7  11.20  \n",
       "6   8.00  \n",
       "2   7.00  \n",
       "1   2.00  \n",
       "5   1.33  \n",
       "3   1.12  \n",
       "4   1.00  "
      ]
     },
     "metadata": {},
     "output_type": "display_data"
    }
   ],
   "source": [
    "#Применим фреймворк ICE для приоритизации гипотез. Отсортируем их по убыванию приоритета.\n",
    "\n",
    "hypothesis['ICE'] =  round(hypothesis['impact'] * hypothesis['confidence']/hypothesis['efforts'],2)\n",
    "display(hypothesis[['hypothesis', 'ICE']].sort_values(by = 'ICE', ascending =False))"
   ]
  },
  {
   "cell_type": "code",
   "execution_count": 22,
   "metadata": {},
   "outputs": [
    {
     "data": {
      "text/html": [
       "<div>\n",
       "<style scoped>\n",
       "    .dataframe tbody tr th:only-of-type {\n",
       "        vertical-align: middle;\n",
       "    }\n",
       "\n",
       "    .dataframe tbody tr th {\n",
       "        vertical-align: top;\n",
       "    }\n",
       "\n",
       "    .dataframe thead th {\n",
       "        text-align: right;\n",
       "    }\n",
       "</style>\n",
       "<table border=\"1\" class=\"dataframe\">\n",
       "  <thead>\n",
       "    <tr style=\"text-align: right;\">\n",
       "      <th></th>\n",
       "      <th>hypothesis</th>\n",
       "      <th>RICE</th>\n",
       "    </tr>\n",
       "  </thead>\n",
       "  <tbody>\n",
       "    <tr>\n",
       "      <th>7</th>\n",
       "      <td>Добавить форму подписки на все основные страницы, чтобы собрать базу клиентов для email-рассылок</td>\n",
       "      <td>112.0</td>\n",
       "    </tr>\n",
       "    <tr>\n",
       "      <th>2</th>\n",
       "      <td>Добавить блоки рекомендаций товаров на сайт интернет магазина, чтобы повысить конверсию и средний чек заказа</td>\n",
       "      <td>56.0</td>\n",
       "    </tr>\n",
       "    <tr>\n",
       "      <th>0</th>\n",
       "      <td>Добавить два новых канала привлечения трафика, что позволит привлекать на 30% больше пользователей</td>\n",
       "      <td>40.0</td>\n",
       "    </tr>\n",
       "    <tr>\n",
       "      <th>6</th>\n",
       "      <td>Показать на главной странице баннеры с актуальными акциями и распродажами, чтобы увеличить конверсию</td>\n",
       "      <td>40.0</td>\n",
       "    </tr>\n",
       "    <tr>\n",
       "      <th>8</th>\n",
       "      <td>Запустить акцию, дающую скидку на товар в день рождения</td>\n",
       "      <td>16.2</td>\n",
       "    </tr>\n",
       "    <tr>\n",
       "      <th>3</th>\n",
       "      <td>Изменить структура категорий, что увеличит конверсию, т.к. пользователи быстрее найдут нужный товар</td>\n",
       "      <td>9.0</td>\n",
       "    </tr>\n",
       "    <tr>\n",
       "      <th>1</th>\n",
       "      <td>Запустить собственную службу доставки, что сократит срок доставки заказов</td>\n",
       "      <td>4.0</td>\n",
       "    </tr>\n",
       "    <tr>\n",
       "      <th>5</th>\n",
       "      <td>Добавить страницу отзывов клиентов о магазине, что позволит увеличить количество заказов</td>\n",
       "      <td>4.0</td>\n",
       "    </tr>\n",
       "    <tr>\n",
       "      <th>4</th>\n",
       "      <td>Изменить цвет фона главной страницы, чтобы увеличить вовлеченность пользователей</td>\n",
       "      <td>3.0</td>\n",
       "    </tr>\n",
       "  </tbody>\n",
       "</table>\n",
       "</div>"
      ],
      "text/plain": [
       "                                                                                                     hypothesis  \\\n",
       "7              Добавить форму подписки на все основные страницы, чтобы собрать базу клиентов для email-рассылок   \n",
       "2  Добавить блоки рекомендаций товаров на сайт интернет магазина, чтобы повысить конверсию и средний чек заказа   \n",
       "0            Добавить два новых канала привлечения трафика, что позволит привлекать на 30% больше пользователей   \n",
       "6          Показать на главной странице баннеры с актуальными акциями и распродажами, чтобы увеличить конверсию   \n",
       "8                                                       Запустить акцию, дающую скидку на товар в день рождения   \n",
       "3           Изменить структура категорий, что увеличит конверсию, т.к. пользователи быстрее найдут нужный товар   \n",
       "1                                     Запустить собственную службу доставки, что сократит срок доставки заказов   \n",
       "5                      Добавить страницу отзывов клиентов о магазине, что позволит увеличить количество заказов   \n",
       "4                              Изменить цвет фона главной страницы, чтобы увеличить вовлеченность пользователей   \n",
       "\n",
       "    RICE  \n",
       "7  112.0  \n",
       "2   56.0  \n",
       "0   40.0  \n",
       "6   40.0  \n",
       "8   16.2  \n",
       "3    9.0  \n",
       "1    4.0  \n",
       "5    4.0  \n",
       "4    3.0  "
      ]
     },
     "metadata": {},
     "output_type": "display_data"
    }
   ],
   "source": [
    "#Применим фреймворк RICE для приоритизации гипотез. Отсортируем их по убыванию приоритета.\n",
    "\n",
    "hypothesis['RICE'] = hypothesis['reach'] * hypothesis['impact'] * hypothesis['confidence'] / hypothesis['efforts']\n",
    "display(hypothesis[['hypothesis', 'RICE']].sort_values(by = 'RICE', ascending = False))"
   ]
  },
  {
   "cell_type": "markdown",
   "metadata": {},
   "source": [
    "**Вывод по приоритизации гипотез.** При применении фреймворков RICE и ICE наблюдается схожая картина, когда 5 гипотез с наибольшим приоритетом значительно операжают оставшиеся 4.  При этом эти гипотезы совпадают, только отличается их порядок. При использовании RICE на первое место выходят гипотезы, которые дают наибольший охват в текущем моменте. В лидерах следующие гипотезы (в порядке убывания приоритета):\n",
    "- Добавить форму подписки на все основные страницы, чтобы собрать базу клиентов для email-рассылок\t\n",
    "\n",
    "- Добавить блоки рекомендаций товаров на сайт интернет магазина, чтобы повысить конверсию и средний чек заказа\t\n",
    "\n",
    "- Добавить два новых канала привлечения трафика, что позволит привлекать на 30% больше пользователей\t\n",
    "\n",
    "- Показать на главной странице баннеры с актуальными акциями и распродажами, чтобы увеличить конверсию\t\n",
    "\n",
    "- Запустить акцию, дающую скидку на товар в день рождения\t\n",
    "\n",
    "Для дальнейшего анализа возьмем первую по приоритету гипотезу: Добавить форму подписки на все основные страницы, чтобы собрать базу клиентов для email-рассылок"
   ]
  },
  {
   "cell_type": "markdown",
   "metadata": {},
   "source": [
    "### 3. Анализ A/B-теста  <a id=\"cell3\"></a> </a> <font size = 2>[к оглавлению](#cell0)</font>"
   ]
  },
  {
   "cell_type": "code",
   "execution_count": 23,
   "metadata": {},
   "outputs": [
    {
     "data": {
      "text/plain": [
       "58"
      ]
     },
     "execution_count": 23,
     "metadata": {},
     "output_type": "execute_result"
    }
   ],
   "source": [
    "# Прoверим корректность формирования групп для теста, посмотрим не попали ли одни и теже пользователи в обе группы\n",
    "len(np.intersect1d(orders.query('group == \"A\"')['visitor_id'].unique(), orders.query('group == \"B\"')['visitor_id'].unique()))"
   ]
  },
  {
   "cell_type": "markdown",
   "metadata": {},
   "source": [
    "**Одни и теже пользователи попали в обе группы, вероятно произошла ошибка в сборе данных. Однако удалить этих пользователей мы можем только из таблицы с заказами, т.к. в таблице с визитами у нас хранятся уже агрегированные данные по дням. В идеале нужно либо сформирвоать заново таблицу с визитами, либо проводить тест заново. Однако в нашем случае это не возможно, поэтому продолжим анализ теста.**"
   ]
  },
  {
   "cell_type": "code",
   "execution_count": 24,
   "metadata": {},
   "outputs": [
    {
     "data": {
      "text/html": [
       "<div>\n",
       "<style scoped>\n",
       "    .dataframe tbody tr th:only-of-type {\n",
       "        vertical-align: middle;\n",
       "    }\n",
       "\n",
       "    .dataframe tbody tr th {\n",
       "        vertical-align: top;\n",
       "    }\n",
       "\n",
       "    .dataframe thead th {\n",
       "        text-align: right;\n",
       "    }\n",
       "</style>\n",
       "<table border=\"1\" class=\"dataframe\">\n",
       "  <thead>\n",
       "    <tr style=\"text-align: right;\">\n",
       "      <th></th>\n",
       "      <th>date</th>\n",
       "      <th>group</th>\n",
       "      <th>orders</th>\n",
       "      <th>buyers</th>\n",
       "      <th>revenue</th>\n",
       "      <th>visitors</th>\n",
       "    </tr>\n",
       "  </thead>\n",
       "  <tbody>\n",
       "    <tr>\n",
       "      <th>0</th>\n",
       "      <td>2019-08-01</td>\n",
       "      <td>A</td>\n",
       "      <td>24</td>\n",
       "      <td>20</td>\n",
       "      <td>148579</td>\n",
       "      <td>719</td>\n",
       "    </tr>\n",
       "    <tr>\n",
       "      <th>1</th>\n",
       "      <td>2019-08-01</td>\n",
       "      <td>B</td>\n",
       "      <td>21</td>\n",
       "      <td>20</td>\n",
       "      <td>101217</td>\n",
       "      <td>713</td>\n",
       "    </tr>\n",
       "    <tr>\n",
       "      <th>2</th>\n",
       "      <td>2019-08-02</td>\n",
       "      <td>A</td>\n",
       "      <td>44</td>\n",
       "      <td>38</td>\n",
       "      <td>242401</td>\n",
       "      <td>1338</td>\n",
       "    </tr>\n",
       "    <tr>\n",
       "      <th>3</th>\n",
       "      <td>2019-08-02</td>\n",
       "      <td>B</td>\n",
       "      <td>45</td>\n",
       "      <td>43</td>\n",
       "      <td>266748</td>\n",
       "      <td>1294</td>\n",
       "    </tr>\n",
       "    <tr>\n",
       "      <th>4</th>\n",
       "      <td>2019-08-03</td>\n",
       "      <td>A</td>\n",
       "      <td>68</td>\n",
       "      <td>62</td>\n",
       "      <td>354874</td>\n",
       "      <td>1845</td>\n",
       "    </tr>\n",
       "  </tbody>\n",
       "</table>\n",
       "</div>"
      ],
      "text/plain": [
       "        date group  orders  buyers  revenue  visitors\n",
       "0 2019-08-01     A      24      20   148579       719\n",
       "1 2019-08-01     B      21      20   101217       713\n",
       "2 2019-08-02     A      44      38   242401      1338\n",
       "3 2019-08-02     B      45      43   266748      1294\n",
       "4 2019-08-03     A      68      62   354874      1845"
      ]
     },
     "execution_count": 24,
     "metadata": {},
     "output_type": "execute_result"
    }
   ],
   "source": [
    "# создадим массив уникальных пар значений дат и групп теста, удалим дубликаты\n",
    "datesGroups = orders[['date','group']].drop_duplicates()\n",
    "\n",
    "# получим агрегированные кумулятивные данные по дням о заказах \n",
    "ordersAggregated = datesGroups.apply(\n",
    "    lambda x: orders[\n",
    "        np.logical_and(\n",
    "            orders['date'] <= x['date'], orders['group'] == x['group']\n",
    "        )\n",
    "    ].agg(\n",
    "        {\n",
    "            'date': 'max',\n",
    "            'group': 'max',\n",
    "            'transaction_id': 'nunique',\n",
    "            'visitor_id': 'nunique',\n",
    "            'revenue': 'sum',\n",
    "        }\n",
    "    ),\n",
    "    axis=1,\n",
    ").sort_values(by=['date', 'group'])\n",
    "\n",
    "# получим агрегированные кумулятивные данные по дням о посетителях интернет-магазина \n",
    "visitorsAggregated = datesGroups.apply(\n",
    "    lambda x: visitors[\n",
    "        np.logical_and(\n",
    "            visitors['date'] <= x['date'], visitors['group'] == x['group']\n",
    "        )\n",
    "    ].agg({'date': 'max', 'group': 'max', 'visitors': 'sum'}),\n",
    "    axis=1,\n",
    ").sort_values(by=['date', 'group'])\n",
    "\n",
    "# объединим кумулятивные данные в одной таблице и присвоим ее столбцам понятные названия\n",
    "cumulativeData = ordersAggregated.merge(\n",
    "    visitorsAggregated, left_on=['date', 'group'], right_on=['date', 'group']\n",
    ")\n",
    "cumulativeData.columns = [\n",
    "    'date',\n",
    "    'group',\n",
    "    'orders',\n",
    "    'buyers',\n",
    "    'revenue',\n",
    "    'visitors',\n",
    "]\n",
    "\n",
    "cumulativeData.head(5)"
   ]
  },
  {
   "cell_type": "code",
   "execution_count": 25,
   "metadata": {},
   "outputs": [
    {
     "name": "stdout",
     "output_type": "stream",
     "text": [
      "Дата начала теста 2019-08-01 совпадает\n",
      "Дата окончания теста 2019-08-31 совпадает\n"
     ]
    }
   ],
   "source": [
    "# Проверим корректно ли был содан датафрейм cummulativeData,\n",
    "# совпадают ли min и max даты в этом датафрейме с min и max датой в исходных данных\n",
    "if cumulativeData['date'].min().date()==visitors['date'].min().date():\n",
    "    mini = \"совпадает\"\n",
    "else:\n",
    "    mini = \"не совпадает\"\n",
    "if cumulativeData['date'].max().date()==visitors['date'].max().date():\n",
    "    maxi = \"совпадает\"\n",
    "else:\n",
    "    maxi = \"не совпадает\"    \n",
    "print('Дата начала теста', cumulativeData['date'].min().date(), mini)\n",
    "print('Дата окончания теста', cumulativeData['date'].max().date(), maxi)"
   ]
  },
  {
   "cell_type": "markdown",
   "metadata": {},
   "source": [
    "<b> 3.1. Построим график кумулятивной выручки по группам.</b>"
   ]
  },
  {
   "cell_type": "code",
   "execution_count": 26,
   "metadata": {},
   "outputs": [
    {
     "data": {
      "image/png": "[encoded data removed]",
      "text/plain": [
       "<Figure size 1296x288 with 1 Axes>"
      ]
     },
     "metadata": {
      "needs_background": "light"
     },
     "output_type": "display_data"
    }
   ],
   "source": [
    "# датафрейм с кумулятивным количеством заказов и кумулятивной выручкой по дням в группе А\n",
    "cumulativeRevenueA = cumulativeData[cumulativeData['group']=='A'][['date','revenue', 'orders']]\n",
    "\n",
    "# датафрейм с кумулятивным количеством заказов и кумулятивной выручкой по дням в группе B\n",
    "cumulativeRevenueB = cumulativeData[cumulativeData['group']=='B'][['date','revenue', 'orders']]\n",
    "\n",
    "plt.figure(figsize=(18, 4))\n",
    "# Строим график выручки группы А\n",
    "plt.plot(cumulativeRevenueA['date'], cumulativeRevenueA['revenue'], label='A')\n",
    "\n",
    "# Строим график выручки группы B\n",
    "plt.plot(cumulativeRevenueB['date'], cumulativeRevenueB['revenue'], label='B')\n",
    "\n",
    "plt.suptitle('Динамика кумулятивной выручки')\n",
    "plt.ylabel('Выручка')\n",
    "plt.xlabel('Даты')\n",
    "\n",
    "plt.legend() \n",
    "plt.show()\n"
   ]
  },
  {
   "cell_type": "markdown",
   "metadata": {},
   "source": [
    "**В группах А и В размер выручки увеличивается одинаково до 18 августа. С 19 августа наблюдается существенный отрыв группы В, который может быть обусловлен либо единичными дорогими заказами либо единовременным ростом числа заказов группы В**"
   ]
  },
  {
   "cell_type": "markdown",
   "metadata": {},
   "source": [
    "**3.2. Построим график кумулятивного среднего чека по группам**"
   ]
  },
  {
   "cell_type": "code",
   "execution_count": 27,
   "metadata": {},
   "outputs": [
    {
     "data": {
      "image/png": "[encoded data removed]",
      "text/plain": [
       "<Figure size 1296x288 with 1 Axes>"
      ]
     },
     "metadata": {
      "needs_background": "light"
     },
     "output_type": "display_data"
    }
   ],
   "source": [
    "plt.figure(figsize=(18, 4))\n",
    "plt.plot(cumulativeRevenueA['date'], cumulativeRevenueA['revenue']/cumulativeRevenueA['orders'], label='A')\n",
    "plt.plot(cumulativeRevenueB['date'], cumulativeRevenueB['revenue']/cumulativeRevenueB['orders'], label='B')\n",
    "plt.suptitle('Динамика кумулятивного среднего чека')\n",
    "plt.ylabel('Средний чек')\n",
    "plt.xlabel('Даты')\n",
    "\n",
    "plt.legend() \n",
    "plt.show()"
   ]
  },
  {
   "cell_type": "markdown",
   "metadata": {},
   "source": [
    "**Кумулятивный средний чек группы В существенно увеличивается 19 августа, что свидетельствует о единичных дорогих заказаx**"
   ]
  },
  {
   "cell_type": "markdown",
   "metadata": {},
   "source": [
    "**3.3. Построим график относительного изменения кумулятивного среднего чека группы B к группе A** "
   ]
  },
  {
   "cell_type": "code",
   "execution_count": 28,
   "metadata": {},
   "outputs": [
    {
     "data": {
      "image/png": "[encoded data removed]",
      "text/plain": [
       "<Figure size 1296x288 with 1 Axes>"
      ]
     },
     "metadata": {
      "needs_background": "light"
     },
     "output_type": "display_data"
    }
   ],
   "source": [
    "# собираем данные в одном датафрейме\n",
    "mergedCumulativeRevenue = cumulativeRevenueA.merge(cumulativeRevenueB, left_on='date', right_on='date', how='left', suffixes=['A', 'B'])\n",
    "\n",
    "plt.figure(figsize=(18, 4))\n",
    "# cтроим отношение средних чеков\n",
    "plt.plot(mergedCumulativeRevenue['date'], (mergedCumulativeRevenue['revenueB']/mergedCumulativeRevenue['ordersB'])/(mergedCumulativeRevenue['revenueA']/mergedCumulativeRevenue['ordersA'])-1)\n",
    "\n",
    "# добавляем ось X\n",
    "plt.axhline(y=0, color='black', linestyle='--') \n",
    "\n",
    "plt.suptitle('Динамика отношения средних чеков (В к А)')\n",
    "plt.xlabel('Даты')\n",
    "plt.ylabel('Отношение')\n",
    "plt.show()"
   ]
  },
  {
   "cell_type": "markdown",
   "metadata": {},
   "source": [
    "**В динамике видно резкие скачки в отношении средних чеков, что свидетельсвует о наличии аномальных значений. Средний чек группы В в большинстве случаев существенно выше среднего чека группы А**"
   ]
  },
  {
   "cell_type": "markdown",
   "metadata": {},
   "source": [
    "**3.4. Построим график кумулятивного среднего количества заказов на посетителя по группам**"
   ]
  },
  {
   "cell_type": "code",
   "execution_count": 29,
   "metadata": {},
   "outputs": [
    {
     "data": {
      "image/png": "[encoded data removed]",
      "text/plain": [
       "<Figure size 1296x288 with 1 Axes>"
      ]
     },
     "metadata": {
      "needs_background": "light"
     },
     "output_type": "display_data"
    }
   ],
   "source": [
    "# считаем кумулятивное среднее количество заказов на одного посетителя по группам\n",
    "cumulativeData['conversion'] = cumulativeData['orders']/cumulativeData['visitors']\n",
    "\n",
    "# отделяем данные по группе A\n",
    "cumulativeDataA = cumulativeData[cumulativeData['group']=='A']\n",
    "\n",
    "# отделяем данные по группе B\n",
    "cumulativeDataB = cumulativeData[cumulativeData['group']=='B']\n",
    "\n",
    "# строим графики\n",
    "plt.figure(figsize=(18, 4))\n",
    "plt.plot(cumulativeDataA['date'], cumulativeDataA['conversion'], label='A')\n",
    "plt.plot(cumulativeDataB['date'], cumulativeDataB['conversion'], label='B')\n",
    "plt.suptitle('Динамика кумулятивного среднего количества заказов на посетителя по группам')\n",
    "plt.ylabel('Среднее количество заказов на посетителя')\n",
    "plt.xlabel('Даты')\n",
    "plt.legend()\n",
    "plt.show()"
   ]
  },
  {
   "cell_type": "markdown",
   "metadata": {},
   "source": [
    "**Кумулятивное среднее количество заказов на посетителя в группе В выше чем в группе А стабильно начиная с 6 августа**"
   ]
  },
  {
   "cell_type": "markdown",
   "metadata": {},
   "source": [
    "**3.5. Построим график относительного изменения кумулятивного среднего количества заказов на посетителя группы B к группе A**"
   ]
  },
  {
   "cell_type": "code",
   "execution_count": 30,
   "metadata": {},
   "outputs": [
    {
     "data": {
      "image/png": "[encoded data removed]",
      "text/plain": [
       "<Figure size 1296x288 with 1 Axes>"
      ]
     },
     "metadata": {
      "needs_background": "light"
     },
     "output_type": "display_data"
    }
   ],
   "source": [
    "# Объединим датафреймы cumulativeDataA и cumulativeDataB\n",
    "mergedCumulativeConversions = cumulativeDataA[['date','conversion']].merge(cumulativeDataB[['date','conversion']],\\\n",
    "                                                                           left_on='date',\\\n",
    "                                                                           right_on='date',\\\n",
    "                                                                           how='left',\\\n",
    "                                                                           suffixes=['A', 'B'])\n",
    "\n",
    "plt.figure(figsize=(18, 4))\n",
    "plt.plot(mergedCumulativeConversions['date'],\\\n",
    "         mergedCumulativeConversions['conversionB']/\\\n",
    "         mergedCumulativeConversions['conversionA']-1,\\\n",
    "         label=\"Относительный прирост конверсии группы B относительно группы A\")\n",
    "plt.legend()\n",
    "plt.suptitle('Динамика относительного изменения кумулятивного среднего количества заказов')\n",
    "plt.xlabel('Даты')\n",
    "plt.ylabel('Относительный прирост')\n",
    "plt.axhline(y=0, color='black', linestyle='--')\n",
    "plt.axhline(y=0.1, color='grey', linestyle='--')\n",
    "plt.show()"
   ]
  },
  {
   "cell_type": "markdown",
   "metadata": {},
   "source": [
    "**Кумулятивное среднее группы В относительно группы А стало больше начиная с 6 августа, однако отношение не стабильно, сначала растет, затем немного снижается, но все равно остается больше в группе В.**"
   ]
  },
  {
   "cell_type": "markdown",
   "metadata": {},
   "source": [
    "**3.6. Построим точечный график количества заказов по пользователям**"
   ]
  },
  {
   "cell_type": "code",
   "execution_count": 31,
   "metadata": {},
   "outputs": [],
   "source": [
    "# найдем число заказов по пользователям, создадим датафрейм ordersByUsers c двумя столбцами: 'visitorId' и 'orders'\n",
    "ordersByUsers = (\n",
    "    orders.groupby('visitor_id', as_index=False)\n",
    "    .agg({'transaction_id': 'nunique'})\n",
    ")\n",
    "\n",
    "ordersByUsers.columns = ['visitor_id', 'orders']\n"
   ]
  },
  {
   "cell_type": "code",
   "execution_count": 32,
   "metadata": {},
   "outputs": [
    {
     "data": {
      "image/png": "[encoded data removed]",
      "text/plain": [
       "<Figure size 1296x288 with 1 Axes>"
      ]
     },
     "metadata": {
      "needs_background": "light"
     },
     "output_type": "display_data"
    }
   ],
   "source": [
    "# построим точечный график количества заказов по пользователям\n",
    "x_values = pd.Series(range(0,len(ordersByUsers)))# в прекоде сгенерированны номера наблюдений\n",
    "plt.figure(figsize=(18, 4))\n",
    "plt.scatter(x_values, ordersByUsers['orders']) \n",
    "plt.suptitle('Количество заказов пользователей')\n",
    "plt.ylabel('Количество заказов')\n",
    "plt.xlabel('Пользователи')\n",
    "plt.show()"
   ]
  },
  {
   "cell_type": "markdown",
   "metadata": {},
   "source": [
    "**Из графика видно, что обычно пользователи совершают до 2 заказов включительно**"
   ]
  },
  {
   "cell_type": "markdown",
   "metadata": {},
   "source": [
    "**3.7. Посчитаем 95-й и 99-й перцентили количества заказов на пользователя. Выберем границу для определения аномальных пользователей**"
   ]
  },
  {
   "cell_type": "code",
   "execution_count": 33,
   "metadata": {},
   "outputs": [
    {
     "name": "stdout",
     "output_type": "stream",
     "text": [
      "95-й и 99-й перцентили количества заказов на пользователя составляют соответственно: [2. 4.]\n"
     ]
    }
   ],
   "source": [
    "print('95-й и 99-й перцентили количества заказов на пользователя составляют соответственно:',\\\n",
    "      np.percentile(ordersByUsers['orders'], [95, 99])) "
   ]
  },
  {
   "cell_type": "markdown",
   "metadata": {},
   "source": [
    "**Не более 95% пользователей оформляют 2 и менее заказов, и порядка 1% пользователей оформляют более 4 заказов. Разумно выбрать 4 заказа на 1 пользователя за верхнюю границу, а остальных отсеять как аномальные**"
   ]
  },
  {
   "cell_type": "markdown",
   "metadata": {},
   "source": [
    "**3.8. Построим точечный график стоимостей заказов**"
   ]
  },
  {
   "cell_type": "code",
   "execution_count": 34,
   "metadata": {},
   "outputs": [
    {
     "data": {
      "image/png": "[encoded data removed]",
      "text/plain": [
       "<Figure size 1296x288 with 1 Axes>"
      ]
     },
     "metadata": {
      "needs_background": "light"
     },
     "output_type": "display_data"
    }
   ],
   "source": [
    "x_values = pd.Series(range(0,len(orders['revenue'])))\n",
    "plt.figure(figsize=(18, 4))\n",
    "plt.scatter(x_values, orders['revenue'])\n",
    "plt.suptitle('Стоимость заказов по пользователям')\n",
    "plt.ylabel('Стоимость заказа')\n",
    "plt.xlabel('Пользователи')\n",
    "# plt.ylim(0, 0.2)\n",
    "plt.show()"
   ]
  },
  {
   "cell_type": "markdown",
   "metadata": {},
   "source": [
    "**На графике видны два значительных выброса - заказы с суммой более 1.2 млн руб и 200 тыс. руб.**"
   ]
  },
  {
   "cell_type": "markdown",
   "metadata": {},
   "source": [
    "**Oграничим значения по оси Y. Чтобы двух явных выбросов не было видно и рассмотрим основную часть заказов.**"
   ]
  },
  {
   "cell_type": "code",
   "execution_count": 35,
   "metadata": {},
   "outputs": [
    {
     "data": {
      "image/png": "[encoded data removed]",
      "text/plain": [
       "<Figure size 1296x288 with 1 Axes>"
      ]
     },
     "metadata": {
      "needs_background": "light"
     },
     "output_type": "display_data"
    }
   ],
   "source": [
    "x_values = pd.Series(range(0,len(orders['revenue'])))\n",
    "plt.figure(figsize=(18, 4))\n",
    "plt.scatter(x_values, orders['revenue'])\n",
    "plt.suptitle('Стоимость заказов по пользователям')\n",
    "plt.ylabel('Стоимость заказа')\n",
    "plt.xlabel('Пользователи') \n",
    "plt.ylim(0, 100000)# ограничение по Y\n",
    "plt.show()"
   ]
  },
  {
   "cell_type": "markdown",
   "metadata": {},
   "source": [
    "**Основная масса заказов имеет сумму до 10 тыс.руб.**"
   ]
  },
  {
   "cell_type": "markdown",
   "metadata": {},
   "source": [
    "**3.9. Посчитатаем 95-й и 99-й перцентили количества заказов на пользователя. Выберем границу для определения аномальных пользователей**"
   ]
  },
  {
   "cell_type": "code",
   "execution_count": 36,
   "metadata": {},
   "outputs": [
    {
     "name": "stdout",
     "output_type": "stream",
     "text": [
      "95-й и 99-й перцентили стоимости заказов составляют соответственно: [28000.  58233.2]\n"
     ]
    }
   ],
   "source": [
    "print('95-й и 99-й перцентили стоимости заказов составляют соответственно:', np.percentile(orders['revenue'], [95, 99])) "
   ]
  },
  {
   "cell_type": "markdown",
   "metadata": {},
   "source": [
    "**Не более 95% пользователей оформляют заказы стоимостью до 28 тыс, и порядка 1% пользователей оформляют заказы стоимостью более 58 тыс. Разумно выбрать 99% перцентиль (58233)  за верхнюю границу, а остальные отсеять как аномальные**"
   ]
  },
  {
   "cell_type": "markdown",
   "metadata": {},
   "source": [
    "**3.10. Посчитать статистическую значимость различий в среднем количестве заказов на посетителя между группами по «сырым» данным**"
   ]
  },
  {
   "cell_type": "markdown",
   "metadata": {},
   "source": [
    "Сформулируем гипотезы. \n",
    "\n",
    "`H0 Нулевая`: различий в среднем количестве заказов между группами нет. \n",
    "\n",
    "`H1 Альтернативная`: различия в среднем количестве заказов между группами есть.\n",
    "\n",
    "При проверке гипотез будем применять непараметрический тест Уилкоксона-Манна-Уитни, так как нами зафиксированы выбросы, а данный метод как раз подходит при их наличии. Уровень alpha зададим в размере 0.05"
   ]
  },
  {
   "cell_type": "code",
   "execution_count": 37,
   "metadata": {},
   "outputs": [
    {
     "name": "stdout",
     "output_type": "stream",
     "text": [
      "Среднее количество заказов группе В больше среднего группы А на 13.8 %\n",
      "p-значение:  0.017\n",
      "Отвергаем нулевую гипотезу: разница статистически значима\n"
     ]
    }
   ],
   "source": [
    "alpha = 0.05\n",
    "# Cоздадим переменные ordersByUsersA и ordersByUsersB со столбцами 'user_id' и 'orders'.\n",
    "# Для пользователей, которые заказывали хотя бы 1 раз, укажем число совершённых заказов.\n",
    "ordersByUsersA = ((orders[orders['group'] == 'A']\n",
    "                   .groupby('visitor_id', as_index=False)\n",
    "                   .agg({'transaction_id': pd.Series.nunique}))\n",
    "                 )\n",
    "ordersByUsersA.columns = ['userId', 'orders']\n",
    "\n",
    "ordersByUsersB = ((orders[orders['group'] == 'B']\n",
    "                   .groupby('visitor_id', as_index=False)\n",
    "                   .agg({'transaction_id': pd.Series.nunique}))\n",
    "                 )\n",
    "ordersByUsersB.columns = ['userId', 'orders']\n",
    "\n",
    "# Объявим переменные sampleA и sampleB, в которых пользователям с заказами будет соответствовать число заказов пользователя. \n",
    "# А пользователям без заказов — нули\n",
    "\n",
    "sampleA = (pd.concat([ordersByUsersA['orders'],pd.Series(0, index=np.arange(visitors[visitors['group'] == 'A']['visitors'].\n",
    "                                                        sum() - len(ordersByUsersA['orders'])), name='orders')],axis=0)\n",
    "          )\n",
    "\n",
    "sampleB = (pd.concat([ordersByUsersB['orders'],pd.Series(0, index=np.arange(visitors[visitors['group'] == 'B']['visitors']\n",
    "                                                        .sum() - len(ordersByUsersB['orders'])), name='orders')],axis=0)\n",
    "          )\n",
    "\n",
    "results = stats.mannwhitneyu(sampleA, sampleB)\n",
    "\n",
    "print('Среднее количество заказов группе В больше среднего группы А на',\"{0:.1f}\".format((sampleB.mean() / sampleA.mean() - 1)*100), '%')\n",
    "\n",
    "print('p-значение: ', \"{0:.3f}\".format(results.pvalue))\n",
    "if results.pvalue < alpha:\n",
    "    print('Отвергаем нулевую гипотезу: разница статистически значима')\n",
    "else:\n",
    "    print('Не получилось отвергнуть нулевую гипотезу, вывод о различии сделать нельзя') \n"
   ]
  },
  {
   "cell_type": "markdown",
   "metadata": {},
   "source": [
    "**3.11. Посчитать статистическую значимость различий в среднем чеке заказа между группами по «сырым» данным**"
   ]
  },
  {
   "cell_type": "markdown",
   "metadata": {},
   "source": [
    "Сформулируем гипотезы. \n",
    "\n",
    "`H0 Нулевая`: различий в среднем чеке заказов между группами нет. \n",
    "\n",
    "`H1 Альтернативная`: различия в среднем чеке заказов между группами есть."
   ]
  },
  {
   "cell_type": "code",
   "execution_count": 38,
   "metadata": {},
   "outputs": [
    {
     "name": "stdout",
     "output_type": "stream",
     "text": [
      "Среднее количество заказов группе В больше среднего группы А на  25.9 %\n",
      "p-значение:  0.729\n",
      "Не получилось отвергнуть нулевую гипотезу, вывод о различии сделать нельзя\n"
     ]
    }
   ],
   "source": [
    "results = (stats.mannwhitneyu(orders[orders['group']=='A']['revenue'], orders[orders['group']=='B']['revenue']))\n",
    "\n",
    "print('Среднее количество заказов группе В больше среднего группы А на ',\\\n",
    "       \"{0:.1f}\".format((orders[orders['group']=='B']['revenue'].mean()/\\\n",
    "                         orders[orders['group']=='A']['revenue'].mean()-1)*100), '%')\n",
    "                                                                                          \n",
    "print('p-значение: ', \"{0:.3f}\".format(results.pvalue))\n",
    "if results.pvalue < alpha:\n",
    "    print('Отвергаем нулевую гипотезу: разница статистически значима')\n",
    "else:\n",
    "    print('Не получилось отвергнуть нулевую гипотезу, вывод о различии сделать нельзя') \n"
   ]
  },
  {
   "cell_type": "markdown",
   "metadata": {},
   "source": [
    "**3.12. Посчитать статистическую значимость различий в среднем количестве заказов на посетителя между группами по «очищенным» данным**"
   ]
  },
  {
   "cell_type": "markdown",
   "metadata": {},
   "source": [
    "Примем за аномальных пользователей тех, кто совершил от 4 заказов или совершил заказ дороже 58 000 рублей. Так мы уберём 1% пользователей с наибольшим числом заказов и 1% пользователей с дорогими заказами. Сделаем срезы пользователей с числом заказов больше 4 — usersWithManyOrders и пользователей, совершивших заказы дороже 58 000 — usersWithExpensiveOrders. Объединим их в таблице abnormalUsers. "
   ]
  },
  {
   "cell_type": "code",
   "execution_count": 39,
   "metadata": {},
   "outputs": [
    {
     "name": "stdout",
     "output_type": "stream",
     "text": [
      "1099     148427295\n",
      "949      887908475\n",
      "744      888512513\n",
      "1103    1164614297\n",
      "1136    1307669133\n",
      "dtype: int64\n",
      "Всего аномальных пользователей 15\n"
     ]
    }
   ],
   "source": [
    "usersWithManyOrders = pd.concat(\n",
    "    [\n",
    "        ordersByUsersA[ordersByUsersA['orders'] > np.percentile(ordersByUsers['orders'], 99)]['userId'],\n",
    "        ordersByUsersB[ordersByUsersB['orders'] > np.percentile(ordersByUsers['orders'], 99)]['userId'],\n",
    "    ],\n",
    "    axis=0,\n",
    ")\n",
    "usersWithExpensiveOrders = orders[orders['revenue'] > np.percentile(orders['revenue'],99)]['visitor_id']\n",
    "abnormalUsers = (\n",
    "    pd.concat([usersWithManyOrders, usersWithExpensiveOrders], axis=0)\n",
    "    .drop_duplicates()\n",
    "    .sort_values()\n",
    ")\n",
    "print(abnormalUsers.head(5))\n",
    "print('Всего аномальных пользователей', abnormalUsers.shape[0])"
   ]
  },
  {
   "cell_type": "markdown",
   "metadata": {},
   "source": [
    "Подготовим выборки количества заказов по пользователям по группам теста без аномальных заказов"
   ]
  },
  {
   "cell_type": "code",
   "execution_count": 40,
   "metadata": {},
   "outputs": [],
   "source": [
    "sampleAFiltered = pd.concat(\n",
    "    [ordersByUsersA[np.logical_not(ordersByUsersA['userId'].isin(abnormalUsers))]['orders'],\n",
    "        pd.Series(0,index=np.arange(visitors[visitors['group'] == 'A']['visitors'].sum() - len(ordersByUsersA['orders'])\n",
    "            ),name='orders',),],axis=0,)\n",
    "\n",
    "sampleBFiltered = pd.concat(\n",
    "    [ordersByUsersB[np.logical_not(ordersByUsersB['userId'].isin(abnormalUsers))]['orders'],\n",
    "        pd.Series(0,index=np.arange(visitors[visitors['group'] == 'B']['visitors'].sum() - len(ordersByUsersB['orders'])\n",
    "            ),name='orders',),],axis=0,)"
   ]
  },
  {
   "cell_type": "markdown",
   "metadata": {},
   "source": [
    "Сформулируем гипотезы. \n",
    "\n",
    "`H0 Нулевая`: различий в среднем количестве заказов между группами нет. \n",
    "\n",
    "`H1 Альтернативная`: различия в среднем количестве заказов между группами есть."
   ]
  },
  {
   "cell_type": "code",
   "execution_count": 41,
   "metadata": {},
   "outputs": [
    {
     "name": "stdout",
     "output_type": "stream",
     "text": [
      "Среднее количество заказов группе В больше среднего группы А на  15.3 %\n",
      "p-значение:  0.014\n",
      "Отвергаем нулевую гипотезу: разница статистически значима\n"
     ]
    }
   ],
   "source": [
    "results = stats.mannwhitneyu(sampleAFiltered, sampleBFiltered)\n",
    "\n",
    "print('Среднее количество заказов группе В больше среднего группы А на ',\\\n",
    "      \"{0:.1f}\".format((sampleBFiltered.mean()/sampleAFiltered.mean()-1)*100), '%')\n",
    "\n",
    "print('p-значение: ', \"{0:.3f}\".format(results.pvalue)) \n",
    "if results.pvalue < alpha:\n",
    "    print('Отвергаем нулевую гипотезу: разница статистически значима')\n",
    "else:\n",
    "    print('Не получилось отвергнуть нулевую гипотезу, вывод о различии сделать нельзя') \n"
   ]
  },
  {
   "cell_type": "markdown",
   "metadata": {},
   "source": [
    "**3.13. Посчитать статистическую значимость различий в среднем чеке заказа между группами по «очищенным» данным**"
   ]
  },
  {
   "cell_type": "markdown",
   "metadata": {},
   "source": [
    "Сформулируем гипотезы. \n",
    "\n",
    "`H0 Нулевая`: различий в среднем чеке заказов между группами нет. \n",
    "\n",
    "`H1 Альтернативная`: различия в среднем чеке между группами есть."
   ]
  },
  {
   "cell_type": "code",
   "execution_count": 42,
   "metadata": {},
   "outputs": [
    {
     "name": "stdout",
     "output_type": "stream",
     "text": [
      "Среднее количество заказов группе В меньше среднего группы А на -0.006\n",
      "p-значение:  0.851\n",
      "Не получилось отвергнуть нулевую гипотезу, вывод о различии сделать нельзя\n"
     ]
    }
   ],
   "source": [
    "results = (stats.mannwhitneyu(orders[np.logical_and(orders['group'] == 'A',np.logical_not(orders['visitor_id'].isin(abnormalUsers)),\n",
    "                )]['revenue'],orders[np.logical_and(orders['group'] == 'B',np.logical_not(orders['visitor_id'].isin(abnormalUsers)),\n",
    "                )]['revenue'],))\n",
    "\n",
    "print(('Среднее количество заказов группе В меньше среднего группы А на ' \"{0:.3f}\".format(\n",
    "    orders[np.logical_and(orders['group'] == 'B',np.logical_not(orders['visitor_id'].isin(abnormalUsers)),\n",
    "            )]['revenue'].mean()/ orders[np.logical_and(orders['group'] == 'A',\n",
    "                          np.logical_not(orders['visitor_id'].isin(abnormalUsers)),\n",
    "            )]['revenue'].mean()- 1)) )\n",
    "print('p-значение: ', \"{0:.3f}\".format(results.pvalue)) \n",
    "if results.pvalue < alpha:\n",
    "    print('Отвергаем нулевую гипотезу: разница статистически значима')\n",
    "else:\n",
    "    print('Не получилось отвергнуть нулевую гипотезу, вывод о различии сделать нельзя') \n"
   ]
  },
  {
   "cell_type": "markdown",
   "metadata": {},
   "source": [
    "**3.14. Принять решение по результатам теста и объяснить его** \n",
    "\n",
    "Варианты решений:\n",
    "\n",
    "    1. Остановить тест, зафиксировать победу одной из групп.\n",
    "    2. Остановить тест, зафиксировать отсутствие различий между группами.\n",
    "    3. Продолжить тест"
   ]
  },
  {
   "cell_type": "markdown",
   "metadata": {},
   "source": [
    "**С учетом полученных данных разумнее всего остановить тест, зафиксировав наличие значимых отличий между группами. В группе В статистически значимо большее количество заказов относительно группы А, как по сырым, так и по очищенным данным. \n",
    "Статичтически значимых отличий по сумме заказов между тестовыми группами не выявлено.**\n",
    "\n",
    "**В соотвествии с этим рекомендуется реализация изменений по проверяемой гипотезе: Добавить форму подписки на все основные страницы, чтобы собрать базу клиентов для email-рассылок**"
   ]
  },
  {
   "cell_type": "markdown",
   "metadata": {
    "id": "Jn9XBfZCWVwo"
   },
   "source": [
    "### 4. Общие выводы <a id=\"cell4\"></a> </a> <font size = 2>[к оглавлению](#cell0)</font>"
   ]
  },
  {
   "cell_type": "markdown",
   "metadata": {},
   "source": [
    "#### В рамках исследования для крупного интернет-магазина мы провели анализ гипотез, направленных на увеличение выручки.\n",
    "\n",
    "Данные были загружены, проверены на наличие пропусков и дубликатов. Для дальнейшего анализа были приведены в соответсвие типы данных и стилистическая обработка названий параметров.\n",
    "\n",
    "Была проведена приоретизация гипотез, в результате которой была выбрана следующая: Добавить форму подписки на все основные страницы, чтобы собрать базу клиентов для email-рассылок.\n",
    "\n",
    "В рамках анализа групп А/В теста было выявлено наличие пересеченйи по группам. В связи с этим к результатам исследования стоит отнестись осторожно, либо при возможности и наличии ресурсов - повторить с более корректной процедурой разбиения по группам.\n",
    "\n",
    "При анализе данных о количестве заказов, а также сумм заказов было выявлено наличие аномальных значений.\n",
    "\n",
    "При проведении статистического анализа с использванием непараметрического теста Уилкоксона-Манна-Уитни, который позволяет проводить анализ при наличии выбросов. На основе сырых данных были установлены статистические различия между группами по количеству заказов, а различий в суммах заказов не выявлено. \n",
    "\n",
    "После удаления аномальных пользователей (с количеством заказов более 4, либо с суммой заказов более 58 тыс.) статистически значимые различия между группами по количеству заказов сохранились. По сырым и очищенным данным не были выявлены статистически значимые различия по суммам заказов.\n",
    "\n",
    "В качестве рекомендаций было предложено остановить тест, т.к. выявлены значимые различий между группами. С целью увеличения прибыли необходима реализация изменений: Добавить форму подписки на все основные страницы, чтобы собрать базу клиентов для email-рассылок."
   ]
  }
 ],
 "metadata": {
  "ExecuteTimeLog": [
   {
    "duration": 759,
    "start_time": "2023-01-15T14:03:26.138Z"
   },
   {
    "duration": 1262,
    "start_time": "2023-01-15T14:03:26.900Z"
   },
   {
    "duration": 20,
    "start_time": "2023-01-15T14:03:28.164Z"
   },
   {
    "duration": 122,
    "start_time": "2023-01-15T14:03:28.186Z"
   },
   {
    "duration": 233,
    "start_time": "2023-01-15T14:03:28.310Z"
   },
   {
    "duration": 4,
    "start_time": "2023-01-15T14:03:28.544Z"
   },
   {
    "duration": 180,
    "start_time": "2023-01-15T14:03:28.550Z"
   },
   {
    "duration": 50,
    "start_time": "2023-01-15T14:03:28.732Z"
   },
   {
    "duration": 12,
    "start_time": "2023-01-15T14:03:28.798Z"
   },
   {
    "duration": 22,
    "start_time": "2023-01-15T14:03:28.813Z"
   },
   {
    "duration": 14,
    "start_time": "2023-01-15T14:03:28.837Z"
   },
   {
    "duration": 11,
    "start_time": "2023-01-15T14:03:28.854Z"
   },
   {
    "duration": 14,
    "start_time": "2023-01-15T14:03:28.898Z"
   },
   {
    "duration": 12,
    "start_time": "2023-01-15T14:03:28.916Z"
   },
   {
    "duration": 18,
    "start_time": "2023-01-15T14:03:28.930Z"
   },
   {
    "duration": 8,
    "start_time": "2023-01-15T14:03:28.950Z"
   },
   {
    "duration": 45,
    "start_time": "2023-01-15T14:03:28.960Z"
   },
   {
    "duration": 33,
    "start_time": "2023-01-15T14:03:29.008Z"
   },
   {
    "duration": 17,
    "start_time": "2023-01-15T14:03:29.043Z"
   },
   {
    "duration": 10,
    "start_time": "2023-01-15T14:03:29.063Z"
   },
   {
    "duration": 11,
    "start_time": "2023-01-15T14:03:29.075Z"
   },
   {
    "duration": 29,
    "start_time": "2023-01-15T14:03:29.087Z"
   },
   {
    "duration": 10,
    "start_time": "2023-01-15T14:03:29.118Z"
   },
   {
    "duration": 11,
    "start_time": "2023-01-15T14:03:29.130Z"
   },
   {
    "duration": 16,
    "start_time": "2023-01-15T14:03:29.142Z"
   },
   {
    "duration": 13,
    "start_time": "2023-01-15T14:03:29.161Z"
   },
   {
    "duration": 451,
    "start_time": "2023-01-15T14:03:29.176Z"
   },
   {
    "duration": 6,
    "start_time": "2023-01-15T14:03:29.629Z"
   },
   {
    "duration": 71,
    "start_time": "2023-01-15T14:03:29.636Z"
   },
   {
    "duration": 41,
    "start_time": "2023-01-15T14:03:29.709Z"
   },
   {
    "duration": 53,
    "start_time": "2023-01-15T14:03:29.751Z"
   },
   {
    "duration": 6,
    "start_time": "2023-01-15T14:03:29.806Z"
   },
   {
    "duration": 21,
    "start_time": "2023-01-15T14:03:29.813Z"
   },
   {
    "duration": 25,
    "start_time": "2023-01-15T14:03:29.836Z"
   },
   {
    "duration": 42,
    "start_time": "2023-01-15T14:03:29.863Z"
   },
   {
    "duration": 528,
    "start_time": "2023-01-15T14:03:29.907Z"
   },
   {
    "duration": 21,
    "start_time": "2023-01-15T14:03:30.437Z"
   },
   {
    "duration": 361,
    "start_time": "2023-01-15T14:03:30.460Z"
   },
   {
    "duration": 20,
    "start_time": "2023-01-15T14:03:30.823Z"
   },
   {
    "duration": 48,
    "start_time": "2023-01-15T14:03:30.845Z"
   },
   {
    "duration": 8,
    "start_time": "2023-01-15T14:03:30.898Z"
   },
   {
    "duration": 1540,
    "start_time": "2023-01-15T14:03:30.908Z"
   },
   {
    "duration": 688,
    "start_time": "2023-01-15T14:03:32.450Z"
   },
   {
    "duration": 734,
    "start_time": "2023-01-15T14:03:33.140Z"
   },
   {
    "duration": 793,
    "start_time": "2023-01-15T14:03:33.877Z"
   },
   {
    "duration": 1238,
    "start_time": "2023-01-15T14:03:34.672Z"
   },
   {
    "duration": 1557,
    "start_time": "2023-01-15T14:03:35.913Z"
   },
   {
    "duration": 1257,
    "start_time": "2023-01-15T14:03:37.472Z"
   },
   {
    "duration": 1284,
    "start_time": "2023-01-15T14:03:38.732Z"
   },
   {
    "duration": 1670,
    "start_time": "2023-01-15T14:03:40.018Z"
   },
   {
    "duration": 1628,
    "start_time": "2023-01-15T14:03:41.697Z"
   },
   {
    "duration": 2121,
    "start_time": "2023-01-15T14:03:43.328Z"
   },
   {
    "duration": 1996,
    "start_time": "2023-01-15T14:03:45.450Z"
   },
   {
    "duration": 18,
    "start_time": "2023-01-15T14:03:47.448Z"
   },
   {
    "duration": 1554,
    "start_time": "2023-01-15T14:03:47.468Z"
   },
   {
    "duration": 1769,
    "start_time": "2023-01-15T14:03:49.023Z"
   },
   {
    "duration": 4,
    "start_time": "2023-01-15T14:07:15.502Z"
   },
   {
    "duration": 73,
    "start_time": "2023-01-16T12:59:08.397Z"
   },
   {
    "duration": 43,
    "start_time": "2023-01-16T12:59:27.961Z"
   },
   {
    "duration": 900,
    "start_time": "2023-01-17T07:49:36.235Z"
   },
   {
    "duration": 1657,
    "start_time": "2023-01-17T07:49:37.137Z"
   },
   {
    "duration": 14,
    "start_time": "2023-01-17T07:49:38.796Z"
   },
   {
    "duration": 124,
    "start_time": "2023-01-17T07:49:38.812Z"
   },
   {
    "duration": 353,
    "start_time": "2023-01-17T07:49:38.938Z"
   },
   {
    "duration": 5,
    "start_time": "2023-01-17T07:49:39.292Z"
   },
   {
    "duration": 200,
    "start_time": "2023-01-17T07:49:39.299Z"
   },
   {
    "duration": 62,
    "start_time": "2023-01-17T07:49:39.501Z"
   },
   {
    "duration": 33,
    "start_time": "2023-01-17T07:49:39.577Z"
   },
   {
    "duration": 19,
    "start_time": "2023-01-17T07:49:39.613Z"
   },
   {
    "duration": 57,
    "start_time": "2023-01-17T07:49:39.633Z"
   },
   {
    "duration": 16,
    "start_time": "2023-01-17T07:49:39.692Z"
   },
   {
    "duration": 17,
    "start_time": "2023-01-17T07:49:39.710Z"
   },
   {
    "duration": 20,
    "start_time": "2023-01-17T07:49:39.729Z"
   },
   {
    "duration": 42,
    "start_time": "2023-01-17T07:49:39.757Z"
   },
   {
    "duration": 12,
    "start_time": "2023-01-17T07:49:39.802Z"
   },
   {
    "duration": 10,
    "start_time": "2023-01-17T07:49:39.816Z"
   },
   {
    "duration": 75,
    "start_time": "2023-01-17T07:49:39.829Z"
   },
   {
    "duration": 9,
    "start_time": "2023-01-17T07:49:39.906Z"
   },
   {
    "duration": 15,
    "start_time": "2023-01-17T07:49:39.917Z"
   },
   {
    "duration": 67,
    "start_time": "2023-01-17T07:49:39.934Z"
   },
   {
    "duration": 16,
    "start_time": "2023-01-17T07:49:40.003Z"
   },
   {
    "duration": 13,
    "start_time": "2023-01-17T07:49:40.021Z"
   },
   {
    "duration": 62,
    "start_time": "2023-01-17T07:49:40.036Z"
   },
   {
    "duration": 36,
    "start_time": "2023-01-17T07:49:40.099Z"
   },
   {
    "duration": 60,
    "start_time": "2023-01-17T07:49:40.137Z"
   },
   {
    "duration": 608,
    "start_time": "2023-01-17T07:49:40.198Z"
   },
   {
    "duration": 5,
    "start_time": "2023-01-17T07:49:40.810Z"
   },
   {
    "duration": 63,
    "start_time": "2023-01-17T07:49:40.817Z"
   },
   {
    "duration": 86,
    "start_time": "2023-01-17T07:49:40.882Z"
   },
   {
    "duration": 49,
    "start_time": "2023-01-17T07:49:40.977Z"
   },
   {
    "duration": 4,
    "start_time": "2023-01-17T07:49:41.029Z"
   },
   {
    "duration": 82,
    "start_time": "2023-01-17T07:49:41.035Z"
   },
   {
    "duration": 34,
    "start_time": "2023-01-17T07:49:41.122Z"
   },
   {
    "duration": 40,
    "start_time": "2023-01-17T07:49:41.160Z"
   },
   {
    "duration": 23,
    "start_time": "2023-01-17T07:49:41.202Z"
   },
   {
    "duration": 1021,
    "start_time": "2023-01-17T07:49:41.229Z"
   },
   {
    "duration": 39,
    "start_time": "2023-01-17T07:49:42.263Z"
   },
   {
    "duration": 9,
    "start_time": "2023-01-17T07:49:42.304Z"
   },
   {
    "duration": 35,
    "start_time": "2023-01-17T07:49:42.315Z"
   },
   {
    "duration": 32,
    "start_time": "2023-01-17T07:49:42.361Z"
   },
   {
    "duration": 1947,
    "start_time": "2023-01-17T07:49:42.396Z"
   },
   {
    "duration": 810,
    "start_time": "2023-01-17T07:49:44.344Z"
   },
   {
    "duration": 915,
    "start_time": "2023-01-17T07:49:45.160Z"
   },
   {
    "duration": 943,
    "start_time": "2023-01-17T07:49:46.077Z"
   },
   {
    "duration": 1152,
    "start_time": "2023-01-17T07:49:47.022Z"
   },
   {
    "duration": 1530,
    "start_time": "2023-01-17T07:49:48.176Z"
   },
   {
    "duration": 1650,
    "start_time": "2023-01-17T07:49:49.708Z"
   },
   {
    "duration": 1615,
    "start_time": "2023-01-17T07:49:51.367Z"
   },
   {
    "duration": 2189,
    "start_time": "2023-01-17T07:49:52.984Z"
   },
   {
    "duration": 2268,
    "start_time": "2023-01-17T07:49:55.177Z"
   },
   {
    "duration": 2071,
    "start_time": "2023-01-17T07:49:57.455Z"
   },
   {
    "duration": 2655,
    "start_time": "2023-01-17T07:49:59.528Z"
   },
   {
    "duration": 29,
    "start_time": "2023-01-17T07:50:02.185Z"
   },
   {
    "duration": 2042,
    "start_time": "2023-01-17T07:50:02.216Z"
   },
   {
    "duration": 2167,
    "start_time": "2023-01-17T07:50:04.260Z"
   },
   {
    "duration": 1286,
    "start_time": "2023-02-10T08:28:58.048Z"
   },
   {
    "duration": 4,
    "start_time": "2023-02-10T08:28:59.337Z"
   },
   {
    "duration": 325,
    "start_time": "2023-02-10T08:28:59.343Z"
   },
   {
    "duration": 15,
    "start_time": "2023-02-10T08:28:59.670Z"
   },
   {
    "duration": 16,
    "start_time": "2023-02-10T08:28:59.688Z"
   },
   {
    "duration": 23,
    "start_time": "2023-02-10T08:28:59.706Z"
   },
   {
    "duration": 17,
    "start_time": "2023-02-10T08:28:59.731Z"
   },
   {
    "duration": 14,
    "start_time": "2023-02-10T08:28:59.750Z"
   },
   {
    "duration": 19,
    "start_time": "2023-02-10T08:28:59.766Z"
   },
   {
    "duration": 60,
    "start_time": "2023-02-10T08:28:59.788Z"
   },
   {
    "duration": 31,
    "start_time": "2023-02-10T08:28:59.850Z"
   },
   {
    "duration": 53,
    "start_time": "2023-02-10T08:28:59.883Z"
   },
   {
    "duration": 14,
    "start_time": "2023-02-10T08:28:59.938Z"
   },
   {
    "duration": 13,
    "start_time": "2023-02-10T08:28:59.954Z"
   },
   {
    "duration": 10,
    "start_time": "2023-02-10T08:28:59.969Z"
   },
   {
    "duration": 17,
    "start_time": "2023-02-10T08:28:59.981Z"
   },
   {
    "duration": 32,
    "start_time": "2023-02-10T08:29:00.009Z"
   },
   {
    "duration": 19,
    "start_time": "2023-02-10T08:29:00.043Z"
   },
   {
    "duration": 64,
    "start_time": "2023-02-10T08:29:00.064Z"
   },
   {
    "duration": 372,
    "start_time": "2023-02-10T08:29:00.130Z"
   },
   {
    "duration": 415,
    "start_time": "2023-02-10T08:29:00.510Z"
   },
   {
    "duration": 293,
    "start_time": "2023-02-10T08:29:00.927Z"
   },
   {
    "duration": 342,
    "start_time": "2023-02-10T08:29:01.222Z"
   },
   {
    "duration": 341,
    "start_time": "2023-02-10T08:29:01.566Z"
   },
   {
    "duration": 366,
    "start_time": "2023-02-10T08:29:01.920Z"
   },
   {
    "duration": 11,
    "start_time": "2023-02-10T08:29:02.288Z"
   },
   {
    "duration": 195,
    "start_time": "2023-02-10T08:29:02.303Z"
   },
   {
    "duration": 11,
    "start_time": "2023-02-10T08:29:02.501Z"
   },
   {
    "duration": 229,
    "start_time": "2023-02-10T08:29:02.514Z"
   },
   {
    "duration": 5,
    "start_time": "2023-02-10T08:29:02.745Z"
   },
   {
    "duration": 218,
    "start_time": "2023-02-10T08:29:02.751Z"
   },
   {
    "duration": 32,
    "start_time": "2023-02-10T08:29:02.971Z"
   },
   {
    "duration": 51,
    "start_time": "2023-02-10T08:29:03.005Z"
   },
   {
    "duration": 26,
    "start_time": "2023-02-10T08:29:03.058Z"
   },
   {
    "duration": 71,
    "start_time": "2023-02-10T08:29:03.087Z"
   },
   {
    "duration": 14,
    "start_time": "2023-02-10T08:29:03.160Z"
   },
   {
    "duration": 14,
    "start_time": "2023-02-10T09:12:51.915Z"
   },
   {
    "duration": 38,
    "start_time": "2023-02-10T09:13:02.401Z"
   },
   {
    "duration": 1073,
    "start_time": "2023-02-10T10:45:19.310Z"
   },
   {
    "duration": 16,
    "start_time": "2023-02-10T10:45:20.384Z"
   },
   {
    "duration": 198,
    "start_time": "2023-02-10T10:45:20.409Z"
   },
   {
    "duration": 13,
    "start_time": "2023-02-10T10:45:20.614Z"
   },
   {
    "duration": 14,
    "start_time": "2023-02-10T10:45:20.628Z"
   },
   {
    "duration": 17,
    "start_time": "2023-02-10T10:45:20.644Z"
   },
   {
    "duration": 11,
    "start_time": "2023-02-10T10:45:20.663Z"
   },
   {
    "duration": 26,
    "start_time": "2023-02-10T10:45:20.675Z"
   },
   {
    "duration": 24,
    "start_time": "2023-02-10T10:45:20.707Z"
   },
   {
    "duration": 6,
    "start_time": "2023-02-10T10:45:20.733Z"
   },
   {
    "duration": 16,
    "start_time": "2023-02-10T10:45:20.740Z"
   },
   {
    "duration": 8,
    "start_time": "2023-02-10T10:45:20.758Z"
   },
   {
    "duration": 11,
    "start_time": "2023-02-10T10:45:20.768Z"
   },
   {
    "duration": 7,
    "start_time": "2023-02-10T10:45:20.780Z"
   },
   {
    "duration": 40,
    "start_time": "2023-02-10T10:45:20.788Z"
   },
   {
    "duration": 22,
    "start_time": "2023-02-10T10:45:20.829Z"
   },
   {
    "duration": 15,
    "start_time": "2023-02-10T10:45:20.853Z"
   },
   {
    "duration": 27,
    "start_time": "2023-02-10T10:45:20.869Z"
   },
   {
    "duration": 33,
    "start_time": "2023-02-10T10:45:20.903Z"
   },
   {
    "duration": 289,
    "start_time": "2023-02-10T10:45:20.937Z"
   },
   {
    "duration": 307,
    "start_time": "2023-02-10T10:45:21.228Z"
   },
   {
    "duration": 213,
    "start_time": "2023-02-10T10:45:21.537Z"
   },
   {
    "duration": 291,
    "start_time": "2023-02-10T10:45:21.752Z"
   },
   {
    "duration": 243,
    "start_time": "2023-02-10T10:45:22.045Z"
   },
   {
    "duration": 353,
    "start_time": "2023-02-10T10:45:22.290Z"
   },
   {
    "duration": 8,
    "start_time": "2023-02-10T10:45:22.645Z"
   },
   {
    "duration": 171,
    "start_time": "2023-02-10T10:45:22.655Z"
   },
   {
    "duration": 4,
    "start_time": "2023-02-10T10:45:22.831Z"
   },
   {
    "duration": 190,
    "start_time": "2023-02-10T10:45:22.836Z"
   },
   {
    "duration": 4,
    "start_time": "2023-02-10T10:45:23.028Z"
   },
   {
    "duration": 189,
    "start_time": "2023-02-10T10:45:23.033Z"
   },
   {
    "duration": 11,
    "start_time": "2023-02-10T10:45:23.225Z"
   },
   {
    "duration": 16,
    "start_time": "2023-02-10T10:45:23.238Z"
   },
   {
    "duration": 9,
    "start_time": "2023-02-10T10:45:23.255Z"
   },
   {
    "duration": 55,
    "start_time": "2023-02-10T10:45:23.265Z"
   },
   {
    "duration": 12,
    "start_time": "2023-02-10T10:45:23.324Z"
   }
  ],
  "colab": {
   "provenance": []
  },
  "kernelspec": {
   "display_name": "Python 3 (ipykernel)",
   "language": "python",
   "name": "python3"
  },
  "language_info": {
   "codemirror_mode": {
    "name": "ipython",
    "version": 3
   },
   "file_extension": ".py",
   "mimetype": "text/x-python",
   "name": "python",
   "nbconvert_exporter": "python",
   "pygments_lexer": "ipython3",
   "version": "3.9.7"
  },
  "toc": {
   "base_numbering": 1,
   "nav_menu": {},
   "number_sections": true,
   "sideBar": true,
   "skip_h1_title": true,
   "title_cell": "Table of Contents",
   "title_sidebar": "Contents",
   "toc_cell": false,
   "toc_position": {},
   "toc_section_display": true,
   "toc_window_display": false
  }
 },
 "nbformat": 4,
 "nbformat_minor": 1
}
