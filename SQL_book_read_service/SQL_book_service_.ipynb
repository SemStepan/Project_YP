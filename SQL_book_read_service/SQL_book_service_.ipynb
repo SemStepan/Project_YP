{
 "cells": [
  {
   "cell_type": "markdown",
   "id": "450003d0",
   "metadata": {},
   "source": [
    "## Анализ базы данных крупного сервиса для чтения книг"
   ]
  },
  {
   "cell_type": "markdown",
   "id": "b18a0f23",
   "metadata": {},
   "source": [
    "<b> Описание данных: </b>\n",
    "\n",
    "**Таблица `books`**\n",
    "\n",
    "Содержит данные о книгах:\n",
    "\n",
    "- `book_id` — идентификатор книги;\n",
    "- `author_id` — идентификатор автора;\n",
    "- `title` — название книги;\n",
    "- `num_pages` — количество страниц;\n",
    "- `publication_date` — дата публикации книги;\n",
    "- `publisher_id` — идентификатор издателя.\n",
    "\n",
    "**Таблица `authors`**\n",
    "\n",
    "Содержит данные об авторах:\n",
    "\n",
    "- `author_id` — идентификатор автора;\n",
    "- `author` — имя автора.\n",
    "\n",
    "**Таблица `publishers`**\n",
    "\n",
    "Содержит данные об издательствах:\n",
    "\n",
    "- `publisher_id` — идентификатор издательства;\n",
    "- `publisher` — название издательства;\n",
    "\n",
    "**Таблица `ratings`**\n",
    "\n",
    "Содержит данные о пользовательских оценках книг:\n",
    "\n",
    "- `rating_id` — идентификатор оценки;\n",
    "- `book_id` — идентификатор книги;\n",
    "- `username` — имя пользователя, оставившего оценку;\n",
    "- `rating` — оценка книги.\n",
    "\n",
    "**Таблица `reviews`**\n",
    "\n",
    "Содержит данные о пользовательских обзорах на книги:\n",
    "\n",
    "- `review_id` — идентификатор обзора;\n",
    "- `book_id` — идентификатор книги;\n",
    "- `username` — имя пользователя, написавшего обзор;\n",
    "- `text` — текст обзора."
   ]
  },
  {
   "cell_type": "markdown",
   "id": "1b7b2431",
   "metadata": {},
   "source": [
    "<b> Цель проекта: </b> Проанализировать информацию о книгах, издательствах, авторах и пользовательских обзорах книг, для формирования ценностного приложения для читателей"
   ]
  },
  {
   "cell_type": "markdown",
   "id": "c0b43187",
   "metadata": {},
   "source": [
    "<b>План работы: </b>  <a id=\"cell0\"></a>\n",
    "\n",
    "[1. Загрузка и знакомство с данными](#cell1)\n",
    "\n",
    "\n",
    "2. SQL-запросы для решения заданий: \n",
    "\n",
    "   [2.1 Определение количества книг вышедших после 1 января 2000 года](#cell2)\n",
    "   \n",
    "   [2.2 Определение количества обзоров и средней оценки для каждой книги](#cell3)\n",
    "   \n",
    "   [2.3 Определение издательства, которое выпустило наибольшее число книг толще 50 страниц](#cell4)\n",
    "   \n",
    "   [2.4 Определение автора с самой высокой средней оценкой книг — учитываются только книги с 50 и более оценками](#cell5)\n",
    "   \n",
    "   [2.5 Расчет среднего количества обзоров от пользователей, которые поставили больше 50 оценок](#cell6)\n",
    "   \n",
    "   \n",
    "[3. Общий вывод](#cell7)\n"
   ]
  },
  {
   "cell_type": "markdown",
   "id": "ce95182b",
   "metadata": {},
   "source": [
    "## 1. Загрузка и знакомство с данными   <a id=\"cell1\"></a>  <font size = 2>[к оглавлению](#cell0)</font>"
   ]
  },
  {
   "cell_type": "code",
   "execution_count": 1,
   "id": "a034a948",
   "metadata": {},
   "outputs": [],
   "source": [
    "import pandas as pd\n",
    "#from sqlalchemy import create_engine\n",
    "from sqlalchemy import create_engine, text"
   ]
  },
  {
   "cell_type": "markdown",
   "id": "d3a5700b",
   "metadata": {},
   "source": [
    "Доступ к базе данных"
   ]
  },
  {
   "cell_type": "code",
   "execution_count": 2,
   "id": "b52f53a5",
   "metadata": {},
   "outputs": [],
   "source": [
    "# устанавливаем параметры\n",
    "db_config = {'user': 'praktikum_student', # имя пользователя\n",
    "'pwd': 'Sdf4$2;d-d30pp', # пароль\n",
    "'host': 'rc1b-wcoijxj3yxfsf3fs.mdb.yandexcloud.net',\n",
    "'port': 6432, # порт подключения\n",
    "'db': 'data-analyst-final-project-db'} # название базы данных\n",
    "connection_string = 'postgresql://{}:{}@{}:{}/{}'.format(db_config['user'],\n",
    " db_config['pwd'],\n",
    " db_config['host'],\n",
    " db_config['port'],\n",
    " db_config['db'])\n",
    "# сохраняем коннектор\n",
    "engine = create_engine(connection_string, connect_args={'sslmode':'require'})\n",
    "\n"
   ]
  },
  {
   "cell_type": "markdown",
   "id": "ca699564",
   "metadata": {},
   "source": [
    "Выведем первые строки всех исследуемых таблиц"
   ]
  },
  {
   "cell_type": "code",
   "execution_count": 3,
   "id": "bfe8dad8",
   "metadata": {},
   "outputs": [],
   "source": [
    "def result(table): # создадим функцию для запроса таблиц\n",
    "    query = f'''\n",
    "            SELECT *\n",
    "            FROM {table}\n",
    "            LIMIT 5\n",
    "            '''\n",
    "    return pd.DataFrame(engine.connect().execute(text(query)))"
   ]
  },
  {
   "cell_type": "code",
   "execution_count": 4,
   "id": "4d990c0a",
   "metadata": {},
   "outputs": [
    {
     "name": "stdout",
     "output_type": "stream",
     "text": [
      "Таблица books\n"
     ]
    },
    {
     "data": {
      "text/html": [
       "<div>\n",
       "<style scoped>\n",
       "    .dataframe tbody tr th:only-of-type {\n",
       "        vertical-align: middle;\n",
       "    }\n",
       "\n",
       "    .dataframe tbody tr th {\n",
       "        vertical-align: top;\n",
       "    }\n",
       "\n",
       "    .dataframe thead th {\n",
       "        text-align: right;\n",
       "    }\n",
       "</style>\n",
       "<table border=\"1\" class=\"dataframe\">\n",
       "  <thead>\n",
       "    <tr style=\"text-align: right;\">\n",
       "      <th></th>\n",
       "      <th>book_id</th>\n",
       "      <th>author_id</th>\n",
       "      <th>title</th>\n",
       "      <th>num_pages</th>\n",
       "      <th>publication_date</th>\n",
       "      <th>publisher_id</th>\n",
       "    </tr>\n",
       "  </thead>\n",
       "  <tbody>\n",
       "    <tr>\n",
       "      <th>0</th>\n",
       "      <td>1</td>\n",
       "      <td>546</td>\n",
       "      <td>'Salem's Lot</td>\n",
       "      <td>594</td>\n",
       "      <td>2005-11-01</td>\n",
       "      <td>93</td>\n",
       "    </tr>\n",
       "    <tr>\n",
       "      <th>1</th>\n",
       "      <td>2</td>\n",
       "      <td>465</td>\n",
       "      <td>1 000 Places to See Before You Die</td>\n",
       "      <td>992</td>\n",
       "      <td>2003-05-22</td>\n",
       "      <td>336</td>\n",
       "    </tr>\n",
       "    <tr>\n",
       "      <th>2</th>\n",
       "      <td>3</td>\n",
       "      <td>407</td>\n",
       "      <td>13 Little Blue Envelopes (Little Blue Envelope...</td>\n",
       "      <td>322</td>\n",
       "      <td>2010-12-21</td>\n",
       "      <td>135</td>\n",
       "    </tr>\n",
       "    <tr>\n",
       "      <th>3</th>\n",
       "      <td>4</td>\n",
       "      <td>82</td>\n",
       "      <td>1491: New Revelations of the Americas Before C...</td>\n",
       "      <td>541</td>\n",
       "      <td>2006-10-10</td>\n",
       "      <td>309</td>\n",
       "    </tr>\n",
       "    <tr>\n",
       "      <th>4</th>\n",
       "      <td>5</td>\n",
       "      <td>125</td>\n",
       "      <td>1776</td>\n",
       "      <td>386</td>\n",
       "      <td>2006-07-04</td>\n",
       "      <td>268</td>\n",
       "    </tr>\n",
       "  </tbody>\n",
       "</table>\n",
       "</div>"
      ],
      "text/plain": [
       "   book_id  author_id                                              title  \\\n",
       "0        1        546                                       'Salem's Lot   \n",
       "1        2        465                 1 000 Places to See Before You Die   \n",
       "2        3        407  13 Little Blue Envelopes (Little Blue Envelope...   \n",
       "3        4         82  1491: New Revelations of the Americas Before C...   \n",
       "4        5        125                                               1776   \n",
       "\n",
       "   num_pages publication_date  publisher_id  \n",
       "0        594       2005-11-01            93  \n",
       "1        992       2003-05-22           336  \n",
       "2        322       2010-12-21           135  \n",
       "3        541       2006-10-10           309  \n",
       "4        386       2006-07-04           268  "
      ]
     },
     "metadata": {},
     "output_type": "display_data"
    },
    {
     "name": "stdout",
     "output_type": "stream",
     "text": [
      "Таблица authors\n"
     ]
    },
    {
     "data": {
      "text/html": [
       "<div>\n",
       "<style scoped>\n",
       "    .dataframe tbody tr th:only-of-type {\n",
       "        vertical-align: middle;\n",
       "    }\n",
       "\n",
       "    .dataframe tbody tr th {\n",
       "        vertical-align: top;\n",
       "    }\n",
       "\n",
       "    .dataframe thead th {\n",
       "        text-align: right;\n",
       "    }\n",
       "</style>\n",
       "<table border=\"1\" class=\"dataframe\">\n",
       "  <thead>\n",
       "    <tr style=\"text-align: right;\">\n",
       "      <th></th>\n",
       "      <th>author_id</th>\n",
       "      <th>author</th>\n",
       "    </tr>\n",
       "  </thead>\n",
       "  <tbody>\n",
       "    <tr>\n",
       "      <th>0</th>\n",
       "      <td>1</td>\n",
       "      <td>A.S. Byatt</td>\n",
       "    </tr>\n",
       "    <tr>\n",
       "      <th>1</th>\n",
       "      <td>2</td>\n",
       "      <td>Aesop/Laura Harris/Laura Gibbs</td>\n",
       "    </tr>\n",
       "    <tr>\n",
       "      <th>2</th>\n",
       "      <td>3</td>\n",
       "      <td>Agatha Christie</td>\n",
       "    </tr>\n",
       "    <tr>\n",
       "      <th>3</th>\n",
       "      <td>4</td>\n",
       "      <td>Alan Brennert</td>\n",
       "    </tr>\n",
       "    <tr>\n",
       "      <th>4</th>\n",
       "      <td>5</td>\n",
       "      <td>Alan Moore/David   Lloyd</td>\n",
       "    </tr>\n",
       "  </tbody>\n",
       "</table>\n",
       "</div>"
      ],
      "text/plain": [
       "   author_id                          author\n",
       "0          1                      A.S. Byatt\n",
       "1          2  Aesop/Laura Harris/Laura Gibbs\n",
       "2          3                 Agatha Christie\n",
       "3          4                   Alan Brennert\n",
       "4          5        Alan Moore/David   Lloyd"
      ]
     },
     "metadata": {},
     "output_type": "display_data"
    },
    {
     "name": "stdout",
     "output_type": "stream",
     "text": [
      "Таблица publishers\n"
     ]
    },
    {
     "data": {
      "text/html": [
       "<div>\n",
       "<style scoped>\n",
       "    .dataframe tbody tr th:only-of-type {\n",
       "        vertical-align: middle;\n",
       "    }\n",
       "\n",
       "    .dataframe tbody tr th {\n",
       "        vertical-align: top;\n",
       "    }\n",
       "\n",
       "    .dataframe thead th {\n",
       "        text-align: right;\n",
       "    }\n",
       "</style>\n",
       "<table border=\"1\" class=\"dataframe\">\n",
       "  <thead>\n",
       "    <tr style=\"text-align: right;\">\n",
       "      <th></th>\n",
       "      <th>publisher_id</th>\n",
       "      <th>publisher</th>\n",
       "    </tr>\n",
       "  </thead>\n",
       "  <tbody>\n",
       "    <tr>\n",
       "      <th>0</th>\n",
       "      <td>1</td>\n",
       "      <td>Ace</td>\n",
       "    </tr>\n",
       "    <tr>\n",
       "      <th>1</th>\n",
       "      <td>2</td>\n",
       "      <td>Ace Book</td>\n",
       "    </tr>\n",
       "    <tr>\n",
       "      <th>2</th>\n",
       "      <td>3</td>\n",
       "      <td>Ace Books</td>\n",
       "    </tr>\n",
       "    <tr>\n",
       "      <th>3</th>\n",
       "      <td>4</td>\n",
       "      <td>Ace Hardcover</td>\n",
       "    </tr>\n",
       "    <tr>\n",
       "      <th>4</th>\n",
       "      <td>5</td>\n",
       "      <td>Addison Wesley Publishing Company</td>\n",
       "    </tr>\n",
       "  </tbody>\n",
       "</table>\n",
       "</div>"
      ],
      "text/plain": [
       "   publisher_id                          publisher\n",
       "0             1                                Ace\n",
       "1             2                           Ace Book\n",
       "2             3                          Ace Books\n",
       "3             4                      Ace Hardcover\n",
       "4             5  Addison Wesley Publishing Company"
      ]
     },
     "metadata": {},
     "output_type": "display_data"
    },
    {
     "name": "stdout",
     "output_type": "stream",
     "text": [
      "Таблица ratings\n"
     ]
    },
    {
     "data": {
      "text/html": [
       "<div>\n",
       "<style scoped>\n",
       "    .dataframe tbody tr th:only-of-type {\n",
       "        vertical-align: middle;\n",
       "    }\n",
       "\n",
       "    .dataframe tbody tr th {\n",
       "        vertical-align: top;\n",
       "    }\n",
       "\n",
       "    .dataframe thead th {\n",
       "        text-align: right;\n",
       "    }\n",
       "</style>\n",
       "<table border=\"1\" class=\"dataframe\">\n",
       "  <thead>\n",
       "    <tr style=\"text-align: right;\">\n",
       "      <th></th>\n",
       "      <th>rating_id</th>\n",
       "      <th>book_id</th>\n",
       "      <th>username</th>\n",
       "      <th>rating</th>\n",
       "    </tr>\n",
       "  </thead>\n",
       "  <tbody>\n",
       "    <tr>\n",
       "      <th>0</th>\n",
       "      <td>1</td>\n",
       "      <td>1</td>\n",
       "      <td>ryanfranco</td>\n",
       "      <td>4</td>\n",
       "    </tr>\n",
       "    <tr>\n",
       "      <th>1</th>\n",
       "      <td>2</td>\n",
       "      <td>1</td>\n",
       "      <td>grantpatricia</td>\n",
       "      <td>2</td>\n",
       "    </tr>\n",
       "    <tr>\n",
       "      <th>2</th>\n",
       "      <td>3</td>\n",
       "      <td>1</td>\n",
       "      <td>brandtandrea</td>\n",
       "      <td>5</td>\n",
       "    </tr>\n",
       "    <tr>\n",
       "      <th>3</th>\n",
       "      <td>4</td>\n",
       "      <td>2</td>\n",
       "      <td>lorichen</td>\n",
       "      <td>3</td>\n",
       "    </tr>\n",
       "    <tr>\n",
       "      <th>4</th>\n",
       "      <td>5</td>\n",
       "      <td>2</td>\n",
       "      <td>mariokeller</td>\n",
       "      <td>2</td>\n",
       "    </tr>\n",
       "  </tbody>\n",
       "</table>\n",
       "</div>"
      ],
      "text/plain": [
       "   rating_id  book_id       username  rating\n",
       "0          1        1     ryanfranco       4\n",
       "1          2        1  grantpatricia       2\n",
       "2          3        1   brandtandrea       5\n",
       "3          4        2       lorichen       3\n",
       "4          5        2    mariokeller       2"
      ]
     },
     "metadata": {},
     "output_type": "display_data"
    },
    {
     "name": "stdout",
     "output_type": "stream",
     "text": [
      "Таблица reviews\n"
     ]
    },
    {
     "data": {
      "text/html": [
       "<div>\n",
       "<style scoped>\n",
       "    .dataframe tbody tr th:only-of-type {\n",
       "        vertical-align: middle;\n",
       "    }\n",
       "\n",
       "    .dataframe tbody tr th {\n",
       "        vertical-align: top;\n",
       "    }\n",
       "\n",
       "    .dataframe thead th {\n",
       "        text-align: right;\n",
       "    }\n",
       "</style>\n",
       "<table border=\"1\" class=\"dataframe\">\n",
       "  <thead>\n",
       "    <tr style=\"text-align: right;\">\n",
       "      <th></th>\n",
       "      <th>review_id</th>\n",
       "      <th>book_id</th>\n",
       "      <th>username</th>\n",
       "      <th>text</th>\n",
       "    </tr>\n",
       "  </thead>\n",
       "  <tbody>\n",
       "    <tr>\n",
       "      <th>0</th>\n",
       "      <td>1</td>\n",
       "      <td>1</td>\n",
       "      <td>brandtandrea</td>\n",
       "      <td>Mention society tell send professor analysis. ...</td>\n",
       "    </tr>\n",
       "    <tr>\n",
       "      <th>1</th>\n",
       "      <td>2</td>\n",
       "      <td>1</td>\n",
       "      <td>ryanfranco</td>\n",
       "      <td>Foot glass pretty audience hit themselves. Amo...</td>\n",
       "    </tr>\n",
       "    <tr>\n",
       "      <th>2</th>\n",
       "      <td>3</td>\n",
       "      <td>2</td>\n",
       "      <td>lorichen</td>\n",
       "      <td>Listen treat keep worry. Miss husband tax but ...</td>\n",
       "    </tr>\n",
       "    <tr>\n",
       "      <th>3</th>\n",
       "      <td>4</td>\n",
       "      <td>3</td>\n",
       "      <td>johnsonamanda</td>\n",
       "      <td>Finally month interesting blue could nature cu...</td>\n",
       "    </tr>\n",
       "    <tr>\n",
       "      <th>4</th>\n",
       "      <td>5</td>\n",
       "      <td>3</td>\n",
       "      <td>scotttamara</td>\n",
       "      <td>Nation purpose heavy give wait song will. List...</td>\n",
       "    </tr>\n",
       "  </tbody>\n",
       "</table>\n",
       "</div>"
      ],
      "text/plain": [
       "   review_id  book_id       username  \\\n",
       "0          1        1   brandtandrea   \n",
       "1          2        1     ryanfranco   \n",
       "2          3        2       lorichen   \n",
       "3          4        3  johnsonamanda   \n",
       "4          5        3    scotttamara   \n",
       "\n",
       "                                                text  \n",
       "0  Mention society tell send professor analysis. ...  \n",
       "1  Foot glass pretty audience hit themselves. Amo...  \n",
       "2  Listen treat keep worry. Miss husband tax but ...  \n",
       "3  Finally month interesting blue could nature cu...  \n",
       "4  Nation purpose heavy give wait song will. List...  "
      ]
     },
     "metadata": {},
     "output_type": "display_data"
    }
   ],
   "source": [
    "for tab in ['books', 'authors', 'publishers', 'ratings', 'reviews']:\n",
    "    print('Таблица', tab)\n",
    "    display(result(tab))"
   ]
  },
  {
   "cell_type": "markdown",
   "id": "82decfcd",
   "metadata": {},
   "source": [
    "## 2. SQL-запросы для решения заданий "
   ]
  },
  {
   "cell_type": "markdown",
   "id": "e8cbfbc7",
   "metadata": {},
   "source": [
    "Создадим функцию для выведения результатов запросов"
   ]
  },
  {
   "cell_type": "code",
   "execution_count": 5,
   "id": "8bced41f",
   "metadata": {},
   "outputs": [],
   "source": [
    "def result(query): \n",
    "    return pd.DataFrame(engine.connect().execute(text(query)))"
   ]
  },
  {
   "cell_type": "markdown",
   "id": "fef769fd",
   "metadata": {},
   "source": [
    "### 2.1 Определение количества вышедших книг после 1 января 2000 года <a id=\"cell2\"></a>  <font size = 2>[к оглавлению](#cell0)</font>"
   ]
  },
  {
   "cell_type": "code",
   "execution_count": 6,
   "id": "4905865b",
   "metadata": {},
   "outputs": [
    {
     "data": {
      "text/html": [
       "<div>\n",
       "<style scoped>\n",
       "    .dataframe tbody tr th:only-of-type {\n",
       "        vertical-align: middle;\n",
       "    }\n",
       "\n",
       "    .dataframe tbody tr th {\n",
       "        vertical-align: top;\n",
       "    }\n",
       "\n",
       "    .dataframe thead th {\n",
       "        text-align: right;\n",
       "    }\n",
       "</style>\n",
       "<table border=\"1\" class=\"dataframe\">\n",
       "  <thead>\n",
       "    <tr style=\"text-align: right;\">\n",
       "      <th></th>\n",
       "      <th>count_books</th>\n",
       "    </tr>\n",
       "  </thead>\n",
       "  <tbody>\n",
       "    <tr>\n",
       "      <th>0</th>\n",
       "      <td>819</td>\n",
       "    </tr>\n",
       "  </tbody>\n",
       "</table>\n",
       "</div>"
      ],
      "text/plain": [
       "   count_books\n",
       "0          819"
      ]
     },
     "execution_count": 6,
     "metadata": {},
     "output_type": "execute_result"
    }
   ],
   "source": [
    "query = '''\n",
    "            SELECT count(book_id) as count_books\n",
    "            FROM books\n",
    "            WHERE publication_date > '2000-01-01'\n",
    "            ''' \n",
    "result(query)"
   ]
  },
  {
   "cell_type": "markdown",
   "id": "e1a92d43",
   "metadata": {},
   "source": [
    "После 1 января 2000 года было опубликовано 819 книг."
   ]
  },
  {
   "cell_type": "markdown",
   "id": "e33c0e32",
   "metadata": {},
   "source": [
    "### 2.2 Определение количества обзоров и средней оценки для каждой книги <a id=\"cell3\"></a>  <font size = 2>[к оглавлению](#cell0)</font>"
   ]
  },
  {
   "cell_type": "code",
   "execution_count": 7,
   "id": "9b715858",
   "metadata": {},
   "outputs": [
    {
     "data": {
      "text/html": [
       "<div>\n",
       "<style scoped>\n",
       "    .dataframe tbody tr th:only-of-type {\n",
       "        vertical-align: middle;\n",
       "    }\n",
       "\n",
       "    .dataframe tbody tr th {\n",
       "        vertical-align: top;\n",
       "    }\n",
       "\n",
       "    .dataframe thead th {\n",
       "        text-align: right;\n",
       "    }\n",
       "</style>\n",
       "<table border=\"1\" class=\"dataframe\">\n",
       "  <thead>\n",
       "    <tr style=\"text-align: right;\">\n",
       "      <th></th>\n",
       "      <th>title</th>\n",
       "      <th>reviews_count</th>\n",
       "      <th>rating_avg</th>\n",
       "    </tr>\n",
       "  </thead>\n",
       "  <tbody>\n",
       "    <tr>\n",
       "      <th>0</th>\n",
       "      <td>A Dirty Job (Grim Reaper  #1)</td>\n",
       "      <td>4</td>\n",
       "      <td>5.00</td>\n",
       "    </tr>\n",
       "    <tr>\n",
       "      <th>1</th>\n",
       "      <td>School's Out—Forever (Maximum Ride  #2)</td>\n",
       "      <td>3</td>\n",
       "      <td>5.00</td>\n",
       "    </tr>\n",
       "    <tr>\n",
       "      <th>2</th>\n",
       "      <td>Moneyball: The Art of Winning an Unfair Game</td>\n",
       "      <td>3</td>\n",
       "      <td>5.00</td>\n",
       "    </tr>\n",
       "    <tr>\n",
       "      <th>3</th>\n",
       "      <td>The Big Bad Wolf  (Alex Cross  #9)</td>\n",
       "      <td>2</td>\n",
       "      <td>5.00</td>\n",
       "    </tr>\n",
       "    <tr>\n",
       "      <th>4</th>\n",
       "      <td>Welcome to Temptation (Dempseys  #1)</td>\n",
       "      <td>2</td>\n",
       "      <td>5.00</td>\n",
       "    </tr>\n",
       "    <tr>\n",
       "      <th>...</th>\n",
       "      <td>...</td>\n",
       "      <td>...</td>\n",
       "      <td>...</td>\n",
       "    </tr>\n",
       "    <tr>\n",
       "      <th>995</th>\n",
       "      <td>The World Is Flat: A Brief History of the Twen...</td>\n",
       "      <td>3</td>\n",
       "      <td>2.25</td>\n",
       "    </tr>\n",
       "    <tr>\n",
       "      <th>996</th>\n",
       "      <td>Drowning Ruth</td>\n",
       "      <td>3</td>\n",
       "      <td>2.00</td>\n",
       "    </tr>\n",
       "    <tr>\n",
       "      <th>997</th>\n",
       "      <td>His Excellency: George Washington</td>\n",
       "      <td>2</td>\n",
       "      <td>2.00</td>\n",
       "    </tr>\n",
       "    <tr>\n",
       "      <th>998</th>\n",
       "      <td>Junky</td>\n",
       "      <td>2</td>\n",
       "      <td>2.00</td>\n",
       "    </tr>\n",
       "    <tr>\n",
       "      <th>999</th>\n",
       "      <td>Harvesting the Heart</td>\n",
       "      <td>2</td>\n",
       "      <td>1.50</td>\n",
       "    </tr>\n",
       "  </tbody>\n",
       "</table>\n",
       "<p>1000 rows × 3 columns</p>\n",
       "</div>"
      ],
      "text/plain": [
       "                                                 title  reviews_count  \\\n",
       "0                        A Dirty Job (Grim Reaper  #1)              4   \n",
       "1              School's Out—Forever (Maximum Ride  #2)              3   \n",
       "2         Moneyball: The Art of Winning an Unfair Game              3   \n",
       "3                   The Big Bad Wolf  (Alex Cross  #9)              2   \n",
       "4                 Welcome to Temptation (Dempseys  #1)              2   \n",
       "..                                                 ...            ...   \n",
       "995  The World Is Flat: A Brief History of the Twen...              3   \n",
       "996                                      Drowning Ruth              3   \n",
       "997                  His Excellency: George Washington              2   \n",
       "998                                              Junky              2   \n",
       "999                               Harvesting the Heart              2   \n",
       "\n",
       "    rating_avg  \n",
       "0         5.00  \n",
       "1         5.00  \n",
       "2         5.00  \n",
       "3         5.00  \n",
       "4         5.00  \n",
       "..         ...  \n",
       "995       2.25  \n",
       "996       2.00  \n",
       "997       2.00  \n",
       "998       2.00  \n",
       "999       1.50  \n",
       "\n",
       "[1000 rows x 3 columns]"
      ]
     },
     "execution_count": 7,
     "metadata": {},
     "output_type": "execute_result"
    }
   ],
   "source": [
    "query = '''\n",
    "        SELECT title,\n",
    "               COUNT(DISTINCT review_id) as reviews_count,\n",
    "               ROUND(AVG(rating), 2) as rating_avg\n",
    "        FROM books b\n",
    "        LEFT JOIN ratings ra ON b.book_id=ra.book_id\n",
    "        LEFT JOIN reviews re ON b.book_id=re.book_id\n",
    "        GROUP BY b.book_id\n",
    "        ORDER BY rating_avg DESC,\n",
    "                 reviews_count DESC\n",
    "            ''' \n",
    "result(query)"
   ]
  },
  {
   "cell_type": "markdown",
   "id": "cf9de618",
   "metadata": {},
   "source": [
    "Всего в исследовании участвуют 1000 книг, которые отсортированы по количеству обзоров пользователей и среднему рейтингу. Самой популярной книгой является \"A Dirty Job\". Наименьший рейтинг имеет книга \"Harvesting the Heart\"."
   ]
  },
  {
   "cell_type": "markdown",
   "id": "573a374a",
   "metadata": {},
   "source": [
    "### 2.3 Определение издательства, которое выпустило наибольшее число книг толще 50 страниц <a id=\"cell4\"></a>  <font size = 2>[к оглавлению](#cell0)</font>"
   ]
  },
  {
   "cell_type": "code",
   "execution_count": 8,
   "id": "793857ce",
   "metadata": {},
   "outputs": [
    {
     "data": {
      "text/html": [
       "<div>\n",
       "<style scoped>\n",
       "    .dataframe tbody tr th:only-of-type {\n",
       "        vertical-align: middle;\n",
       "    }\n",
       "\n",
       "    .dataframe tbody tr th {\n",
       "        vertical-align: top;\n",
       "    }\n",
       "\n",
       "    .dataframe thead th {\n",
       "        text-align: right;\n",
       "    }\n",
       "</style>\n",
       "<table border=\"1\" class=\"dataframe\">\n",
       "  <thead>\n",
       "    <tr style=\"text-align: right;\">\n",
       "      <th></th>\n",
       "      <th>publisher</th>\n",
       "      <th>count_max</th>\n",
       "    </tr>\n",
       "  </thead>\n",
       "  <tbody>\n",
       "    <tr>\n",
       "      <th>0</th>\n",
       "      <td>Penguin Books</td>\n",
       "      <td>42</td>\n",
       "    </tr>\n",
       "  </tbody>\n",
       "</table>\n",
       "</div>"
      ],
      "text/plain": [
       "       publisher  count_max\n",
       "0  Penguin Books         42"
      ]
     },
     "execution_count": 8,
     "metadata": {},
     "output_type": "execute_result"
    }
   ],
   "source": [
    "query = '''\n",
    "            SELECT p.publisher,\n",
    "                   COUNT(b.book_id) as count_max \n",
    "            FROM books b\n",
    "            LEFT JOIN publishers p ON p.publisher_id = b.publisher_id \n",
    "            WHERE b.num_pages > 50\n",
    "            GROUP BY p.publisher\n",
    "            ORDER BY count_max DESC\n",
    "            LIMIT 1\n",
    "            ''' \n",
    "result(query)"
   ]
  },
  {
   "cell_type": "markdown",
   "id": "4865a34a",
   "metadata": {},
   "source": [
    "Издательство Penguin Books выпустило наибольшее число уникальных изданий, не учитывая брошюры."
   ]
  },
  {
   "cell_type": "markdown",
   "id": "735fb055",
   "metadata": {},
   "source": [
    "### 2.4 Определение автора с самой высокой средней оценкой книг — учитываются только книги с 50 и более оценками <a id=\"cell5\"></a>  <font size = 2>[к оглавлению](#cell0)</font>"
   ]
  },
  {
   "cell_type": "code",
   "execution_count": 9,
   "id": "a1d2e689",
   "metadata": {},
   "outputs": [
    {
     "data": {
      "text/html": [
       "<div>\n",
       "<style scoped>\n",
       "    .dataframe tbody tr th:only-of-type {\n",
       "        vertical-align: middle;\n",
       "    }\n",
       "\n",
       "    .dataframe tbody tr th {\n",
       "        vertical-align: top;\n",
       "    }\n",
       "\n",
       "    .dataframe thead th {\n",
       "        text-align: right;\n",
       "    }\n",
       "</style>\n",
       "<table border=\"1\" class=\"dataframe\">\n",
       "  <thead>\n",
       "    <tr style=\"text-align: right;\">\n",
       "      <th></th>\n",
       "      <th>author</th>\n",
       "      <th>avg_rating</th>\n",
       "    </tr>\n",
       "  </thead>\n",
       "  <tbody>\n",
       "    <tr>\n",
       "      <th>0</th>\n",
       "      <td>J.K. Rowling/Mary GrandPré</td>\n",
       "      <td>4.29</td>\n",
       "    </tr>\n",
       "  </tbody>\n",
       "</table>\n",
       "</div>"
      ],
      "text/plain": [
       "                       author avg_rating\n",
       "0  J.K. Rowling/Mary GrandPré       4.29"
      ]
     },
     "execution_count": 9,
     "metadata": {},
     "output_type": "execute_result"
    }
   ],
   "source": [
    "# Сначала найдем книги, которые имеют 50 более оценок,\n",
    "# затем определим автора с самой высокой средней оценкой книг\n",
    "query = ''' WITH rat_2 AS\n",
    "            (SELECT book_id,\n",
    "                    COUNT(rating) as count_rating\n",
    "            FROM ratings\n",
    "            GROUP BY book_id\n",
    "            HAVING COUNT(rating) >= 50\n",
    "            ORDER BY count_rating)\n",
    "            \n",
    "            SELECT a.author,\n",
    "                   ROUND(AVG(r.rating), 2) as avg_rating\n",
    "            FROM rat_2\n",
    "            INNER JOIN books b ON rat_2.book_id = b.book_id\n",
    "            INNER JOIN authors a ON a.author_id = b.author_id\n",
    "            INNER JOIN ratings r ON r.book_id = b.book_id\n",
    "            GROUP BY a.author\n",
    "            ORDER BY AVG(r.rating) DESC\n",
    "            LIMIT 1\n",
    "            ''' \n",
    "           \n",
    "result(query)"
   ]
  },
  {
   "cell_type": "markdown",
   "id": "1346dd42",
   "metadata": {},
   "source": [
    "Самый высокий рейтинг книг с количеством оценок 50 и более имеет автор J.K. Rowling/Mary GrandPré (4,29)."
   ]
  },
  {
   "cell_type": "markdown",
   "id": "d6d704fa",
   "metadata": {},
   "source": [
    "### 2.5 Расчет среднего количества обзоров от пользователей, которые поставили больше 50 оценок. <a id=\"cell6\"></a>  <font size = 2>[к оглавлению](#cell0)</font>"
   ]
  },
  {
   "cell_type": "code",
   "execution_count": 10,
   "id": "47a58c4a",
   "metadata": {},
   "outputs": [
    {
     "data": {
      "text/html": [
       "<div>\n",
       "<style scoped>\n",
       "    .dataframe tbody tr th:only-of-type {\n",
       "        vertical-align: middle;\n",
       "    }\n",
       "\n",
       "    .dataframe tbody tr th {\n",
       "        vertical-align: top;\n",
       "    }\n",
       "\n",
       "    .dataframe thead th {\n",
       "        text-align: right;\n",
       "    }\n",
       "</style>\n",
       "<table border=\"1\" class=\"dataframe\">\n",
       "  <thead>\n",
       "    <tr style=\"text-align: right;\">\n",
       "      <th></th>\n",
       "      <th>avg_review</th>\n",
       "    </tr>\n",
       "  </thead>\n",
       "  <tbody>\n",
       "    <tr>\n",
       "      <th>0</th>\n",
       "      <td>24.33</td>\n",
       "    </tr>\n",
       "  </tbody>\n",
       "</table>\n",
       "</div>"
      ],
      "text/plain": [
       "  avg_review\n",
       "0      24.33"
      ]
     },
     "execution_count": 10,
     "metadata": {},
     "output_type": "execute_result"
    }
   ],
   "source": [
    "# Сначала найдем пользователей, которые поставили более 50 оценок, и посчитаем для них количество обзоров,\n",
    "# затем определим среднее по обзорам\n",
    "query = ''' WITH tab_1 AS \n",
    "            (SELECT rat.username,\n",
    "                   COUNT(DISTINCT rat.rating_id) as count_rating,\n",
    "                   COUNT(DISTINCT rev.review_id) as count_review\n",
    "            FROM ratings rat\n",
    "            JOIN reviews rev ON rat.username = rev.username\n",
    "            GROUP BY rat.username\n",
    "            HAVING COUNT(DISTINCT rat.rating_id) > 50)\n",
    "            \n",
    "            SELECT ROUND(AVG(count_review), 2) as avg_review\n",
    "            FROM tab_1\n",
    "            ''' \n",
    "           \n",
    "result(query)"
   ]
  },
  {
   "cell_type": "markdown",
   "id": "7070dd5d",
   "metadata": {},
   "source": [
    "Среди пользователей, которые поставили более 50 оценок, среднее количество обзоров книг составляет 24,33."
   ]
  },
  {
   "cell_type": "markdown",
   "id": "c4a3e309",
   "metadata": {},
   "source": [
    "## 3. Общий вывод <a id=\"cell7\"></a>  <font size = 2>[к оглавлению](#cell0)</font>"
   ]
  },
  {
   "cell_type": "markdown",
   "id": "318926b7",
   "metadata": {},
   "source": [
    "В рамках работы были исследованы таблицы - выведены первые строки. \n",
    "\n",
    "Сделаны SQL-запросы для решения вопросов:\n",
    "\n",
    "   -\tCколько книг вышло после 1 января 2000 года;     \n",
    "      #### После 1 января 2000 года было выпущено 819 книг.\n",
    "\n",
    "\n",
    "   -\tДля каждой книги посчитайте количество обзоров и среднюю оценку;\n",
    "#### Всего в исследовании участвуют 1000 книг, которые отсортированы по количеству обзоров пользователей и среднему рейтингу. Самой популярной книгой является \"A Dirty Job\". Наименьший рейтинг имеет книга \"Harvesting the Heart\".\n",
    "\n",
    "\n",
    "   -\tОпределите издательство, которое выпустило наибольшее число книг толще 50 страниц — так вы исключите из анализа брошюры;\n",
    "#### Издательство Penguin Books выпустило наибольшее число уникальных изданий, не учитывая брошюры.\n",
    "\n",
    "\n",
    "   -\tОпределите автора с самой высокой средней оценкой книг — учитывайте только книги с 50 и более оценками;\n",
    "#### Самый высокий рейтинг книг с количеством оценок 50 и более имеет автор J.K. Rowling/Mary GrandPré (4,29)\n",
    "\n",
    "\n",
    "   -\tПосчитайте среднее количество обзоров от пользователей, которые поставили больше 50 оценок.\n",
    "#### Среди пользователей, которые поставили более 50 оценок, среднее количество обзоров книг составляет 24,33."
   ]
  }
 ],
 "metadata": {
  "ExecuteTimeLog": [
   {
    "duration": 13374,
    "start_time": "2023-04-18T10:36:31.240Z"
   },
   {
    "duration": 19,
    "start_time": "2023-04-18T10:36:44.617Z"
   },
   {
    "duration": 421,
    "start_time": "2023-04-18T10:36:44.643Z"
   },
   {
    "duration": 4,
    "start_time": "2023-04-18T10:36:45.066Z"
   },
   {
    "duration": 41,
    "start_time": "2023-04-18T10:36:45.072Z"
   },
   {
    "duration": 83,
    "start_time": "2023-04-18T10:36:45.115Z"
   },
   {
    "duration": 54,
    "start_time": "2023-04-18T10:36:45.199Z"
   },
   {
    "duration": 43,
    "start_time": "2023-04-18T10:36:45.254Z"
   },
   {
    "duration": 71,
    "start_time": "2023-04-18T10:36:45.298Z"
   },
   {
    "duration": 87,
    "start_time": "2023-04-18T10:40:11.583Z"
   },
   {
    "duration": 85,
    "start_time": "2023-04-18T10:40:15.162Z"
   },
   {
    "duration": 43,
    "start_time": "2023-04-18T10:40:38.838Z"
   },
   {
    "duration": 147,
    "start_time": "2023-04-18T10:40:42.545Z"
   },
   {
    "duration": 120,
    "start_time": "2023-04-18T10:40:44.751Z"
   }
  ],
  "kernelspec": {
   "display_name": "Python 3 (ipykernel)",
   "language": "python",
   "name": "python3"
  },
  "language_info": {
   "codemirror_mode": {
    "name": "ipython",
    "version": 3
   },
   "file_extension": ".py",
   "mimetype": "text/x-python",
   "name": "python",
   "nbconvert_exporter": "python",
   "pygments_lexer": "ipython3",
   "version": "3.9.7"
  },
  "toc": {
   "base_numbering": 1,
   "nav_menu": {},
   "number_sections": true,
   "sideBar": true,
   "skip_h1_title": true,
   "title_cell": "Table of Contents",
   "title_sidebar": "Contents",
   "toc_cell": false,
   "toc_position": {},
   "toc_section_display": true,
   "toc_window_display": false
  }
 },
 "nbformat": 4,
 "nbformat_minor": 5
}
