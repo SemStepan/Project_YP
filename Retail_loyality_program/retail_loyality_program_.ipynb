{
 "cells": [
  {
   "cell_type": "markdown",
   "id": "a0f660ad",
   "metadata": {},
   "source": [
    "## Анализ программы лояльности магазина строительных материалов «Строили, строили и наконец построили»"
   ]
  },
  {
   "cell_type": "markdown",
   "id": "fedcf805",
   "metadata": {},
   "source": [
    "**Ссылки на материалы**\n",
    "\n",
    "Презентация в папке с тетрадкой\n",
    "\n",
    "Дашборд <https://public.tableau.com/app/profile/stepan.semyanov/viz/Shop_16813819911510/sheet1?publish=yes>"
   ]
  },
  {
   "cell_type": "markdown",
   "id": "228b0ae0",
   "metadata": {},
   "source": [
    "<b> Описание данных: </b>\n",
    "\n",
    "Датасет содержит данные о покупках в магазине строительных материалов «Строили, строили и наконец построили». Все покупатели могут получить доступ в магазин с использованием персональных карт. За 200 рублей в месяц они могут стать участниками программы лояльности. В программу включены скидки, специальные предложения, подарки.\n",
    "\n",
    "Файл retail_dataset.csv:\n",
    "\n",
    "- `purchaseId` — id чека;\n",
    "- `item_ID` — id товара;\n",
    "- `purchasedate` — дата покупки;\n",
    "- `Quantity` — количество товара;\n",
    "- `CustomerID` — id покупателя;\n",
    "- `ShopID` — id магазина;\n",
    "- `loyalty_program` — участвует ли покупатель в программе лояльности;\n",
    "\n",
    "Файл product_codes.csv:\n",
    "\n",
    "- `productID` — id товара;\n",
    "- `price_per_one` — стоимость одной единицы товара;"
   ]
  },
  {
   "cell_type": "markdown",
   "id": "252697db",
   "metadata": {},
   "source": [
    "## Введение\n",
    "<b> Краткое описание проекта: </b>\n",
    "\n",
    "<b> Цель проекта: </b> Проанализировать программу лояльности магазина."
   ]
  },
  {
   "cell_type": "markdown",
   "id": "9a1cf47f",
   "metadata": {},
   "source": [
    "<b>План работы: </b> </b> <a id=\"cell0\"></a>\n",
    "\n",
    "[1. Загрузить данные и ознакомиться с ними ](#cell1)   \n",
    "    \n",
    "    \n",
    "[2. Провести предобработку данных при необходимости: ](#cell2)\n",
    "    -\tзаменить названия столбцов\n",
    "    -\tпривести в соответствие типы данных (дата, время и т.д.)\n",
    "    -\tопределить пропуски, аномальные значения, принять решение по их обработке (в т.ч. определить есть ли id покупателей которые попадают в группу, участвующую в программе лояльности, так и не участвующую)\n",
    "    -\tобработать дубликаты\n",
    "    -\tпринять решение по покупателям без customer_id (возможно сделать \"заглушку\" для дальнейшего анализа)\n",
    "    \n",
    "    \n",
    "3. Провести исследовательский анализ данных: \n",
    "\n",
    "   [3.1 Данные датафрейма `product`: ](#cell4)\n",
    "    - посмотреть id товара с нулевой стоимостью, определить к какому типу товаров могут относится такие идентификаторы\n",
    "    - определить имеются ли разные цены на один и тот же товар. Принять решение какую цену (среднюю, медина и т.п.) мы будем использовать в дальнейшем, в т.ч. для соединения с датафреймом retail\n",
    "\n",
    "   [3.2 Данные датафрейма `retail`: ](#cell5)\n",
    "    - соединить таблицы по id товара, \n",
    "    - определить количество магазинов в сети, оценить продажи (количество, сумма, средний чек) в различных магазинах сети. Выявить возможные особенности магазинов в зависимости от проводимых операций. \n",
    "    - сгруппировать по id покупателя, а также по чекам, для дальнейшего анализа данных\n",
    "    - разделить клиентов на участвующих в программе лояльности и не участвующих, определить доли от общего числа покупателей\n",
    "    - проанализировать клиентов, попробовать выделить наличие корпоративных покупателей\n",
    "    - определить временной интервал, за который представлены данные (даты начала и окончания)\n",
    "    - определить товары с отрицательным количеством и количеством равным 0 (ориентировочно определить: \"-\" это возвраты, \"0\" - это услуги либо что-то иное), разделить датафрейм на 2 (положительное количество товаров и все остальные)\n",
    "    - Пострить график сумм заказов на различных временных промежутках (по дням\\неделям)\n",
    "\n",
    "\n",
    "\n",
    "[4. \tПроведите анализ программы лояльности (сравнить показатели участников программы лояльности и остальных покупателей): ](#cell6)\n",
    "\n",
    "    -\tнайти средний чек\n",
    "    -\tнайти среднее количество заказов\n",
    "    -\tсравнить LTV\n",
    "\n",
    "\n",
    "[5. Проверка статистических гипотез: ](#cell7)\n",
    "\n",
    "    - проверка гипотезы_1: средний чек участников программы лояльности выше, чем у остальных покупателей\n",
    "    - проверка гипотезы_2: среднее количество заказов у участников программы лояльности выше, чем у остальных покупателей\n",
    "    \n",
    "    \n",
    "[6. Итоги исследования (выводы и рекомендации)](#cell8)\n",
    "\n",
    "    -\tописать имеющиеся данные и проведенную по ним обработку\n",
    "    -\tвыводы по анализу программы лояльности\n",
    "    -\tвывод по итогам проверки статистических гипотез\n",
    "    -\tрекомендации по итогам проведенного анализа.    "
   ]
  },
  {
   "cell_type": "markdown",
   "id": "6b1da1de",
   "metadata": {},
   "source": [
    "## 1. Загрузка и знакомство с данными   <a id=\"cell1\"></a>  <font size = 2>[к оглавлению](#cell0)</font>"
   ]
  },
  {
   "cell_type": "markdown",
   "id": "569faf58",
   "metadata": {},
   "source": [
    "Импортируем необходимые библиотеки"
   ]
  },
  {
   "cell_type": "code",
   "execution_count": 1,
   "id": "8fd9b3bf",
   "metadata": {},
   "outputs": [],
   "source": [
    "import pandas as pd\n",
    "import numpy as np\n",
    "import matplotlib.pyplot as plt\n",
    "import seaborn as sns\n",
    "import scipy.stats as stats\n",
    "import warnings\n",
    "warnings.filterwarnings('ignore')"
   ]
  },
  {
   "cell_type": "markdown",
   "id": "4702bdc6",
   "metadata": {},
   "source": [
    "Загружаем датафрейм, в т.ч. со ссылкой на внешний источник"
   ]
  },
  {
   "cell_type": "code",
   "execution_count": 2,
   "id": "958c7941",
   "metadata": {},
   "outputs": [],
   "source": [
    "retail = pd.read_csv('retail_dataset.csv')\n",
    "product = pd.read_csv('product_codes.csv')"
   ]
  },
  {
   "cell_type": "markdown",
   "id": "067b6d09",
   "metadata": {},
   "source": [
    "Изучим датафрейм `retail_dataset`\n",
    "Посмотрим первые 10 строк датафрейма"
   ]
  },
  {
   "cell_type": "code",
   "execution_count": 3,
   "id": "594c0f4e",
   "metadata": {},
   "outputs": [
    {
     "data": {
      "text/html": [
       "<div>\n",
       "<style scoped>\n",
       "    .dataframe tbody tr th:only-of-type {\n",
       "        vertical-align: middle;\n",
       "    }\n",
       "\n",
       "    .dataframe tbody tr th {\n",
       "        vertical-align: top;\n",
       "    }\n",
       "\n",
       "    .dataframe thead th {\n",
       "        text-align: right;\n",
       "    }\n",
       "</style>\n",
       "<table border=\"1\" class=\"dataframe\">\n",
       "  <thead>\n",
       "    <tr style=\"text-align: right;\">\n",
       "      <th></th>\n",
       "      <th>purchaseid</th>\n",
       "      <th>item_ID</th>\n",
       "      <th>Quantity</th>\n",
       "      <th>purchasedate</th>\n",
       "      <th>CustomerID</th>\n",
       "      <th>ShopID</th>\n",
       "      <th>loyalty_program</th>\n",
       "    </tr>\n",
       "  </thead>\n",
       "  <tbody>\n",
       "    <tr>\n",
       "      <th>0</th>\n",
       "      <td>538280</td>\n",
       "      <td>21873</td>\n",
       "      <td>11</td>\n",
       "      <td>2016-12-10 12:50:00</td>\n",
       "      <td>18427.0</td>\n",
       "      <td>Shop 0</td>\n",
       "      <td>0.0</td>\n",
       "    </tr>\n",
       "    <tr>\n",
       "      <th>1</th>\n",
       "      <td>538862</td>\n",
       "      <td>22195</td>\n",
       "      <td>0</td>\n",
       "      <td>2016-12-14 14:11:00</td>\n",
       "      <td>22389.0</td>\n",
       "      <td>Shop 0</td>\n",
       "      <td>1.0</td>\n",
       "    </tr>\n",
       "    <tr>\n",
       "      <th>2</th>\n",
       "      <td>538855</td>\n",
       "      <td>21239</td>\n",
       "      <td>7</td>\n",
       "      <td>2016-12-14 13:50:00</td>\n",
       "      <td>22182.0</td>\n",
       "      <td>Shop 0</td>\n",
       "      <td>1.0</td>\n",
       "    </tr>\n",
       "    <tr>\n",
       "      <th>3</th>\n",
       "      <td>543543</td>\n",
       "      <td>22271</td>\n",
       "      <td>0</td>\n",
       "      <td>2017-02-09 15:33:00</td>\n",
       "      <td>23522.0</td>\n",
       "      <td>Shop 0</td>\n",
       "      <td>1.0</td>\n",
       "    </tr>\n",
       "    <tr>\n",
       "      <th>4</th>\n",
       "      <td>543812</td>\n",
       "      <td>79321</td>\n",
       "      <td>0</td>\n",
       "      <td>2017-02-13 14:40:00</td>\n",
       "      <td>23151.0</td>\n",
       "      <td>Shop 0</td>\n",
       "      <td>1.0</td>\n",
       "    </tr>\n",
       "    <tr>\n",
       "      <th>5</th>\n",
       "      <td>538379</td>\n",
       "      <td>22965</td>\n",
       "      <td>0</td>\n",
       "      <td>2016-12-12 11:26:00</td>\n",
       "      <td>22805.0</td>\n",
       "      <td>Shop 0</td>\n",
       "      <td>1.0</td>\n",
       "    </tr>\n",
       "    <tr>\n",
       "      <th>6</th>\n",
       "      <td>540468</td>\n",
       "      <td>22189</td>\n",
       "      <td>0</td>\n",
       "      <td>2017-01-07 13:55:00</td>\n",
       "      <td>NaN</td>\n",
       "      <td>Shop 0</td>\n",
       "      <td>0.0</td>\n",
       "    </tr>\n",
       "    <tr>\n",
       "      <th>7</th>\n",
       "      <td>541424</td>\n",
       "      <td>79321</td>\n",
       "      <td>1</td>\n",
       "      <td>2017-01-17 17:57:00</td>\n",
       "      <td>NaN</td>\n",
       "      <td>Shop 0</td>\n",
       "      <td>0.0</td>\n",
       "    </tr>\n",
       "    <tr>\n",
       "      <th>8</th>\n",
       "      <td>538883</td>\n",
       "      <td>22891</td>\n",
       "      <td>0</td>\n",
       "      <td>2016-12-14 15:56:00</td>\n",
       "      <td>NaN</td>\n",
       "      <td>Shop 0</td>\n",
       "      <td>0.0</td>\n",
       "    </tr>\n",
       "    <tr>\n",
       "      <th>9</th>\n",
       "      <td>539501</td>\n",
       "      <td>22372</td>\n",
       "      <td>0</td>\n",
       "      <td>2016-12-20 11:08:00</td>\n",
       "      <td>22764.0</td>\n",
       "      <td>Shop 0</td>\n",
       "      <td>1.0</td>\n",
       "    </tr>\n",
       "  </tbody>\n",
       "</table>\n",
       "</div>"
      ],
      "text/plain": [
       "  purchaseid item_ID  Quantity         purchasedate  CustomerID  ShopID  \\\n",
       "0     538280   21873        11  2016-12-10 12:50:00     18427.0  Shop 0   \n",
       "1     538862   22195         0  2016-12-14 14:11:00     22389.0  Shop 0   \n",
       "2     538855   21239         7  2016-12-14 13:50:00     22182.0  Shop 0   \n",
       "3     543543   22271         0  2017-02-09 15:33:00     23522.0  Shop 0   \n",
       "4     543812   79321         0  2017-02-13 14:40:00     23151.0  Shop 0   \n",
       "5     538379   22965         0  2016-12-12 11:26:00     22805.0  Shop 0   \n",
       "6     540468   22189         0  2017-01-07 13:55:00         NaN  Shop 0   \n",
       "7     541424   79321         1  2017-01-17 17:57:00         NaN  Shop 0   \n",
       "8     538883   22891         0  2016-12-14 15:56:00         NaN  Shop 0   \n",
       "9     539501   22372         0  2016-12-20 11:08:00     22764.0  Shop 0   \n",
       "\n",
       "   loyalty_program  \n",
       "0              0.0  \n",
       "1              1.0  \n",
       "2              1.0  \n",
       "3              1.0  \n",
       "4              1.0  \n",
       "5              1.0  \n",
       "6              0.0  \n",
       "7              0.0  \n",
       "8              0.0  \n",
       "9              1.0  "
      ]
     },
     "execution_count": 3,
     "metadata": {},
     "output_type": "execute_result"
    }
   ],
   "source": [
    "retail.head(10)"
   ]
  },
  {
   "cell_type": "markdown",
   "id": "0ab4e60c",
   "metadata": {},
   "source": [
    "Выведем основную информацию о датафрейме"
   ]
  },
  {
   "cell_type": "code",
   "execution_count": 4,
   "id": "9207fd15",
   "metadata": {},
   "outputs": [
    {
     "name": "stdout",
     "output_type": "stream",
     "text": [
      "<class 'pandas.core.frame.DataFrame'>\n",
      "RangeIndex: 105335 entries, 0 to 105334\n",
      "Data columns (total 7 columns):\n",
      " #   Column           Non-Null Count   Dtype  \n",
      "---  ------           --------------   -----  \n",
      " 0   purchaseid       105335 non-null  object \n",
      " 1   item_ID          105335 non-null  object \n",
      " 2   Quantity         105335 non-null  int64  \n",
      " 3   purchasedate     105335 non-null  object \n",
      " 4   CustomerID       69125 non-null   float64\n",
      " 5   ShopID           105335 non-null  object \n",
      " 6   loyalty_program  105335 non-null  float64\n",
      "dtypes: float64(2), int64(1), object(4)\n",
      "memory usage: 5.6+ MB\n"
     ]
    }
   ],
   "source": [
    "retail.info()"
   ]
  },
  {
   "cell_type": "markdown",
   "id": "f87ff905",
   "metadata": {},
   "source": [
    "Посмотрим на число уникальных значений в наших данных"
   ]
  },
  {
   "cell_type": "code",
   "execution_count": 5,
   "id": "574ad32f",
   "metadata": {},
   "outputs": [
    {
     "name": "stdout",
     "output_type": "stream",
     "text": [
      "Количество уникальных значений purchaseid : 4894\n",
      "Количество уникальных значений item_ID : 3159\n",
      "Количество уникальных значений CustomerID : 1749\n",
      "Количество уникальных значений ShopID : 31\n",
      "Количество уникальных значений loyalty_program : 2\n"
     ]
    }
   ],
   "source": [
    "for col in ['purchaseid', 'item_ID', 'CustomerID', 'ShopID', 'loyalty_program']:\n",
    "    print('Количество уникальных значений', col, ':', retail[col].nunique())"
   ]
  },
  {
   "cell_type": "markdown",
   "id": "c925d20e",
   "metadata": {},
   "source": [
    "Изучим датафрейм `product_codes`\n",
    "Посмотрим первые 10 строк датафрейма"
   ]
  },
  {
   "cell_type": "code",
   "execution_count": 6,
   "id": "3a130b27",
   "metadata": {},
   "outputs": [
    {
     "data": {
      "text/html": [
       "<div>\n",
       "<style scoped>\n",
       "    .dataframe tbody tr th:only-of-type {\n",
       "        vertical-align: middle;\n",
       "    }\n",
       "\n",
       "    .dataframe tbody tr th {\n",
       "        vertical-align: top;\n",
       "    }\n",
       "\n",
       "    .dataframe thead th {\n",
       "        text-align: right;\n",
       "    }\n",
       "</style>\n",
       "<table border=\"1\" class=\"dataframe\">\n",
       "  <thead>\n",
       "    <tr style=\"text-align: right;\">\n",
       "      <th></th>\n",
       "      <th>productID</th>\n",
       "      <th>price_per_one</th>\n",
       "    </tr>\n",
       "  </thead>\n",
       "  <tbody>\n",
       "    <tr>\n",
       "      <th>0</th>\n",
       "      <td>85123A</td>\n",
       "      <td>2.55</td>\n",
       "    </tr>\n",
       "    <tr>\n",
       "      <th>1</th>\n",
       "      <td>71053</td>\n",
       "      <td>3.39</td>\n",
       "    </tr>\n",
       "    <tr>\n",
       "      <th>2</th>\n",
       "      <td>84406B</td>\n",
       "      <td>2.75</td>\n",
       "    </tr>\n",
       "    <tr>\n",
       "      <th>3</th>\n",
       "      <td>84029G</td>\n",
       "      <td>3.39</td>\n",
       "    </tr>\n",
       "    <tr>\n",
       "      <th>4</th>\n",
       "      <td>84029E</td>\n",
       "      <td>3.39</td>\n",
       "    </tr>\n",
       "    <tr>\n",
       "      <th>5</th>\n",
       "      <td>22752</td>\n",
       "      <td>7.65</td>\n",
       "    </tr>\n",
       "    <tr>\n",
       "      <th>6</th>\n",
       "      <td>21730</td>\n",
       "      <td>4.25</td>\n",
       "    </tr>\n",
       "    <tr>\n",
       "      <th>7</th>\n",
       "      <td>22633</td>\n",
       "      <td>1.85</td>\n",
       "    </tr>\n",
       "    <tr>\n",
       "      <th>8</th>\n",
       "      <td>22632</td>\n",
       "      <td>1.85</td>\n",
       "    </tr>\n",
       "    <tr>\n",
       "      <th>9</th>\n",
       "      <td>84879</td>\n",
       "      <td>1.69</td>\n",
       "    </tr>\n",
       "  </tbody>\n",
       "</table>\n",
       "</div>"
      ],
      "text/plain": [
       "  productID  price_per_one\n",
       "0    85123A           2.55\n",
       "1     71053           3.39\n",
       "2    84406B           2.75\n",
       "3    84029G           3.39\n",
       "4    84029E           3.39\n",
       "5     22752           7.65\n",
       "6     21730           4.25\n",
       "7     22633           1.85\n",
       "8     22632           1.85\n",
       "9     84879           1.69"
      ]
     },
     "execution_count": 6,
     "metadata": {},
     "output_type": "execute_result"
    }
   ],
   "source": [
    "product.head(10)"
   ]
  },
  {
   "cell_type": "markdown",
   "id": "112b900e",
   "metadata": {},
   "source": [
    "Выведем основную информацию о датафрейме"
   ]
  },
  {
   "cell_type": "code",
   "execution_count": 7,
   "id": "7ce0787f",
   "metadata": {},
   "outputs": [
    {
     "name": "stdout",
     "output_type": "stream",
     "text": [
      "<class 'pandas.core.frame.DataFrame'>\n",
      "RangeIndex: 9969 entries, 0 to 9968\n",
      "Data columns (total 2 columns):\n",
      " #   Column         Non-Null Count  Dtype  \n",
      "---  ------         --------------  -----  \n",
      " 0   productID      9969 non-null   object \n",
      " 1   price_per_one  9969 non-null   float64\n",
      "dtypes: float64(1), object(1)\n",
      "memory usage: 155.9+ KB\n"
     ]
    }
   ],
   "source": [
    "product.info()"
   ]
  },
  {
   "cell_type": "markdown",
   "id": "29d8344b",
   "metadata": {},
   "source": [
    "Посмотрим на число уникальных значений productID"
   ]
  },
  {
   "cell_type": "code",
   "execution_count": 8,
   "id": "917739c5",
   "metadata": {},
   "outputs": [
    {
     "name": "stdout",
     "output_type": "stream",
     "text": [
      "Количество уникальных значений productID : 3159\n"
     ]
    }
   ],
   "source": [
    "print('Количество уникальных значений productID :', product['productID'].nunique())"
   ]
  },
  {
   "cell_type": "markdown",
   "id": "68eee5b2",
   "metadata": {},
   "source": [
    "**Вывод по загрузке и первичному анализу данных:**\n",
    "\n",
    "**датафрейм** `retail_dataset`\n",
    "В датафрейм собрана информация о 105 335 купленных товарах в магазине, при этом записи являются строками в чеках, соответсвенно количество покупок(чеков) меньше.  Типы данных в ряде случаев не соответсвуют хранимому содержимому, для дальнейшей работы необходимо их менять.\n",
    "\n",
    "В id покупателя (`CustomerID`) имеется большое количество пропусков.\n",
    "\n",
    "В нашем распоряжении информация о:\n",
    " - 4 894 чеках, \n",
    " - 3 159 уникальных товаров, \n",
    " - 1 749 уникальных идентифицированных покупателях,\n",
    " - 31 магазине\n",
    " - 2-х статусах в программе лояльности\n",
    " \n",
    "**датафрейм** `product_codes`\n",
    "В датафрейме представлена информация о ценах 9969 продуктов, причем только 31 59 из них уникальны, что может свидетальствовать либо наличии дубликатов, либо о различных ценах на один и тот же продукт. Учитывая, что в датафрейме не содержится информация о датах присвеония цен для дальнейшего исследования придется определять какую цену мы будем использовать. В дальнейшем при сборе данных целесообразно фиксировать дату присвоения цены, а также делать привязку цены к программе лояльности, если она идет со скидкой."
   ]
  },
  {
   "cell_type": "markdown",
   "id": "9a3a0108",
   "metadata": {},
   "source": [
    "### 2. Предобработка данных <a id=\"cell2\"></a>  <font size = 2>[к оглавлению](#cell0)</font>"
   ]
  },
  {
   "cell_type": "markdown",
   "id": "42dc18bc",
   "metadata": {},
   "source": [
    "Приведем названия столбцов к стилистически более верному виду"
   ]
  },
  {
   "cell_type": "code",
   "execution_count": 9,
   "id": "5a0a3354",
   "metadata": {},
   "outputs": [],
   "source": [
    "retail.rename(columns = {'purchaseid':'purchase_id', 'item_ID':'item_id','Quantity':'quantity',\\\n",
    "                         'purchasedate':'purchase_date', 'CustomerID':'customer_id', 'ShopID':'shop_id'}, inplace = True )\n",
    "product.rename(columns = {'productID':'item_id'}, inplace = True )"
   ]
  },
  {
   "cell_type": "markdown",
   "id": "6ebd3880",
   "metadata": {},
   "source": [
    "Заполним пропуски в столбце `customer_id` на id чеков. Таким образом мы не потеряем уникальные покупки."
   ]
  },
  {
   "cell_type": "code",
   "execution_count": 10,
   "id": "549c8e94",
   "metadata": {},
   "outputs": [],
   "source": [
    "retail['customer_id'] = retail['customer_id'].fillna(retail['item_id'])"
   ]
  },
  {
   "cell_type": "markdown",
   "id": "fa660b3b",
   "metadata": {},
   "source": [
    "Приведем в соответсвие типы данных"
   ]
  },
  {
   "cell_type": "code",
   "execution_count": 11,
   "id": "f0e2966b",
   "metadata": {},
   "outputs": [],
   "source": [
    "retail['purchase_date'] = pd.to_datetime(retail['purchase_date']) # преобразование данных о времени\n",
    "\n",
    "retail['loyalty_program'] = retail['loyalty_program'].astype(int) # преобразование данных с типом программы лояльности"
   ]
  },
  {
   "cell_type": "markdown",
   "id": "2b87d2fd",
   "metadata": {},
   "source": [
    "Попытка преобразования purchase_id, item_id, customer_id к типу int приводит к ошибке, т.к. в раде id используются помимо чисел и буквенные значения"
   ]
  },
  {
   "cell_type": "markdown",
   "id": "de3e4fd1",
   "metadata": {},
   "source": [
    "Cделаем приведение букв к нижнему регистру, а также удалим возможные пробелы, чтобы выявить возможные дубликаты"
   ]
  },
  {
   "cell_type": "code",
   "execution_count": 12,
   "id": "0ccfe801",
   "metadata": {},
   "outputs": [],
   "source": [
    "for i in ['purchase_id','item_id', 'shop_id']:\n",
    "    retail[i] = retail[i].str.lower() \n",
    "    retail[i] = retail[i].str.strip() \n",
    "    retail[i] = retail[i].str.replace('ё', 'е')"
   ]
  },
  {
   "cell_type": "markdown",
   "id": "c2101138",
   "metadata": {},
   "source": [
    "Определил наличие явных дубликатов в датафреймах"
   ]
  },
  {
   "cell_type": "code",
   "execution_count": 13,
   "id": "b17bce78",
   "metadata": {},
   "outputs": [
    {
     "name": "stdout",
     "output_type": "stream",
     "text": [
      "Количество явных дубликатов в retail_dataset: 1033\n",
      "Количество явных дубликатов в product_codes: 0\n"
     ]
    }
   ],
   "source": [
    "print('Количество явных дубликатов в retail_dataset:', retail.duplicated().sum())\n",
    "print('Количество явных дубликатов в product_codes:', product.duplicated().sum())"
   ]
  },
  {
   "cell_type": "markdown",
   "id": "43dbc0fd",
   "metadata": {},
   "source": [
    "Удалим явные дубликаты"
   ]
  },
  {
   "cell_type": "code",
   "execution_count": 14,
   "id": "177bb6b7",
   "metadata": {},
   "outputs": [],
   "source": [
    "retail.drop_duplicates(inplace = True)"
   ]
  },
  {
   "cell_type": "markdown",
   "id": "977c84e1",
   "metadata": {},
   "source": [
    "Посмотрим на общую статистику датафрейма `retail_dataset`"
   ]
  },
  {
   "cell_type": "code",
   "execution_count": 15,
   "id": "4ca96764",
   "metadata": {},
   "outputs": [
    {
     "data": {
      "text/html": [
       "<div>\n",
       "<style scoped>\n",
       "    .dataframe tbody tr th:only-of-type {\n",
       "        vertical-align: middle;\n",
       "    }\n",
       "\n",
       "    .dataframe tbody tr th {\n",
       "        vertical-align: top;\n",
       "    }\n",
       "\n",
       "    .dataframe thead th {\n",
       "        text-align: right;\n",
       "    }\n",
       "</style>\n",
       "<table border=\"1\" class=\"dataframe\">\n",
       "  <thead>\n",
       "    <tr style=\"text-align: right;\">\n",
       "      <th></th>\n",
       "      <th>quantity</th>\n",
       "      <th>loyalty_program</th>\n",
       "    </tr>\n",
       "  </thead>\n",
       "  <tbody>\n",
       "    <tr>\n",
       "      <th>count</th>\n",
       "      <td>104302.000000</td>\n",
       "      <td>104302.000000</td>\n",
       "    </tr>\n",
       "    <tr>\n",
       "      <th>mean</th>\n",
       "      <td>7.883003</td>\n",
       "      <td>0.224464</td>\n",
       "    </tr>\n",
       "    <tr>\n",
       "      <th>std</th>\n",
       "      <td>329.565540</td>\n",
       "      <td>0.417231</td>\n",
       "    </tr>\n",
       "    <tr>\n",
       "      <th>min</th>\n",
       "      <td>-74216.000000</td>\n",
       "      <td>0.000000</td>\n",
       "    </tr>\n",
       "    <tr>\n",
       "      <th>25%</th>\n",
       "      <td>0.000000</td>\n",
       "      <td>0.000000</td>\n",
       "    </tr>\n",
       "    <tr>\n",
       "      <th>50%</th>\n",
       "      <td>2.000000</td>\n",
       "      <td>0.000000</td>\n",
       "    </tr>\n",
       "    <tr>\n",
       "      <th>75%</th>\n",
       "      <td>7.000000</td>\n",
       "      <td>0.000000</td>\n",
       "    </tr>\n",
       "    <tr>\n",
       "      <th>max</th>\n",
       "      <td>74214.000000</td>\n",
       "      <td>1.000000</td>\n",
       "    </tr>\n",
       "  </tbody>\n",
       "</table>\n",
       "</div>"
      ],
      "text/plain": [
       "            quantity  loyalty_program\n",
       "count  104302.000000    104302.000000\n",
       "mean        7.883003         0.224464\n",
       "std       329.565540         0.417231\n",
       "min    -74216.000000         0.000000\n",
       "25%         0.000000         0.000000\n",
       "50%         2.000000         0.000000\n",
       "75%         7.000000         0.000000\n",
       "max     74214.000000         1.000000"
      ]
     },
     "execution_count": 15,
     "metadata": {},
     "output_type": "execute_result"
    }
   ],
   "source": [
    "retail.describe()"
   ]
  },
  {
   "cell_type": "markdown",
   "id": "f8d21e7e",
   "metadata": {},
   "source": [
    "Посмотрим на выбросы"
   ]
  },
  {
   "cell_type": "code",
   "execution_count": 16,
   "id": "62f738e9",
   "metadata": {
    "scrolled": true
   },
   "outputs": [
    {
     "data": {
      "image/png": "[encoded data removed]",
      "text/plain": [
       "<Figure size 1296x144 with 1 Axes>"
      ]
     },
     "metadata": {
      "needs_background": "light"
     },
     "output_type": "display_data"
    }
   ],
   "source": [
    "plt.figure(figsize=(18, 2)) \n",
    "ax = sns.boxplot(x = 'quantity',  data=retail, showfliers=True, orient='h')\n",
    "plt.title('Количество единиц уникального товара в чеке', size = 16)\n",
    "plt.grid()\n",
    "plt.show()"
   ]
  },
  {
   "cell_type": "markdown",
   "id": "bb9c4c08",
   "metadata": {},
   "source": [
    "Посмотрим на выбросы в разрезе магазинов"
   ]
  },
  {
   "cell_type": "code",
   "execution_count": 17,
   "id": "a5da2c4f",
   "metadata": {
    "scrolled": true
   },
   "outputs": [
    {
     "data": {
      "image/png": "[encoded data removed]",
      "text/plain": [
       "<Figure size 1296x864 with 1 Axes>"
      ]
     },
     "metadata": {
      "needs_background": "light"
     },
     "output_type": "display_data"
    }
   ],
   "source": [
    "plt.figure(figsize=(18, 12))\n",
    "ax = sns.boxplot(x = 'quantity', y = 'shop_id', data=retail, showfliers=True, orient='h')\n",
    "plt.title('Количество единиц уникального товара в чеке в разрезе магазинов', size = 16)\n",
    "plt.ylabel('Магазин', size = 14)\n",
    "plt.xlabel('Количество единиц уникального товара в чеке', size = 14)\n",
    "plt.grid()\n",
    "plt.show()"
   ]
  },
  {
   "cell_type": "markdown",
   "id": "93576d68",
   "metadata": {},
   "source": [
    "**Наибольший разброс наблюдается в shop 0**"
   ]
  },
  {
   "cell_type": "markdown",
   "id": "aa207859",
   "metadata": {},
   "source": [
    "А теперь посмотрим на количество единиц товара в чеке без учета выбросов"
   ]
  },
  {
   "cell_type": "code",
   "execution_count": 18,
   "id": "fc51bd56",
   "metadata": {},
   "outputs": [
    {
     "data": {
      "image/png": "[encoded data removed]",
      "text/plain": [
       "<Figure size 1296x864 with 1 Axes>"
      ]
     },
     "metadata": {
      "needs_background": "light"
     },
     "output_type": "display_data"
    }
   ],
   "source": [
    "plt.figure(figsize=(18, 12))\n",
    "ax = sns.boxplot(x = 'quantity', y = 'shop_id', data=retail, showfliers=False, orient='h')\n",
    "plt.title('Количество единиц уникального товара в чеке в разрезе магазинов', size = 16)\n",
    "plt.ylabel('Магазин', size = 14)\n",
    "plt.xlabel('Количество единиц уникального товара в чеке', size = 14)\n",
    "plt.grid()\n",
    "plt.show()"
   ]
  },
  {
   "cell_type": "markdown",
   "id": "5e0dfb09",
   "metadata": {},
   "source": [
    "Разделим данные, с положительным и отрицательным количеством товаров"
   ]
  },
  {
   "cell_type": "code",
   "execution_count": 19,
   "id": "23d60ba8",
   "metadata": {},
   "outputs": [],
   "source": [
    "retail_plus = retail.query('quantity > 0')\n",
    "retail_minus = retail.query('quantity < 0')"
   ]
  },
  {
   "cell_type": "code",
   "execution_count": 20,
   "id": "a94209d0",
   "metadata": {},
   "outputs": [
    {
     "data": {
      "text/html": [
       "<div>\n",
       "<style scoped>\n",
       "    .dataframe tbody tr th:only-of-type {\n",
       "        vertical-align: middle;\n",
       "    }\n",
       "\n",
       "    .dataframe tbody tr th {\n",
       "        vertical-align: top;\n",
       "    }\n",
       "\n",
       "    .dataframe thead th {\n",
       "        text-align: right;\n",
       "    }\n",
       "</style>\n",
       "<table border=\"1\" class=\"dataframe\">\n",
       "  <thead>\n",
       "    <tr style=\"text-align: right;\">\n",
       "      <th></th>\n",
       "      <th>purchase_id</th>\n",
       "      <th>item_id</th>\n",
       "      <th>quantity</th>\n",
       "      <th>purchase_date</th>\n",
       "      <th>customer_id</th>\n",
       "      <th>shop_id</th>\n",
       "      <th>loyalty_program</th>\n",
       "    </tr>\n",
       "  </thead>\n",
       "  <tbody>\n",
       "    <tr>\n",
       "      <th>64</th>\n",
       "      <td>c539944</td>\n",
       "      <td>22776</td>\n",
       "      <td>-2</td>\n",
       "      <td>2016-12-23 11:38:00</td>\n",
       "      <td>20239.0</td>\n",
       "      <td>shop 0</td>\n",
       "      <td>0</td>\n",
       "    </tr>\n",
       "    <tr>\n",
       "      <th>109</th>\n",
       "      <td>c542910</td>\n",
       "      <td>20726</td>\n",
       "      <td>-2</td>\n",
       "      <td>2017-02-01 15:38:00</td>\n",
       "      <td>23190.0</td>\n",
       "      <td>shop 0</td>\n",
       "      <td>1</td>\n",
       "    </tr>\n",
       "    <tr>\n",
       "      <th>112</th>\n",
       "      <td>c542426</td>\n",
       "      <td>22418</td>\n",
       "      <td>-25</td>\n",
       "      <td>2017-01-28 09:32:00</td>\n",
       "      <td>19825.0</td>\n",
       "      <td>shop 0</td>\n",
       "      <td>0</td>\n",
       "    </tr>\n",
       "    <tr>\n",
       "      <th>253</th>\n",
       "      <td>c539726</td>\n",
       "      <td>22791</td>\n",
       "      <td>-11</td>\n",
       "      <td>2016-12-21 14:24:00</td>\n",
       "      <td>22686.0</td>\n",
       "      <td>shop 0</td>\n",
       "      <td>1</td>\n",
       "    </tr>\n",
       "    <tr>\n",
       "      <th>344</th>\n",
       "      <td>c544034</td>\n",
       "      <td>21878</td>\n",
       "      <td>-2</td>\n",
       "      <td>2017-02-15 11:28:00</td>\n",
       "      <td>20380.0</td>\n",
       "      <td>shop 0</td>\n",
       "      <td>0</td>\n",
       "    </tr>\n",
       "    <tr>\n",
       "      <th>458</th>\n",
       "      <td>c539667</td>\n",
       "      <td>21285</td>\n",
       "      <td>-25</td>\n",
       "      <td>2016-12-21 10:47:00</td>\n",
       "      <td>18827.0</td>\n",
       "      <td>shop 0</td>\n",
       "      <td>0</td>\n",
       "    </tr>\n",
       "    <tr>\n",
       "      <th>468</th>\n",
       "      <td>537032</td>\n",
       "      <td>21275</td>\n",
       "      <td>-31</td>\n",
       "      <td>2016-12-03 16:50:00</td>\n",
       "      <td>21275</td>\n",
       "      <td>shop 0</td>\n",
       "      <td>0</td>\n",
       "    </tr>\n",
       "    <tr>\n",
       "      <th>503</th>\n",
       "      <td>540119</td>\n",
       "      <td>22865</td>\n",
       "      <td>-61</td>\n",
       "      <td>2017-01-05 10:07:00</td>\n",
       "      <td>22865</td>\n",
       "      <td>shop 0</td>\n",
       "      <td>0</td>\n",
       "    </tr>\n",
       "    <tr>\n",
       "      <th>636</th>\n",
       "      <td>c543764</td>\n",
       "      <td>79191d</td>\n",
       "      <td>-13</td>\n",
       "      <td>2017-02-11 15:16:00</td>\n",
       "      <td>22714.0</td>\n",
       "      <td>shop 0</td>\n",
       "      <td>1</td>\n",
       "    </tr>\n",
       "    <tr>\n",
       "      <th>660</th>\n",
       "      <td>c537602</td>\n",
       "      <td>22423</td>\n",
       "      <td>-3</td>\n",
       "      <td>2016-12-07 12:45:00</td>\n",
       "      <td>23190.0</td>\n",
       "      <td>shop 0</td>\n",
       "      <td>1</td>\n",
       "    </tr>\n",
       "    <tr>\n",
       "      <th>742</th>\n",
       "      <td>c539260</td>\n",
       "      <td>21258</td>\n",
       "      <td>-8</td>\n",
       "      <td>2016-12-16 14:32:00</td>\n",
       "      <td>20779.0</td>\n",
       "      <td>shop 0</td>\n",
       "      <td>0</td>\n",
       "    </tr>\n",
       "    <tr>\n",
       "      <th>748</th>\n",
       "      <td>c540417</td>\n",
       "      <td>85099b</td>\n",
       "      <td>-101</td>\n",
       "      <td>2017-01-07 10:56:00</td>\n",
       "      <td>19359.0</td>\n",
       "      <td>shop 0</td>\n",
       "      <td>0</td>\n",
       "    </tr>\n",
       "    <tr>\n",
       "      <th>776</th>\n",
       "      <td>c541222</td>\n",
       "      <td>22423</td>\n",
       "      <td>-10</td>\n",
       "      <td>2017-01-14 14:33:00</td>\n",
       "      <td>19978.0</td>\n",
       "      <td>shop 0</td>\n",
       "      <td>0</td>\n",
       "    </tr>\n",
       "    <tr>\n",
       "      <th>799</th>\n",
       "      <td>c539644</td>\n",
       "      <td>21577</td>\n",
       "      <td>-2</td>\n",
       "      <td>2016-12-20 15:52:00</td>\n",
       "      <td>18150.0</td>\n",
       "      <td>shop 4</td>\n",
       "      <td>0</td>\n",
       "    </tr>\n",
       "    <tr>\n",
       "      <th>859</th>\n",
       "      <td>c540006</td>\n",
       "      <td>22423</td>\n",
       "      <td>-2</td>\n",
       "      <td>2017-01-04 10:48:00</td>\n",
       "      <td>20285.0</td>\n",
       "      <td>shop 0</td>\n",
       "      <td>0</td>\n",
       "    </tr>\n",
       "    <tr>\n",
       "      <th>910</th>\n",
       "      <td>540241</td>\n",
       "      <td>35957</td>\n",
       "      <td>-940</td>\n",
       "      <td>2017-01-05 15:17:00</td>\n",
       "      <td>35957</td>\n",
       "      <td>shop 0</td>\n",
       "      <td>0</td>\n",
       "    </tr>\n",
       "    <tr>\n",
       "      <th>970</th>\n",
       "      <td>c543773</td>\n",
       "      <td>22626</td>\n",
       "      <td>-2</td>\n",
       "      <td>2017-02-11 15:47:00</td>\n",
       "      <td>18089.0</td>\n",
       "      <td>shop 7</td>\n",
       "      <td>0</td>\n",
       "    </tr>\n",
       "    <tr>\n",
       "      <th>1003</th>\n",
       "      <td>c541822</td>\n",
       "      <td>22697</td>\n",
       "      <td>-2</td>\n",
       "      <td>2017-01-21 16:53:00</td>\n",
       "      <td>21337.0</td>\n",
       "      <td>shop 0</td>\n",
       "      <td>0</td>\n",
       "    </tr>\n",
       "    <tr>\n",
       "      <th>1100</th>\n",
       "      <td>c540057</td>\n",
       "      <td>post</td>\n",
       "      <td>-2</td>\n",
       "      <td>2017-01-04 14:29:00</td>\n",
       "      <td>18162.0</td>\n",
       "      <td>shop 19</td>\n",
       "      <td>0</td>\n",
       "    </tr>\n",
       "    <tr>\n",
       "      <th>1181</th>\n",
       "      <td>c537652</td>\n",
       "      <td>amazonfee</td>\n",
       "      <td>-2</td>\n",
       "      <td>2016-12-07 15:51:00</td>\n",
       "      <td>AMAZONFEE</td>\n",
       "      <td>shop 0</td>\n",
       "      <td>0</td>\n",
       "    </tr>\n",
       "  </tbody>\n",
       "</table>\n",
       "</div>"
      ],
      "text/plain": [
       "     purchase_id    item_id  quantity       purchase_date customer_id  \\\n",
       "64       c539944      22776        -2 2016-12-23 11:38:00     20239.0   \n",
       "109      c542910      20726        -2 2017-02-01 15:38:00     23190.0   \n",
       "112      c542426      22418       -25 2017-01-28 09:32:00     19825.0   \n",
       "253      c539726      22791       -11 2016-12-21 14:24:00     22686.0   \n",
       "344      c544034      21878        -2 2017-02-15 11:28:00     20380.0   \n",
       "458      c539667      21285       -25 2016-12-21 10:47:00     18827.0   \n",
       "468       537032      21275       -31 2016-12-03 16:50:00       21275   \n",
       "503       540119      22865       -61 2017-01-05 10:07:00       22865   \n",
       "636      c543764     79191d       -13 2017-02-11 15:16:00     22714.0   \n",
       "660      c537602      22423        -3 2016-12-07 12:45:00     23190.0   \n",
       "742      c539260      21258        -8 2016-12-16 14:32:00     20779.0   \n",
       "748      c540417     85099b      -101 2017-01-07 10:56:00     19359.0   \n",
       "776      c541222      22423       -10 2017-01-14 14:33:00     19978.0   \n",
       "799      c539644      21577        -2 2016-12-20 15:52:00     18150.0   \n",
       "859      c540006      22423        -2 2017-01-04 10:48:00     20285.0   \n",
       "910       540241      35957      -940 2017-01-05 15:17:00       35957   \n",
       "970      c543773      22626        -2 2017-02-11 15:47:00     18089.0   \n",
       "1003     c541822      22697        -2 2017-01-21 16:53:00     21337.0   \n",
       "1100     c540057       post        -2 2017-01-04 14:29:00     18162.0   \n",
       "1181     c537652  amazonfee        -2 2016-12-07 15:51:00   AMAZONFEE   \n",
       "\n",
       "      shop_id  loyalty_program  \n",
       "64     shop 0                0  \n",
       "109    shop 0                1  \n",
       "112    shop 0                0  \n",
       "253    shop 0                1  \n",
       "344    shop 0                0  \n",
       "458    shop 0                0  \n",
       "468    shop 0                0  \n",
       "503    shop 0                0  \n",
       "636    shop 0                1  \n",
       "660    shop 0                1  \n",
       "742    shop 0                0  \n",
       "748    shop 0                0  \n",
       "776    shop 0                0  \n",
       "799    shop 4                0  \n",
       "859    shop 0                0  \n",
       "910    shop 0                0  \n",
       "970    shop 7                0  \n",
       "1003   shop 0                0  \n",
       "1100  shop 19                0  \n",
       "1181   shop 0                0  "
      ]
     },
     "execution_count": 20,
     "metadata": {},
     "output_type": "execute_result"
    }
   ],
   "source": [
    "retail_minus.head(20)"
   ]
  },
  {
   "cell_type": "markdown",
   "id": "883f8a92",
   "metadata": {},
   "source": [
    "**По количеству заказов видно, что есть отрицательные значения, много 0 значений, а также выбросы с большим количеством товаров в чеке. Отрицательные значения могут быть как возвратами, так и ошибочными чеками. \n",
    "Для анализа программы лояльности нам не нужны данные с отрицательными и 0 значениями количетства товаров, т.к. это не влияет на объем продаж и размер среднего чека, поэто удалим такие данные**"
   ]
  },
  {
   "cell_type": "markdown",
   "id": "ec19377d",
   "metadata": {},
   "source": [
    "Определим сколько данных в которых имеются выбросы по количеству товаров (> 250)"
   ]
  },
  {
   "cell_type": "code",
   "execution_count": 21,
   "id": "1fcb1c26",
   "metadata": {},
   "outputs": [],
   "source": [
    "retail_analiz = retail_plus.query('quantity < 250')"
   ]
  },
  {
   "cell_type": "code",
   "execution_count": 22,
   "id": "180004cf",
   "metadata": {},
   "outputs": [
    {
     "name": "stdout",
     "output_type": "stream",
     "text": [
      "Число позиций с аномальным количеством товаров: 217\n",
      "Доля позиций с аномальным количеством товаров от общего числа в очищенных данных: 0.003106034581472575\n"
     ]
    }
   ],
   "source": [
    "print('Число позиций с аномальным количеством товаров:', len(retail_plus) - len(retail_analiz))\n",
    "print('Доля позиций с аномальным количеством товаров от общего числа в очищенных данных:',\\\n",
    "      (len(retail_plus) - len(retail_analiz))/len(retail_plus))"
   ]
  },
  {
   "cell_type": "markdown",
   "id": "0b71d2c9",
   "metadata": {},
   "source": [
    "**Число позиций с выбросами не велико, поэтому можем их удалить**"
   ]
  },
  {
   "cell_type": "markdown",
   "id": "4e7e83ff",
   "metadata": {},
   "source": [
    "Проверим есть ли попадания покупателей одновременно в группу программы лояльности и без"
   ]
  },
  {
   "cell_type": "code",
   "execution_count": 23,
   "id": "e6c3086c",
   "metadata": {},
   "outputs": [
    {
     "data": {
      "text/plain": [
       "0"
      ]
     },
     "execution_count": 23,
     "metadata": {},
     "output_type": "execute_result"
    }
   ],
   "source": [
    "len(np.intersect1d(retail.query('loyalty_program == \"1.0\"')['customer_id'].unique(),\\\n",
    "                   retail.query('loyalty_program == \"0.0\"')['customer_id'].unique()))"
   ]
  },
  {
   "cell_type": "markdown",
   "id": "4f2f0ae7",
   "metadata": {},
   "source": [
    "Пересечений нет, соответсвенно покупатель представлен только в одной категории"
   ]
  },
  {
   "cell_type": "markdown",
   "id": "67958bb9",
   "metadata": {},
   "source": [
    "Посмотрим сколько у нас осталось данных по итогам предобработки"
   ]
  },
  {
   "cell_type": "code",
   "execution_count": 24,
   "id": "2ba1ffb6",
   "metadata": {
    "scrolled": true
   },
   "outputs": [
    {
     "name": "stdout",
     "output_type": "stream",
     "text": [
      "Число позиций с аномальным количеством товаров: 34655\n",
      "Доля позиций с аномальным количеством товаров от общего числа в очищенных данных: 0.3322563325727215\n"
     ]
    }
   ],
   "source": [
    "print('Число позиций с аномальным количеством товаров:', len(retail) - len(retail_analiz))\n",
    "print('Доля позиций с аномальным количеством товаров от общего числа в очищенных данных:',\\\n",
    "      (len(retail) - len(retail_analiz))/len(retail))"
   ]
  },
  {
   "cell_type": "markdown",
   "id": "efc25c70",
   "metadata": {},
   "source": [
    "В итоге мы удалили порядка 33% данных, за счет исключения дубликатов и строк с аномальными значениями по количеству товаров в позиции"
   ]
  },
  {
   "cell_type": "markdown",
   "id": "5b7fc981",
   "metadata": {},
   "source": [
    "**Вывод по предобработке данных:** \n",
    "\n",
    "    - Мы привели названия столбцов к стилистически более верному виду, привели к правильному типу данных столбец данными и идентификатор программы лояльности.\n",
    "    - Удалили явные дубликаты.\n",
    "    - Разделили датафрейм на части по значению количества товаров в чеке (отрицательное\\положеительное)\n",
    "    - Удалили записи с аномально высоким количеством уникальных товаров (более 250) в строке чека\n",
    "После предобработки данных количество записей, которые мы будем использовать для дальнейшего анализа снизилось на 33% от первоначального количества."
   ]
  },
  {
   "cell_type": "markdown",
   "id": "dfdb8dca",
   "metadata": {},
   "source": [
    "## 3. Исследовательский анализ данных: \n",
    "\n",
    "   **3.1 Данные датафрейма `product`**: <a id=\"cell4\"></a>  <font size = 2>[к оглавлению](#cell0)</font>"
   ]
  },
  {
   "cell_type": "markdown",
   "id": "5817cd2f",
   "metadata": {},
   "source": [
    "Посмотрим есть ли у нас товары с 0 ценой"
   ]
  },
  {
   "cell_type": "code",
   "execution_count": 25,
   "id": "7fa3633d",
   "metadata": {},
   "outputs": [
    {
     "data": {
      "text/plain": [
       "382"
      ]
     },
     "execution_count": 25,
     "metadata": {},
     "output_type": "execute_result"
    }
   ],
   "source": [
    "len(product.query('price_per_one == 0'))"
   ]
  },
  {
   "cell_type": "markdown",
   "id": "4012428f",
   "metadata": {},
   "source": [
    "так как товары с нулевой стоимостью не влияют на выручку удалим эти записи"
   ]
  },
  {
   "cell_type": "code",
   "execution_count": 26,
   "id": "19a4f4b1",
   "metadata": {},
   "outputs": [],
   "source": [
    "product = product.query('price_per_one != 0')"
   ]
  },
  {
   "cell_type": "markdown",
   "id": "8419b1e4",
   "metadata": {},
   "source": [
    "Посмотрим, существенно ли отличаются цены на один и тот же товар"
   ]
  },
  {
   "cell_type": "code",
   "execution_count": 27,
   "id": "02287a7d",
   "metadata": {
    "scrolled": true
   },
   "outputs": [
    {
     "data": {
      "image/png": "[encoded data removed]",
      "text/plain": [
       "<Figure size 1296x288 with 1 Axes>"
      ]
     },
     "metadata": {
      "needs_background": "light"
     },
     "output_type": "display_data"
    }
   ],
   "source": [
    "product.plot(x='item_id', y='price_per_one', figsize =(18,4), kind='scatter', alpha = 0.5)\n",
    "plt.title('Колебания цен на товары', size = 16)\n",
    "plt.xticks([]) # убиараем подписи по оси х\n",
    "plt.ylabel('Цена', size = 14)\n",
    "plt.xlabel('Товар', size = 14)\n",
    "plt.show()"
   ]
  },
  {
   "cell_type": "markdown",
   "id": "3622357f",
   "metadata": {},
   "source": [
    "Посмотрим, что за товары, по которым цена существенно отличается"
   ]
  },
  {
   "cell_type": "code",
   "execution_count": 28,
   "id": "d47500cb",
   "metadata": {},
   "outputs": [
    {
     "data": {
      "text/html": [
       "<div>\n",
       "<style scoped>\n",
       "    .dataframe tbody tr th:only-of-type {\n",
       "        vertical-align: middle;\n",
       "    }\n",
       "\n",
       "    .dataframe tbody tr th {\n",
       "        vertical-align: top;\n",
       "    }\n",
       "\n",
       "    .dataframe thead th {\n",
       "        text-align: right;\n",
       "    }\n",
       "</style>\n",
       "<table border=\"1\" class=\"dataframe\">\n",
       "  <thead>\n",
       "    <tr style=\"text-align: right;\">\n",
       "      <th></th>\n",
       "      <th>item_id</th>\n",
       "      <th>price_per_one</th>\n",
       "    </tr>\n",
       "  </thead>\n",
       "  <tbody>\n",
       "    <tr>\n",
       "      <th>1203</th>\n",
       "      <td>DOT</td>\n",
       "      <td>569.77</td>\n",
       "    </tr>\n",
       "    <tr>\n",
       "      <th>1866</th>\n",
       "      <td>DOT</td>\n",
       "      <td>607.49</td>\n",
       "    </tr>\n",
       "    <tr>\n",
       "      <th>2655</th>\n",
       "      <td>DOT</td>\n",
       "      <td>887.52</td>\n",
       "    </tr>\n",
       "    <tr>\n",
       "      <th>3427</th>\n",
       "      <td>DOT</td>\n",
       "      <td>863.74</td>\n",
       "    </tr>\n",
       "    <tr>\n",
       "      <th>3541</th>\n",
       "      <td>DOT</td>\n",
       "      <td>940.87</td>\n",
       "    </tr>\n",
       "    <tr>\n",
       "      <th>3773</th>\n",
       "      <td>DOT</td>\n",
       "      <td>950.99</td>\n",
       "    </tr>\n",
       "    <tr>\n",
       "      <th>3882</th>\n",
       "      <td>M</td>\n",
       "      <td>924.59</td>\n",
       "    </tr>\n",
       "    <tr>\n",
       "      <th>3900</th>\n",
       "      <td>M</td>\n",
       "      <td>631.31</td>\n",
       "    </tr>\n",
       "    <tr>\n",
       "      <th>3931</th>\n",
       "      <td>AMAZONFEE</td>\n",
       "      <td>13541.33</td>\n",
       "    </tr>\n",
       "    <tr>\n",
       "      <th>4015</th>\n",
       "      <td>DOT</td>\n",
       "      <td>836.14</td>\n",
       "    </tr>\n",
       "    <tr>\n",
       "      <th>4075</th>\n",
       "      <td>DOT</td>\n",
       "      <td>593.15</td>\n",
       "    </tr>\n",
       "    <tr>\n",
       "      <th>4088</th>\n",
       "      <td>DOT</td>\n",
       "      <td>607.96</td>\n",
       "    </tr>\n",
       "    <tr>\n",
       "      <th>4089</th>\n",
       "      <td>AMAZONFEE</td>\n",
       "      <td>13474.79</td>\n",
       "    </tr>\n",
       "    <tr>\n",
       "      <th>4094</th>\n",
       "      <td>AMAZONFEE</td>\n",
       "      <td>5519.25</td>\n",
       "    </tr>\n",
       "    <tr>\n",
       "      <th>4095</th>\n",
       "      <td>AMAZONFEE</td>\n",
       "      <td>6706.71</td>\n",
       "    </tr>\n",
       "    <tr>\n",
       "      <th>4152</th>\n",
       "      <td>DOT</td>\n",
       "      <td>701.95</td>\n",
       "    </tr>\n",
       "    <tr>\n",
       "      <th>4285</th>\n",
       "      <td>DOT</td>\n",
       "      <td>729.42</td>\n",
       "    </tr>\n",
       "    <tr>\n",
       "      <th>4485</th>\n",
       "      <td>DOT</td>\n",
       "      <td>885.94</td>\n",
       "    </tr>\n",
       "    <tr>\n",
       "      <th>4548</th>\n",
       "      <td>DOT</td>\n",
       "      <td>547.32</td>\n",
       "    </tr>\n",
       "    <tr>\n",
       "      <th>4560</th>\n",
       "      <td>DOT</td>\n",
       "      <td>620.68</td>\n",
       "    </tr>\n",
       "    <tr>\n",
       "      <th>4565</th>\n",
       "      <td>DOT</td>\n",
       "      <td>822.94</td>\n",
       "    </tr>\n",
       "    <tr>\n",
       "      <th>4616</th>\n",
       "      <td>DOT</td>\n",
       "      <td>847.42</td>\n",
       "    </tr>\n",
       "    <tr>\n",
       "      <th>4733</th>\n",
       "      <td>DOT</td>\n",
       "      <td>907.47</td>\n",
       "    </tr>\n",
       "    <tr>\n",
       "      <th>4876</th>\n",
       "      <td>DOT</td>\n",
       "      <td>641.86</td>\n",
       "    </tr>\n",
       "    <tr>\n",
       "      <th>4948</th>\n",
       "      <td>DOT</td>\n",
       "      <td>584.59</td>\n",
       "    </tr>\n",
       "    <tr>\n",
       "      <th>5041</th>\n",
       "      <td>BANK CHARGES</td>\n",
       "      <td>966.92</td>\n",
       "    </tr>\n",
       "    <tr>\n",
       "      <th>5043</th>\n",
       "      <td>M</td>\n",
       "      <td>1130.90</td>\n",
       "    </tr>\n",
       "    <tr>\n",
       "      <th>5411</th>\n",
       "      <td>DOT</td>\n",
       "      <td>510.79</td>\n",
       "    </tr>\n",
       "    <tr>\n",
       "      <th>5443</th>\n",
       "      <td>DOT</td>\n",
       "      <td>565.37</td>\n",
       "    </tr>\n",
       "    <tr>\n",
       "      <th>5472</th>\n",
       "      <td>DOT</td>\n",
       "      <td>803.55</td>\n",
       "    </tr>\n",
       "    <tr>\n",
       "      <th>5489</th>\n",
       "      <td>DOT</td>\n",
       "      <td>662.14</td>\n",
       "    </tr>\n",
       "    <tr>\n",
       "      <th>5522</th>\n",
       "      <td>DOT</td>\n",
       "      <td>603.62</td>\n",
       "    </tr>\n",
       "    <tr>\n",
       "      <th>5704</th>\n",
       "      <td>DOT</td>\n",
       "      <td>514.00</td>\n",
       "    </tr>\n",
       "    <tr>\n",
       "      <th>5707</th>\n",
       "      <td>DOT</td>\n",
       "      <td>549.79</td>\n",
       "    </tr>\n",
       "    <tr>\n",
       "      <th>5777</th>\n",
       "      <td>M</td>\n",
       "      <td>1298.40</td>\n",
       "    </tr>\n",
       "    <tr>\n",
       "      <th>5976</th>\n",
       "      <td>DOT</td>\n",
       "      <td>627.47</td>\n",
       "    </tr>\n",
       "    <tr>\n",
       "      <th>6133</th>\n",
       "      <td>AMAZONFEE</td>\n",
       "      <td>16888.02</td>\n",
       "    </tr>\n",
       "    <tr>\n",
       "      <th>6134</th>\n",
       "      <td>AMAZONFEE</td>\n",
       "      <td>16453.71</td>\n",
       "    </tr>\n",
       "    <tr>\n",
       "      <th>6243</th>\n",
       "      <td>M</td>\n",
       "      <td>1126.00</td>\n",
       "    </tr>\n",
       "    <tr>\n",
       "      <th>6401</th>\n",
       "      <td>DOT</td>\n",
       "      <td>557.00</td>\n",
       "    </tr>\n",
       "    <tr>\n",
       "      <th>8166</th>\n",
       "      <td>M</td>\n",
       "      <td>544.40</td>\n",
       "    </tr>\n",
       "    <tr>\n",
       "      <th>8167</th>\n",
       "      <td>M</td>\n",
       "      <td>1283.80</td>\n",
       "    </tr>\n",
       "    <tr>\n",
       "      <th>8168</th>\n",
       "      <td>BANK CHARGES</td>\n",
       "      <td>1050.15</td>\n",
       "    </tr>\n",
       "    <tr>\n",
       "      <th>8729</th>\n",
       "      <td>M</td>\n",
       "      <td>1715.85</td>\n",
       "    </tr>\n",
       "    <tr>\n",
       "      <th>9378</th>\n",
       "      <td>M</td>\n",
       "      <td>856.48</td>\n",
       "    </tr>\n",
       "    <tr>\n",
       "      <th>9476</th>\n",
       "      <td>M</td>\n",
       "      <td>1435.79</td>\n",
       "    </tr>\n",
       "    <tr>\n",
       "      <th>9477</th>\n",
       "      <td>BANK CHARGES</td>\n",
       "      <td>566.37</td>\n",
       "    </tr>\n",
       "    <tr>\n",
       "      <th>9478</th>\n",
       "      <td>M</td>\n",
       "      <td>869.55</td>\n",
       "    </tr>\n",
       "    <tr>\n",
       "      <th>9732</th>\n",
       "      <td>AMAZONFEE</td>\n",
       "      <td>5575.28</td>\n",
       "    </tr>\n",
       "    <tr>\n",
       "      <th>9733</th>\n",
       "      <td>AMAZONFEE</td>\n",
       "      <td>5258.77</td>\n",
       "    </tr>\n",
       "    <tr>\n",
       "      <th>9899</th>\n",
       "      <td>M</td>\n",
       "      <td>764.12</td>\n",
       "    </tr>\n",
       "  </tbody>\n",
       "</table>\n",
       "</div>"
      ],
      "text/plain": [
       "           item_id  price_per_one\n",
       "1203           DOT         569.77\n",
       "1866           DOT         607.49\n",
       "2655           DOT         887.52\n",
       "3427           DOT         863.74\n",
       "3541           DOT         940.87\n",
       "3773           DOT         950.99\n",
       "3882             M         924.59\n",
       "3900             M         631.31\n",
       "3931     AMAZONFEE       13541.33\n",
       "4015           DOT         836.14\n",
       "4075           DOT         593.15\n",
       "4088           DOT         607.96\n",
       "4089     AMAZONFEE       13474.79\n",
       "4094     AMAZONFEE        5519.25\n",
       "4095     AMAZONFEE        6706.71\n",
       "4152           DOT         701.95\n",
       "4285           DOT         729.42\n",
       "4485           DOT         885.94\n",
       "4548           DOT         547.32\n",
       "4560           DOT         620.68\n",
       "4565           DOT         822.94\n",
       "4616           DOT         847.42\n",
       "4733           DOT         907.47\n",
       "4876           DOT         641.86\n",
       "4948           DOT         584.59\n",
       "5041  BANK CHARGES         966.92\n",
       "5043             M        1130.90\n",
       "5411           DOT         510.79\n",
       "5443           DOT         565.37\n",
       "5472           DOT         803.55\n",
       "5489           DOT         662.14\n",
       "5522           DOT         603.62\n",
       "5704           DOT         514.00\n",
       "5707           DOT         549.79\n",
       "5777             M        1298.40\n",
       "5976           DOT         627.47\n",
       "6133     AMAZONFEE       16888.02\n",
       "6134     AMAZONFEE       16453.71\n",
       "6243             M        1126.00\n",
       "6401           DOT         557.00\n",
       "8166             M         544.40\n",
       "8167             M        1283.80\n",
       "8168  BANK CHARGES        1050.15\n",
       "8729             M        1715.85\n",
       "9378             M         856.48\n",
       "9476             M        1435.79\n",
       "9477  BANK CHARGES         566.37\n",
       "9478             M         869.55\n",
       "9732     AMAZONFEE        5575.28\n",
       "9733     AMAZONFEE        5258.77\n",
       "9899             M         764.12"
      ]
     },
     "execution_count": 28,
     "metadata": {},
     "output_type": "execute_result"
    }
   ],
   "source": [
    "product.query('price_per_one >500')"
   ]
  },
  {
   "cell_type": "markdown",
   "id": "b0ea4596",
   "metadata": {},
   "source": [
    "Проверим, встречаются ли данные обозначения в строках чеков"
   ]
  },
  {
   "cell_type": "code",
   "execution_count": 29,
   "id": "7946ec16",
   "metadata": {},
   "outputs": [
    {
     "data": {
      "text/plain": [
       "0"
      ]
     },
     "execution_count": 29,
     "metadata": {},
     "output_type": "execute_result"
    }
   ],
   "source": [
    "len(retail_analiz.query('item_id in (\"AMAZONFEE\", \"M\", \"DOT\", \"BANK CHARGES\")'))"
   ]
  },
  {
   "cell_type": "markdown",
   "id": "763fb723",
   "metadata": {},
   "source": [
    "**Таких обозначений нет, вероятно это технические обозначения, банковской комииссии и т.п. Для анализа программы лояльности они нам не пригодятся, а также они не перенесутся при объединении датафреймов.**"
   ]
  },
  {
   "cell_type": "markdown",
   "id": "8d175d71",
   "metadata": {},
   "source": [
    "**Товаров с 0 ценой достаточно много, возможно это подарки в рамках программы лояльности либо какие-то услуги. Учитываятот факт, что при анализе данных мы выявили, что количество на один товар может приходиться несколько разных цен, а среди них, вероятно могут быть колебания, то целесообразно взять медианное значение цены для дальнейшего анализа**"
   ]
  },
  {
   "cell_type": "markdown",
   "id": "859cbc0b",
   "metadata": {},
   "source": [
    "Определим для дальнейшего анализа цену одной единицы товара, как медианную"
   ]
  },
  {
   "cell_type": "code",
   "execution_count": 30,
   "id": "ca4c7c81",
   "metadata": {},
   "outputs": [
    {
     "data": {
      "text/html": [
       "<div>\n",
       "<style scoped>\n",
       "    .dataframe tbody tr th:only-of-type {\n",
       "        vertical-align: middle;\n",
       "    }\n",
       "\n",
       "    .dataframe tbody tr th {\n",
       "        vertical-align: top;\n",
       "    }\n",
       "\n",
       "    .dataframe thead th {\n",
       "        text-align: right;\n",
       "    }\n",
       "</style>\n",
       "<table border=\"1\" class=\"dataframe\">\n",
       "  <thead>\n",
       "    <tr style=\"text-align: right;\">\n",
       "      <th></th>\n",
       "      <th>item_id</th>\n",
       "      <th>price_per_one</th>\n",
       "    </tr>\n",
       "  </thead>\n",
       "  <tbody>\n",
       "    <tr>\n",
       "      <th>0</th>\n",
       "      <td>10002</td>\n",
       "      <td>1.630</td>\n",
       "    </tr>\n",
       "    <tr>\n",
       "      <th>1</th>\n",
       "      <td>10080</td>\n",
       "      <td>0.850</td>\n",
       "    </tr>\n",
       "    <tr>\n",
       "      <th>2</th>\n",
       "      <td>10120</td>\n",
       "      <td>0.210</td>\n",
       "    </tr>\n",
       "    <tr>\n",
       "      <th>3</th>\n",
       "      <td>10123C</td>\n",
       "      <td>0.650</td>\n",
       "    </tr>\n",
       "    <tr>\n",
       "      <th>4</th>\n",
       "      <td>10124A</td>\n",
       "      <td>0.420</td>\n",
       "    </tr>\n",
       "    <tr>\n",
       "      <th>...</th>\n",
       "      <td>...</td>\n",
       "      <td>...</td>\n",
       "    </tr>\n",
       "    <tr>\n",
       "      <th>3097</th>\n",
       "      <td>gift_0001_20</td>\n",
       "      <td>16.845</td>\n",
       "    </tr>\n",
       "    <tr>\n",
       "      <th>3098</th>\n",
       "      <td>gift_0001_30</td>\n",
       "      <td>25.265</td>\n",
       "    </tr>\n",
       "    <tr>\n",
       "      <th>3099</th>\n",
       "      <td>gift_0001_40</td>\n",
       "      <td>34.040</td>\n",
       "    </tr>\n",
       "    <tr>\n",
       "      <th>3100</th>\n",
       "      <td>gift_0001_50</td>\n",
       "      <td>42.550</td>\n",
       "    </tr>\n",
       "    <tr>\n",
       "      <th>3101</th>\n",
       "      <td>m</td>\n",
       "      <td>2.550</td>\n",
       "    </tr>\n",
       "  </tbody>\n",
       "</table>\n",
       "<p>3102 rows × 2 columns</p>\n",
       "</div>"
      ],
      "text/plain": [
       "           item_id  price_per_one\n",
       "0            10002          1.630\n",
       "1            10080          0.850\n",
       "2            10120          0.210\n",
       "3           10123C          0.650\n",
       "4           10124A          0.420\n",
       "...            ...            ...\n",
       "3097  gift_0001_20         16.845\n",
       "3098  gift_0001_30         25.265\n",
       "3099  gift_0001_40         34.040\n",
       "3100  gift_0001_50         42.550\n",
       "3101             m          2.550\n",
       "\n",
       "[3102 rows x 2 columns]"
      ]
     },
     "execution_count": 30,
     "metadata": {},
     "output_type": "execute_result"
    }
   ],
   "source": [
    "product_median = product.groupby('item_id').agg({'price_per_one': 'median'}).reset_index()\n",
    "product_median"
   ]
  },
  {
   "cell_type": "markdown",
   "id": "c8cebf88",
   "metadata": {},
   "source": [
    "**3.2 Данные датафрейма `retail_analiz`:** <a id=\"cell5\"></a>  <font size = 2>[к оглавлению](#cell0)</font>"
   ]
  },
  {
   "cell_type": "markdown",
   "id": "e63aa9ee",
   "metadata": {},
   "source": [
    "Объединим таблицы `retail_analiz` и `product_median` по id товару"
   ]
  },
  {
   "cell_type": "code",
   "execution_count": 31,
   "id": "a2f504e2",
   "metadata": {},
   "outputs": [],
   "source": [
    "retail_analiz = retail_analiz.merge(product_median, on = 'item_id')"
   ]
  },
  {
   "cell_type": "markdown",
   "id": "d6fcafba",
   "metadata": {},
   "source": [
    "Добавим столбец с сумарной стоиммостью товаров по строке в чеке"
   ]
  },
  {
   "cell_type": "code",
   "execution_count": 32,
   "id": "9747c9f8",
   "metadata": {},
   "outputs": [
    {
     "data": {
      "text/html": [
       "<div>\n",
       "<style scoped>\n",
       "    .dataframe tbody tr th:only-of-type {\n",
       "        vertical-align: middle;\n",
       "    }\n",
       "\n",
       "    .dataframe tbody tr th {\n",
       "        vertical-align: top;\n",
       "    }\n",
       "\n",
       "    .dataframe thead th {\n",
       "        text-align: right;\n",
       "    }\n",
       "</style>\n",
       "<table border=\"1\" class=\"dataframe\">\n",
       "  <thead>\n",
       "    <tr style=\"text-align: right;\">\n",
       "      <th></th>\n",
       "      <th>purchase_id</th>\n",
       "      <th>item_id</th>\n",
       "      <th>quantity</th>\n",
       "      <th>purchase_date</th>\n",
       "      <th>customer_id</th>\n",
       "      <th>shop_id</th>\n",
       "      <th>loyalty_program</th>\n",
       "      <th>price_per_one</th>\n",
       "      <th>price_sum</th>\n",
       "    </tr>\n",
       "  </thead>\n",
       "  <tbody>\n",
       "    <tr>\n",
       "      <th>0</th>\n",
       "      <td>538280</td>\n",
       "      <td>21873</td>\n",
       "      <td>11</td>\n",
       "      <td>2016-12-10 12:50:00</td>\n",
       "      <td>18427.0</td>\n",
       "      <td>shop 0</td>\n",
       "      <td>0</td>\n",
       "      <td>1.630</td>\n",
       "      <td>17.930</td>\n",
       "    </tr>\n",
       "    <tr>\n",
       "      <th>1</th>\n",
       "      <td>540418</td>\n",
       "      <td>21873</td>\n",
       "      <td>1</td>\n",
       "      <td>2017-01-07 11:04:00</td>\n",
       "      <td>21873</td>\n",
       "      <td>shop 0</td>\n",
       "      <td>0</td>\n",
       "      <td>1.630</td>\n",
       "      <td>1.630</td>\n",
       "    </tr>\n",
       "    <tr>\n",
       "      <th>2</th>\n",
       "      <td>541516</td>\n",
       "      <td>21873</td>\n",
       "      <td>2</td>\n",
       "      <td>2017-01-18 17:34:00</td>\n",
       "      <td>21873</td>\n",
       "      <td>shop 0</td>\n",
       "      <td>0</td>\n",
       "      <td>1.630</td>\n",
       "      <td>3.260</td>\n",
       "    </tr>\n",
       "    <tr>\n",
       "      <th>3</th>\n",
       "      <td>541566</td>\n",
       "      <td>21873</td>\n",
       "      <td>35</td>\n",
       "      <td>2017-01-19 11:50:00</td>\n",
       "      <td>23401.0</td>\n",
       "      <td>shop 0</td>\n",
       "      <td>1</td>\n",
       "      <td>1.630</td>\n",
       "      <td>57.050</td>\n",
       "    </tr>\n",
       "    <tr>\n",
       "      <th>4</th>\n",
       "      <td>538843</td>\n",
       "      <td>21873</td>\n",
       "      <td>1</td>\n",
       "      <td>2016-12-14 13:18:00</td>\n",
       "      <td>21712.0</td>\n",
       "      <td>shop 0</td>\n",
       "      <td>0</td>\n",
       "      <td>1.630</td>\n",
       "      <td>1.630</td>\n",
       "    </tr>\n",
       "    <tr>\n",
       "      <th>...</th>\n",
       "      <td>...</td>\n",
       "      <td>...</td>\n",
       "      <td>...</td>\n",
       "      <td>...</td>\n",
       "      <td>...</td>\n",
       "      <td>...</td>\n",
       "      <td>...</td>\n",
       "      <td>...</td>\n",
       "      <td>...</td>\n",
       "    </tr>\n",
       "    <tr>\n",
       "      <th>64500</th>\n",
       "      <td>544571</td>\n",
       "      <td>22541</td>\n",
       "      <td>23</td>\n",
       "      <td>2017-02-21 13:07:00</td>\n",
       "      <td>20825.0</td>\n",
       "      <td>shop 0</td>\n",
       "      <td>0</td>\n",
       "      <td>0.635</td>\n",
       "      <td>14.605</td>\n",
       "    </tr>\n",
       "    <tr>\n",
       "      <th>64501</th>\n",
       "      <td>541848</td>\n",
       "      <td>90073</td>\n",
       "      <td>1</td>\n",
       "      <td>2017-01-23 13:31:00</td>\n",
       "      <td>23290.0</td>\n",
       "      <td>shop 0</td>\n",
       "      <td>1</td>\n",
       "      <td>5.020</td>\n",
       "      <td>5.020</td>\n",
       "    </tr>\n",
       "    <tr>\n",
       "      <th>64502</th>\n",
       "      <td>542398</td>\n",
       "      <td>85047</td>\n",
       "      <td>1</td>\n",
       "      <td>2017-01-27 15:36:00</td>\n",
       "      <td>18853.0</td>\n",
       "      <td>shop 0</td>\n",
       "      <td>0</td>\n",
       "      <td>5.950</td>\n",
       "      <td>5.950</td>\n",
       "    </tr>\n",
       "    <tr>\n",
       "      <th>64503</th>\n",
       "      <td>542617</td>\n",
       "      <td>20731</td>\n",
       "      <td>2</td>\n",
       "      <td>2017-01-30 15:48:00</td>\n",
       "      <td>23142.0</td>\n",
       "      <td>shop 0</td>\n",
       "      <td>1</td>\n",
       "      <td>1.250</td>\n",
       "      <td>2.500</td>\n",
       "    </tr>\n",
       "    <tr>\n",
       "      <th>64504</th>\n",
       "      <td>538510</td>\n",
       "      <td>90094</td>\n",
       "      <td>1</td>\n",
       "      <td>2016-12-12 13:47:00</td>\n",
       "      <td>23683.0</td>\n",
       "      <td>shop 0</td>\n",
       "      <td>1</td>\n",
       "      <td>2.550</td>\n",
       "      <td>2.550</td>\n",
       "    </tr>\n",
       "  </tbody>\n",
       "</table>\n",
       "<p>64505 rows × 9 columns</p>\n",
       "</div>"
      ],
      "text/plain": [
       "      purchase_id item_id  quantity       purchase_date customer_id shop_id  \\\n",
       "0          538280   21873        11 2016-12-10 12:50:00     18427.0  shop 0   \n",
       "1          540418   21873         1 2017-01-07 11:04:00       21873  shop 0   \n",
       "2          541516   21873         2 2017-01-18 17:34:00       21873  shop 0   \n",
       "3          541566   21873        35 2017-01-19 11:50:00     23401.0  shop 0   \n",
       "4          538843   21873         1 2016-12-14 13:18:00     21712.0  shop 0   \n",
       "...           ...     ...       ...                 ...         ...     ...   \n",
       "64500      544571   22541        23 2017-02-21 13:07:00     20825.0  shop 0   \n",
       "64501      541848   90073         1 2017-01-23 13:31:00     23290.0  shop 0   \n",
       "64502      542398   85047         1 2017-01-27 15:36:00     18853.0  shop 0   \n",
       "64503      542617   20731         2 2017-01-30 15:48:00     23142.0  shop 0   \n",
       "64504      538510   90094         1 2016-12-12 13:47:00     23683.0  shop 0   \n",
       "\n",
       "       loyalty_program  price_per_one  price_sum  \n",
       "0                    0          1.630     17.930  \n",
       "1                    0          1.630      1.630  \n",
       "2                    0          1.630      3.260  \n",
       "3                    1          1.630     57.050  \n",
       "4                    0          1.630      1.630  \n",
       "...                ...            ...        ...  \n",
       "64500                0          0.635     14.605  \n",
       "64501                1          5.020      5.020  \n",
       "64502                0          5.950      5.950  \n",
       "64503                1          1.250      2.500  \n",
       "64504                1          2.550      2.550  \n",
       "\n",
       "[64505 rows x 9 columns]"
      ]
     },
     "execution_count": 32,
     "metadata": {},
     "output_type": "execute_result"
    }
   ],
   "source": [
    "retail_analiz['price_sum'] = retail_analiz['price_per_one']*retail_analiz['quantity']\n",
    "retail_analiz"
   ]
  },
  {
   "cell_type": "markdown",
   "id": "da9f326d",
   "metadata": {},
   "source": [
    "Оценим продажи (количество, сумма, средний чек) в различных магазинах сети. Выявить возможные особенности магазинов в зависимости от проводимых операций. А также определим количество покупателей по признаку лояльности в разрезе магазинов"
   ]
  },
  {
   "cell_type": "code",
   "execution_count": 33,
   "id": "3b56f453",
   "metadata": {},
   "outputs": [],
   "source": [
    "# создадим сводную таблицу с выделением покупателей, участвующих в программе лояльности\n",
    "shop_loyalty = retail_analiz.pivot_table(index = 'shop_id', \\\n",
    "                                         columns = 'loyalty_program', \\\n",
    "                                         values = 'customer_id', \\\n",
    "                                         aggfunc = 'nunique').reset_index()\n",
    "shop_loyalty.columns = ['shop_id', 'count_loyalty', 'count_no_loyalty']\n",
    "shop_loyalty['count_no_loyalty'] = shop_loyalty['count_no_loyalty'].fillna(0)\n",
    "shop_loyalty['count_loyalty'] = shop_loyalty['count_loyalty'].fillna(0)\n",
    "#shop_loyalty"
   ]
  },
  {
   "cell_type": "code",
   "execution_count": 34,
   "id": "796b47b5",
   "metadata": {},
   "outputs": [
    {
     "data": {
      "text/html": [
       "<div>\n",
       "<style scoped>\n",
       "    .dataframe tbody tr th:only-of-type {\n",
       "        vertical-align: middle;\n",
       "    }\n",
       "\n",
       "    .dataframe tbody tr th {\n",
       "        vertical-align: top;\n",
       "    }\n",
       "\n",
       "    .dataframe thead th {\n",
       "        text-align: right;\n",
       "    }\n",
       "</style>\n",
       "<table border=\"1\" class=\"dataframe\">\n",
       "  <thead>\n",
       "    <tr style=\"text-align: right;\">\n",
       "      <th></th>\n",
       "      <th>shop_id</th>\n",
       "      <th>count_purchase</th>\n",
       "      <th>count_item</th>\n",
       "      <th>price_sum</th>\n",
       "      <th>count_customer</th>\n",
       "      <th>count_loyalty</th>\n",
       "      <th>count_no_loyalty</th>\n",
       "    </tr>\n",
       "  </thead>\n",
       "  <tbody>\n",
       "    <tr>\n",
       "      <th>0</th>\n",
       "      <td>shop 0</td>\n",
       "      <td>3293</td>\n",
       "      <td>2138</td>\n",
       "      <td>1673237.985</td>\n",
       "      <td>3056</td>\n",
       "      <td>2506.0</td>\n",
       "      <td>550.0</td>\n",
       "    </tr>\n",
       "    <tr>\n",
       "      <th>1</th>\n",
       "      <td>shop 1</td>\n",
       "      <td>67</td>\n",
       "      <td>518</td>\n",
       "      <td>46477.980</td>\n",
       "      <td>37</td>\n",
       "      <td>37.0</td>\n",
       "      <td>0.0</td>\n",
       "    </tr>\n",
       "    <tr>\n",
       "      <th>2</th>\n",
       "      <td>shop 10</td>\n",
       "      <td>12</td>\n",
       "      <td>190</td>\n",
       "      <td>9814.600</td>\n",
       "      <td>8</td>\n",
       "      <td>8.0</td>\n",
       "      <td>0.0</td>\n",
       "    </tr>\n",
       "    <tr>\n",
       "      <th>3</th>\n",
       "      <td>shop 11</td>\n",
       "      <td>6</td>\n",
       "      <td>140</td>\n",
       "      <td>4105.095</td>\n",
       "      <td>5</td>\n",
       "      <td>5.0</td>\n",
       "      <td>0.0</td>\n",
       "    </tr>\n",
       "    <tr>\n",
       "      <th>4</th>\n",
       "      <td>shop 12</td>\n",
       "      <td>16</td>\n",
       "      <td>167</td>\n",
       "      <td>6501.460</td>\n",
       "      <td>10</td>\n",
       "      <td>10.0</td>\n",
       "      <td>0.0</td>\n",
       "    </tr>\n",
       "    <tr>\n",
       "      <th>5</th>\n",
       "      <td>shop 13</td>\n",
       "      <td>4</td>\n",
       "      <td>28</td>\n",
       "      <td>2551.045</td>\n",
       "      <td>1</td>\n",
       "      <td>1.0</td>\n",
       "      <td>0.0</td>\n",
       "    </tr>\n",
       "    <tr>\n",
       "      <th>6</th>\n",
       "      <td>shop 14</td>\n",
       "      <td>3</td>\n",
       "      <td>72</td>\n",
       "      <td>14852.355</td>\n",
       "      <td>2</td>\n",
       "      <td>2.0</td>\n",
       "      <td>0.0</td>\n",
       "    </tr>\n",
       "    <tr>\n",
       "      <th>7</th>\n",
       "      <td>shop 15</td>\n",
       "      <td>2</td>\n",
       "      <td>45</td>\n",
       "      <td>1585.945</td>\n",
       "      <td>1</td>\n",
       "      <td>1.0</td>\n",
       "      <td>0.0</td>\n",
       "    </tr>\n",
       "    <tr>\n",
       "      <th>8</th>\n",
       "      <td>shop 16</td>\n",
       "      <td>3</td>\n",
       "      <td>53</td>\n",
       "      <td>3620.935</td>\n",
       "      <td>3</td>\n",
       "      <td>3.0</td>\n",
       "      <td>0.0</td>\n",
       "    </tr>\n",
       "    <tr>\n",
       "      <th>9</th>\n",
       "      <td>shop 17</td>\n",
       "      <td>2</td>\n",
       "      <td>37</td>\n",
       "      <td>2205.150</td>\n",
       "      <td>2</td>\n",
       "      <td>2.0</td>\n",
       "      <td>0.0</td>\n",
       "    </tr>\n",
       "    <tr>\n",
       "      <th>10</th>\n",
       "      <td>shop 18</td>\n",
       "      <td>6</td>\n",
       "      <td>190</td>\n",
       "      <td>6737.990</td>\n",
       "      <td>5</td>\n",
       "      <td>5.0</td>\n",
       "      <td>0.0</td>\n",
       "    </tr>\n",
       "    <tr>\n",
       "      <th>11</th>\n",
       "      <td>shop 19</td>\n",
       "      <td>4</td>\n",
       "      <td>52</td>\n",
       "      <td>8130.680</td>\n",
       "      <td>3</td>\n",
       "      <td>2.0</td>\n",
       "      <td>1.0</td>\n",
       "    </tr>\n",
       "    <tr>\n",
       "      <th>12</th>\n",
       "      <td>shop 2</td>\n",
       "      <td>17</td>\n",
       "      <td>191</td>\n",
       "      <td>37347.225</td>\n",
       "      <td>7</td>\n",
       "      <td>7.0</td>\n",
       "      <td>0.0</td>\n",
       "    </tr>\n",
       "    <tr>\n",
       "      <th>13</th>\n",
       "      <td>shop 20</td>\n",
       "      <td>3</td>\n",
       "      <td>25</td>\n",
       "      <td>987.465</td>\n",
       "      <td>3</td>\n",
       "      <td>3.0</td>\n",
       "      <td>0.0</td>\n",
       "    </tr>\n",
       "    <tr>\n",
       "      <th>14</th>\n",
       "      <td>shop 21</td>\n",
       "      <td>2</td>\n",
       "      <td>30</td>\n",
       "      <td>1648.535</td>\n",
       "      <td>15</td>\n",
       "      <td>15.0</td>\n",
       "      <td>0.0</td>\n",
       "    </tr>\n",
       "    <tr>\n",
       "      <th>15</th>\n",
       "      <td>shop 22</td>\n",
       "      <td>4</td>\n",
       "      <td>32</td>\n",
       "      <td>3492.015</td>\n",
       "      <td>3</td>\n",
       "      <td>3.0</td>\n",
       "      <td>0.0</td>\n",
       "    </tr>\n",
       "    <tr>\n",
       "      <th>16</th>\n",
       "      <td>shop 24</td>\n",
       "      <td>1</td>\n",
       "      <td>31</td>\n",
       "      <td>4077.970</td>\n",
       "      <td>1</td>\n",
       "      <td>1.0</td>\n",
       "      <td>0.0</td>\n",
       "    </tr>\n",
       "    <tr>\n",
       "      <th>17</th>\n",
       "      <td>shop 25</td>\n",
       "      <td>1</td>\n",
       "      <td>45</td>\n",
       "      <td>3544.215</td>\n",
       "      <td>45</td>\n",
       "      <td>45.0</td>\n",
       "      <td>0.0</td>\n",
       "    </tr>\n",
       "    <tr>\n",
       "      <th>18</th>\n",
       "      <td>shop 26</td>\n",
       "      <td>1</td>\n",
       "      <td>55</td>\n",
       "      <td>2914.605</td>\n",
       "      <td>1</td>\n",
       "      <td>1.0</td>\n",
       "      <td>0.0</td>\n",
       "    </tr>\n",
       "    <tr>\n",
       "      <th>19</th>\n",
       "      <td>shop 27</td>\n",
       "      <td>1</td>\n",
       "      <td>44</td>\n",
       "      <td>2189.185</td>\n",
       "      <td>1</td>\n",
       "      <td>1.0</td>\n",
       "      <td>0.0</td>\n",
       "    </tr>\n",
       "    <tr>\n",
       "      <th>20</th>\n",
       "      <td>shop 28</td>\n",
       "      <td>1</td>\n",
       "      <td>30</td>\n",
       "      <td>1724.990</td>\n",
       "      <td>1</td>\n",
       "      <td>0.0</td>\n",
       "      <td>1.0</td>\n",
       "    </tr>\n",
       "    <tr>\n",
       "      <th>21</th>\n",
       "      <td>shop 29</td>\n",
       "      <td>1</td>\n",
       "      <td>9</td>\n",
       "      <td>238.035</td>\n",
       "      <td>1</td>\n",
       "      <td>1.0</td>\n",
       "      <td>0.0</td>\n",
       "    </tr>\n",
       "    <tr>\n",
       "      <th>22</th>\n",
       "      <td>shop 3</td>\n",
       "      <td>13</td>\n",
       "      <td>275</td>\n",
       "      <td>87510.720</td>\n",
       "      <td>4</td>\n",
       "      <td>4.0</td>\n",
       "      <td>0.0</td>\n",
       "    </tr>\n",
       "    <tr>\n",
       "      <th>23</th>\n",
       "      <td>shop 30</td>\n",
       "      <td>1</td>\n",
       "      <td>12</td>\n",
       "      <td>596.890</td>\n",
       "      <td>1</td>\n",
       "      <td>1.0</td>\n",
       "      <td>0.0</td>\n",
       "    </tr>\n",
       "    <tr>\n",
       "      <th>24</th>\n",
       "      <td>shop 4</td>\n",
       "      <td>77</td>\n",
       "      <td>640</td>\n",
       "      <td>52507.765</td>\n",
       "      <td>41</td>\n",
       "      <td>41.0</td>\n",
       "      <td>0.0</td>\n",
       "    </tr>\n",
       "    <tr>\n",
       "      <th>25</th>\n",
       "      <td>shop 5</td>\n",
       "      <td>4</td>\n",
       "      <td>106</td>\n",
       "      <td>6681.010</td>\n",
       "      <td>3</td>\n",
       "      <td>3.0</td>\n",
       "      <td>0.0</td>\n",
       "    </tr>\n",
       "    <tr>\n",
       "      <th>26</th>\n",
       "      <td>shop 6</td>\n",
       "      <td>36</td>\n",
       "      <td>558</td>\n",
       "      <td>60738.805</td>\n",
       "      <td>101</td>\n",
       "      <td>101.0</td>\n",
       "      <td>0.0</td>\n",
       "    </tr>\n",
       "    <tr>\n",
       "      <th>27</th>\n",
       "      <td>shop 7</td>\n",
       "      <td>10</td>\n",
       "      <td>242</td>\n",
       "      <td>11584.515</td>\n",
       "      <td>7</td>\n",
       "      <td>7.0</td>\n",
       "      <td>0.0</td>\n",
       "    </tr>\n",
       "    <tr>\n",
       "      <th>28</th>\n",
       "      <td>shop 8</td>\n",
       "      <td>16</td>\n",
       "      <td>328</td>\n",
       "      <td>14484.205</td>\n",
       "      <td>11</td>\n",
       "      <td>10.0</td>\n",
       "      <td>1.0</td>\n",
       "    </tr>\n",
       "    <tr>\n",
       "      <th>29</th>\n",
       "      <td>shop 9</td>\n",
       "      <td>4</td>\n",
       "      <td>52</td>\n",
       "      <td>2420.900</td>\n",
       "      <td>2</td>\n",
       "      <td>2.0</td>\n",
       "      <td>0.0</td>\n",
       "    </tr>\n",
       "  </tbody>\n",
       "</table>\n",
       "</div>"
      ],
      "text/plain": [
       "    shop_id  count_purchase  count_item    price_sum  count_customer  \\\n",
       "0    shop 0            3293        2138  1673237.985            3056   \n",
       "1    shop 1              67         518    46477.980              37   \n",
       "2   shop 10              12         190     9814.600               8   \n",
       "3   shop 11               6         140     4105.095               5   \n",
       "4   shop 12              16         167     6501.460              10   \n",
       "5   shop 13               4          28     2551.045               1   \n",
       "6   shop 14               3          72    14852.355               2   \n",
       "7   shop 15               2          45     1585.945               1   \n",
       "8   shop 16               3          53     3620.935               3   \n",
       "9   shop 17               2          37     2205.150               2   \n",
       "10  shop 18               6         190     6737.990               5   \n",
       "11  shop 19               4          52     8130.680               3   \n",
       "12   shop 2              17         191    37347.225               7   \n",
       "13  shop 20               3          25      987.465               3   \n",
       "14  shop 21               2          30     1648.535              15   \n",
       "15  shop 22               4          32     3492.015               3   \n",
       "16  shop 24               1          31     4077.970               1   \n",
       "17  shop 25               1          45     3544.215              45   \n",
       "18  shop 26               1          55     2914.605               1   \n",
       "19  shop 27               1          44     2189.185               1   \n",
       "20  shop 28               1          30     1724.990               1   \n",
       "21  shop 29               1           9      238.035               1   \n",
       "22   shop 3              13         275    87510.720               4   \n",
       "23  shop 30               1          12      596.890               1   \n",
       "24   shop 4              77         640    52507.765              41   \n",
       "25   shop 5               4         106     6681.010               3   \n",
       "26   shop 6              36         558    60738.805             101   \n",
       "27   shop 7              10         242    11584.515               7   \n",
       "28   shop 8              16         328    14484.205              11   \n",
       "29   shop 9               4          52     2420.900               2   \n",
       "\n",
       "    count_loyalty  count_no_loyalty  \n",
       "0          2506.0             550.0  \n",
       "1            37.0               0.0  \n",
       "2             8.0               0.0  \n",
       "3             5.0               0.0  \n",
       "4            10.0               0.0  \n",
       "5             1.0               0.0  \n",
       "6             2.0               0.0  \n",
       "7             1.0               0.0  \n",
       "8             3.0               0.0  \n",
       "9             2.0               0.0  \n",
       "10            5.0               0.0  \n",
       "11            2.0               1.0  \n",
       "12            7.0               0.0  \n",
       "13            3.0               0.0  \n",
       "14           15.0               0.0  \n",
       "15            3.0               0.0  \n",
       "16            1.0               0.0  \n",
       "17           45.0               0.0  \n",
       "18            1.0               0.0  \n",
       "19            1.0               0.0  \n",
       "20            0.0               1.0  \n",
       "21            1.0               0.0  \n",
       "22            4.0               0.0  \n",
       "23            1.0               0.0  \n",
       "24           41.0               0.0  \n",
       "25            3.0               0.0  \n",
       "26          101.0               0.0  \n",
       "27            7.0               0.0  \n",
       "28           10.0               1.0  \n",
       "29            2.0               0.0  "
      ]
     },
     "execution_count": 34,
     "metadata": {},
     "output_type": "execute_result"
    }
   ],
   "source": [
    "retail_shop = retail_analiz.groupby('shop_id')\\\n",
    "                               .agg({'purchase_id': 'nunique',\n",
    "                                     'item_id': 'nunique',\n",
    "                                     'price_sum': 'sum',\n",
    "                                     'customer_id' : 'nunique'\n",
    "                                     }).reset_index()\n",
    "retail_shop.columns = ['shop_id', 'count_purchase', 'count_item', 'price_sum', 'count_customer']\n",
    "retail_shop = retail_shop.merge(shop_loyalty, on = 'shop_id')\n",
    "retail_shop"
   ]
  },
  {
   "cell_type": "markdown",
   "id": "e03ccbc5",
   "metadata": {},
   "source": [
    "**Подавляющее число покупок, а так же число участников по программе лояльности приходится на магазин `shop 0`. Фактически получается, что программа лояльности реализована толоко в магазине `shop 0`. Кроме того, количество покупок в других магазинах несопоставимо с `shop 0`, возможно это пункты выдачи, либо магазины-партнеры. Соответсвенно, дальнейший анализ проведем по  магазину `shop 0`**"
   ]
  },
  {
   "cell_type": "code",
   "execution_count": 35,
   "id": "ff733c8e",
   "metadata": {},
   "outputs": [],
   "source": [
    "retail_analiz = retail_analiz.query('shop_id  == \"shop 0\"')"
   ]
  },
  {
   "cell_type": "markdown",
   "id": "6b72615b",
   "metadata": {},
   "source": [
    "Для дальнейшего анализа группируем объедиенную таблицу по id покупателя и найдем общую сумму и количество покупок"
   ]
  },
  {
   "cell_type": "code",
   "execution_count": 36,
   "id": "3466292b",
   "metadata": {},
   "outputs": [
    {
     "data": {
      "text/html": [
       "<div>\n",
       "<style scoped>\n",
       "    .dataframe tbody tr th:only-of-type {\n",
       "        vertical-align: middle;\n",
       "    }\n",
       "\n",
       "    .dataframe tbody tr th {\n",
       "        vertical-align: top;\n",
       "    }\n",
       "\n",
       "    .dataframe thead th {\n",
       "        text-align: right;\n",
       "    }\n",
       "</style>\n",
       "<table border=\"1\" class=\"dataframe\">\n",
       "  <thead>\n",
       "    <tr style=\"text-align: right;\">\n",
       "      <th></th>\n",
       "      <th>customer_id</th>\n",
       "      <th>purchase_id</th>\n",
       "      <th>price_sum</th>\n",
       "      <th>quantity</th>\n",
       "      <th>loyalty_program</th>\n",
       "    </tr>\n",
       "  </thead>\n",
       "  <tbody>\n",
       "    <tr>\n",
       "      <th>0</th>\n",
       "      <td>18426.0</td>\n",
       "      <td>3</td>\n",
       "      <td>1595.735</td>\n",
       "      <td>265</td>\n",
       "      <td>0</td>\n",
       "    </tr>\n",
       "    <tr>\n",
       "      <th>1</th>\n",
       "      <td>18427.0</td>\n",
       "      <td>35</td>\n",
       "      <td>4552.990</td>\n",
       "      <td>2109</td>\n",
       "      <td>0</td>\n",
       "    </tr>\n",
       "    <tr>\n",
       "      <th>2</th>\n",
       "      <td>18499.0</td>\n",
       "      <td>1</td>\n",
       "      <td>282.735</td>\n",
       "      <td>135</td>\n",
       "      <td>0</td>\n",
       "    </tr>\n",
       "    <tr>\n",
       "      <th>3</th>\n",
       "      <td>18502.0</td>\n",
       "      <td>2</td>\n",
       "      <td>971.040</td>\n",
       "      <td>68</td>\n",
       "      <td>0</td>\n",
       "    </tr>\n",
       "    <tr>\n",
       "      <th>4</th>\n",
       "      <td>18505.0</td>\n",
       "      <td>3</td>\n",
       "      <td>996.650</td>\n",
       "      <td>494</td>\n",
       "      <td>0</td>\n",
       "    </tr>\n",
       "    <tr>\n",
       "      <th>...</th>\n",
       "      <td>...</td>\n",
       "      <td>...</td>\n",
       "      <td>...</td>\n",
       "      <td>...</td>\n",
       "      <td>...</td>\n",
       "    </tr>\n",
       "    <tr>\n",
       "      <th>3051</th>\n",
       "      <td>90169</td>\n",
       "      <td>2</td>\n",
       "      <td>5.080</td>\n",
       "      <td>2</td>\n",
       "      <td>0</td>\n",
       "    </tr>\n",
       "    <tr>\n",
       "      <th>3052</th>\n",
       "      <td>90170</td>\n",
       "      <td>1</td>\n",
       "      <td>1.670</td>\n",
       "      <td>1</td>\n",
       "      <td>0</td>\n",
       "    </tr>\n",
       "    <tr>\n",
       "      <th>3053</th>\n",
       "      <td>90173</td>\n",
       "      <td>1</td>\n",
       "      <td>3.750</td>\n",
       "      <td>1</td>\n",
       "      <td>0</td>\n",
       "    </tr>\n",
       "    <tr>\n",
       "      <th>3054</th>\n",
       "      <td>90208</td>\n",
       "      <td>3</td>\n",
       "      <td>7.530</td>\n",
       "      <td>3</td>\n",
       "      <td>0</td>\n",
       "    </tr>\n",
       "    <tr>\n",
       "      <th>3055</th>\n",
       "      <td>M</td>\n",
       "      <td>1</td>\n",
       "      <td>2.550</td>\n",
       "      <td>1</td>\n",
       "      <td>0</td>\n",
       "    </tr>\n",
       "  </tbody>\n",
       "</table>\n",
       "<p>3056 rows × 5 columns</p>\n",
       "</div>"
      ],
      "text/plain": [
       "     customer_id  purchase_id  price_sum  quantity  loyalty_program\n",
       "0        18426.0            3   1595.735       265                0\n",
       "1        18427.0           35   4552.990      2109                0\n",
       "2        18499.0            1    282.735       135                0\n",
       "3        18502.0            2    971.040        68                0\n",
       "4        18505.0            3    996.650       494                0\n",
       "...          ...          ...        ...       ...              ...\n",
       "3051       90169            2      5.080         2                0\n",
       "3052       90170            1      1.670         1                0\n",
       "3053       90173            1      3.750         1                0\n",
       "3054       90208            3      7.530         3                0\n",
       "3055           M            1      2.550         1                0\n",
       "\n",
       "[3056 rows x 5 columns]"
      ]
     },
     "execution_count": 36,
     "metadata": {},
     "output_type": "execute_result"
    }
   ],
   "source": [
    "retail_customer = retail_analiz.groupby('customer_id')\\\n",
    "                               .agg({'purchase_id': 'nunique',\n",
    "                                     'price_sum': 'sum',\n",
    "                                     'quantity' : 'sum',\n",
    "                                     'loyalty_program': 'min'}).reset_index()\n",
    "retail_customer"
   ]
  },
  {
   "cell_type": "markdown",
   "id": "2f05500c",
   "metadata": {},
   "source": [
    "Так же сгруппируем суммы покупок по id чеку"
   ]
  },
  {
   "cell_type": "code",
   "execution_count": 37,
   "id": "a8f5a168",
   "metadata": {},
   "outputs": [
    {
     "data": {
      "text/html": [
       "<div>\n",
       "<style scoped>\n",
       "    .dataframe tbody tr th:only-of-type {\n",
       "        vertical-align: middle;\n",
       "    }\n",
       "\n",
       "    .dataframe tbody tr th {\n",
       "        vertical-align: top;\n",
       "    }\n",
       "\n",
       "    .dataframe thead th {\n",
       "        text-align: right;\n",
       "    }\n",
       "</style>\n",
       "<table border=\"1\" class=\"dataframe\">\n",
       "  <thead>\n",
       "    <tr style=\"text-align: right;\">\n",
       "      <th></th>\n",
       "      <th>purchase_id</th>\n",
       "      <th>purchase_date</th>\n",
       "      <th>quantity</th>\n",
       "      <th>price_sum</th>\n",
       "      <th>loyalty_program</th>\n",
       "      <th>customer_id</th>\n",
       "    </tr>\n",
       "  </thead>\n",
       "  <tbody>\n",
       "    <tr>\n",
       "      <th>0</th>\n",
       "      <td>536365</td>\n",
       "      <td>2016-12-01 08:26:00</td>\n",
       "      <td>16</td>\n",
       "      <td>113.440</td>\n",
       "      <td>1</td>\n",
       "      <td>23529.0</td>\n",
       "    </tr>\n",
       "    <tr>\n",
       "      <th>1</th>\n",
       "      <td>536366</td>\n",
       "      <td>2016-12-01 08:28:00</td>\n",
       "      <td>10</td>\n",
       "      <td>21.000</td>\n",
       "      <td>1</td>\n",
       "      <td>23529.0</td>\n",
       "    </tr>\n",
       "    <tr>\n",
       "      <th>2</th>\n",
       "      <td>536367</td>\n",
       "      <td>2016-12-01 08:34:00</td>\n",
       "      <td>71</td>\n",
       "      <td>297.320</td>\n",
       "      <td>0</td>\n",
       "      <td>18726.0</td>\n",
       "    </tr>\n",
       "    <tr>\n",
       "      <th>3</th>\n",
       "      <td>536368</td>\n",
       "      <td>2016-12-01 08:34:00</td>\n",
       "      <td>11</td>\n",
       "      <td>96.090</td>\n",
       "      <td>0</td>\n",
       "      <td>18726.0</td>\n",
       "    </tr>\n",
       "    <tr>\n",
       "      <th>4</th>\n",
       "      <td>536369</td>\n",
       "      <td>2016-12-01 08:35:00</td>\n",
       "      <td>2</td>\n",
       "      <td>13.200</td>\n",
       "      <td>0</td>\n",
       "      <td>18726.0</td>\n",
       "    </tr>\n",
       "    <tr>\n",
       "      <th>...</th>\n",
       "      <td>...</td>\n",
       "      <td>...</td>\n",
       "      <td>...</td>\n",
       "      <td>...</td>\n",
       "      <td>...</td>\n",
       "      <td>...</td>\n",
       "    </tr>\n",
       "    <tr>\n",
       "      <th>3288</th>\n",
       "      <td>545214</td>\n",
       "      <td>2017-02-28 16:39:00</td>\n",
       "      <td>90</td>\n",
       "      <td>225.810</td>\n",
       "      <td>1</td>\n",
       "      <td>22844.0</td>\n",
       "    </tr>\n",
       "    <tr>\n",
       "      <th>3289</th>\n",
       "      <td>545215</td>\n",
       "      <td>2017-02-28 16:47:00</td>\n",
       "      <td>329</td>\n",
       "      <td>955.135</td>\n",
       "      <td>0</td>\n",
       "      <td>20677</td>\n",
       "    </tr>\n",
       "    <tr>\n",
       "      <th>3290</th>\n",
       "      <td>545216</td>\n",
       "      <td>2017-02-28 16:50:00</td>\n",
       "      <td>138</td>\n",
       "      <td>449.250</td>\n",
       "      <td>0</td>\n",
       "      <td>16235</td>\n",
       "    </tr>\n",
       "    <tr>\n",
       "      <th>3291</th>\n",
       "      <td>545217</td>\n",
       "      <td>2017-02-28 16:59:00</td>\n",
       "      <td>178</td>\n",
       "      <td>483.555</td>\n",
       "      <td>0</td>\n",
       "      <td>15036</td>\n",
       "    </tr>\n",
       "    <tr>\n",
       "      <th>3292</th>\n",
       "      <td>545218</td>\n",
       "      <td>2017-02-28 17:01:00</td>\n",
       "      <td>132</td>\n",
       "      <td>702.865</td>\n",
       "      <td>1</td>\n",
       "      <td>23141.0</td>\n",
       "    </tr>\n",
       "  </tbody>\n",
       "</table>\n",
       "<p>3293 rows × 6 columns</p>\n",
       "</div>"
      ],
      "text/plain": [
       "     purchase_id       purchase_date  quantity  price_sum  loyalty_program  \\\n",
       "0         536365 2016-12-01 08:26:00        16    113.440                1   \n",
       "1         536366 2016-12-01 08:28:00        10     21.000                1   \n",
       "2         536367 2016-12-01 08:34:00        71    297.320                0   \n",
       "3         536368 2016-12-01 08:34:00        11     96.090                0   \n",
       "4         536369 2016-12-01 08:35:00         2     13.200                0   \n",
       "...          ...                 ...       ...        ...              ...   \n",
       "3288      545214 2017-02-28 16:39:00        90    225.810                1   \n",
       "3289      545215 2017-02-28 16:47:00       329    955.135                0   \n",
       "3290      545216 2017-02-28 16:50:00       138    449.250                0   \n",
       "3291      545217 2017-02-28 16:59:00       178    483.555                0   \n",
       "3292      545218 2017-02-28 17:01:00       132    702.865                1   \n",
       "\n",
       "     customer_id  \n",
       "0        23529.0  \n",
       "1        23529.0  \n",
       "2        18726.0  \n",
       "3        18726.0  \n",
       "4        18726.0  \n",
       "...          ...  \n",
       "3288     22844.0  \n",
       "3289       20677  \n",
       "3290       16235  \n",
       "3291       15036  \n",
       "3292     23141.0  \n",
       "\n",
       "[3293 rows x 6 columns]"
      ]
     },
     "execution_count": 37,
     "metadata": {},
     "output_type": "execute_result"
    }
   ],
   "source": [
    "retail_check = retail_analiz.groupby('purchase_id')\\\n",
    "                               .agg({'purchase_date': 'min',\n",
    "                                     'quantity' : 'sum',\n",
    "                                     'price_sum': 'sum',\n",
    "                                     'loyalty_program': 'min',\n",
    "                                     'customer_id': 'min'\n",
    "                                     }).reset_index()\n",
    "retail_check"
   ]
  },
  {
   "cell_type": "markdown",
   "id": "c62abb1c",
   "metadata": {},
   "source": [
    "Определим доли участников программы лояльности"
   ]
  },
  {
   "cell_type": "code",
   "execution_count": 38,
   "id": "7937520f",
   "metadata": {},
   "outputs": [
    {
     "data": {
      "text/html": [
       "<div>\n",
       "<style scoped>\n",
       "    .dataframe tbody tr th:only-of-type {\n",
       "        vertical-align: middle;\n",
       "    }\n",
       "\n",
       "    .dataframe tbody tr th {\n",
       "        vertical-align: top;\n",
       "    }\n",
       "\n",
       "    .dataframe thead th {\n",
       "        text-align: right;\n",
       "    }\n",
       "</style>\n",
       "<table border=\"1\" class=\"dataframe\">\n",
       "  <thead>\n",
       "    <tr style=\"text-align: right;\">\n",
       "      <th></th>\n",
       "      <th>loyalty_program</th>\n",
       "    </tr>\n",
       "  </thead>\n",
       "  <tbody>\n",
       "    <tr>\n",
       "      <th>0</th>\n",
       "      <td>2506</td>\n",
       "    </tr>\n",
       "    <tr>\n",
       "      <th>1</th>\n",
       "      <td>550</td>\n",
       "    </tr>\n",
       "  </tbody>\n",
       "</table>\n",
       "</div>"
      ],
      "text/plain": [
       "   loyalty_program\n",
       "0             2506\n",
       "1              550"
      ]
     },
     "execution_count": 38,
     "metadata": {},
     "output_type": "execute_result"
    }
   ],
   "source": [
    "loyalty = pd.DataFrame(retail_customer['loyalty_program'].value_counts())\n",
    "round(loyalty['loyalty_program']/retail_customer['loyalty_program']\\\n",
    "      .count()*100)\n",
    "loyalty"
   ]
  },
  {
   "cell_type": "code",
   "execution_count": 39,
   "id": "47f9884c",
   "metadata": {},
   "outputs": [
    {
     "data": {
      "image/png": "[encoded data removed]",
      "text/plain": [
       "<Figure size 432x288 with 1 Axes>"
      ]
     },
     "metadata": {},
     "output_type": "display_data"
    }
   ],
   "source": [
    "loyalty.plot(kind = 'pie', subplots=True, legend = False, autopct='%1.0f%%')\n",
    "plt.title('Доля участников программы лояльности', size = 20)\n",
    "plt.show()"
   ]
  },
  {
   "cell_type": "markdown",
   "id": "61429a3b",
   "metadata": {},
   "source": [
    "**Доля покупателей с картами лояльности всего 18 %**"
   ]
  },
  {
   "cell_type": "markdown",
   "id": "a20d4b09",
   "metadata": {},
   "source": [
    "Проанализируем клиентов, попробуем выделить наличие корпоративных покупателей"
   ]
  },
  {
   "cell_type": "markdown",
   "id": "cbabc7ba",
   "metadata": {},
   "source": [
    "Для определения корпоративных покупателей так же не будем использовать неидентифицированных пользователей, основываясь на предположении, что такие пользователи совершили не более 1 покупки. Удалим их при построении графика."
   ]
  },
  {
   "cell_type": "code",
   "execution_count": 40,
   "id": "ce32fd4a",
   "metadata": {},
   "outputs": [
    {
     "data": {
      "image/png": "[encoded data removed]",
      "text/plain": [
       "<Figure size 1296x288 with 1 Axes>"
      ]
     },
     "metadata": {
      "needs_background": "light"
     },
     "output_type": "display_data"
    }
   ],
   "source": [
    "retail_check.plot(x='purchase_id', y='price_sum', figsize =(18,4), kind='scatter', alpha = 0.5)\n",
    "plt.title('Суммы чеков', size = 16)\n",
    "plt.xticks([]) # убиараем подписи по оси х\n",
    "plt.ylabel('Сумма чека', size = 14)\n",
    "plt.xlabel('Чек', size = 14)\n",
    "plt.show()"
   ]
  },
  {
   "cell_type": "markdown",
   "id": "ccf4a72f",
   "metadata": {},
   "source": [
    "Посчитаем какие значения сумм чеков соответсвуют 95, 97,5 и 99 перцентилю."
   ]
  },
  {
   "cell_type": "code",
   "execution_count": 41,
   "id": "a786d68d",
   "metadata": {},
   "outputs": [
    {
     "name": "stdout",
     "output_type": "stream",
     "text": [
      "[1601.389  2410.0915 3585.1408]\n"
     ]
    }
   ],
   "source": [
    "print(np.percentile(retail_check['price_sum'], [95,97.5, 99])) "
   ]
  },
  {
   "cell_type": "markdown",
   "id": "294663bc",
   "metadata": {},
   "source": [
    "Сделаем допущение, что оптовые\\корпоративные клиенты, попадают в 2,5% покупателей с наибольшей суммой чеков. В реальном исследовании необходимо учточнить у заказчика эту информацию, т.к. могут иметься данные о том, кто является корпоративным клиентом.\n",
    "Удалим данные по оптовым клиентам, т.к. они могут существенно искажать данные за счет занчительных объемов заказов.\n"
   ]
  },
  {
   "cell_type": "code",
   "execution_count": 42,
   "id": "a9884758",
   "metadata": {},
   "outputs": [],
   "source": [
    "corp_customer_sum = np.percentile(retail_check['price_sum'], 97.5)\n",
    "retail_check = retail_check.query('price_sum < @corp_customer_sum')"
   ]
  },
  {
   "cell_type": "code",
   "execution_count": 43,
   "id": "25058b61",
   "metadata": {},
   "outputs": [
    {
     "name": "stdout",
     "output_type": "stream",
     "text": [
      "Дата начала исследования 2016-12-01 08:26:00\n",
      "Дата окончания исследования 2017-02-28 17:04:00\n"
     ]
    }
   ],
   "source": [
    "# Определим даты начала и окончания эксперимента\n",
    "print(f'Дата начала исследования', retail['purchase_date'].min())\n",
    "print(f'Дата окончания исследования', retail['purchase_date'].max())"
   ]
  },
  {
   "cell_type": "markdown",
   "id": "26ed20f8",
   "metadata": {},
   "source": [
    "Сравним количество и суммы заказов на различных временных промежутках (дням/неделям)"
   ]
  },
  {
   "cell_type": "markdown",
   "id": "4daa343b",
   "metadata": {},
   "source": [
    "Для того, чтобы показать подневные продажи с учетом выходных дней созаддим датафрейм с полным списком дат в промежутке аншего иссследования и присоединим его к таблице с чеками"
   ]
  },
  {
   "cell_type": "code",
   "execution_count": 44,
   "id": "f6edfd0f",
   "metadata": {},
   "outputs": [
    {
     "data": {
      "image/png": "[encoded data removed]",
      "text/plain": [
       "<Figure size 1296x288 with 1 Axes>"
      ]
     },
     "metadata": {
      "needs_background": "light"
     },
     "output_type": "display_data"
    }
   ],
   "source": [
    "retail_check['date'] = pd.to_datetime(retail_check['purchase_date'].dt.date) # выделим только дату без времени\n",
    "\n",
    "# Создадим датафрейм с датами в интервале нашего исследования\n",
    "date_full = pd.date_range(retail_check['date'].min(), retail_check['date'].max()).to_frame(index=False, name ='date_full')\n",
    "\n",
    "# Объединим с нашим датафреймом чеков\n",
    "retail_check = retail_check.merge(date_full, left_on = 'date', right_on = 'date_full', how = 'right')\n",
    "\n",
    "retail_check['date_full'] = retail_check['date_full'].dt.date\n",
    "\n",
    "# построим подневный график\n",
    "retail_check.groupby('date_full').agg({'price_sum': 'sum'}).plot(kind = 'bar', figsize =(18, 4))\n",
    "plt.title('Распределение сумм продаж по дням', size = 14)\n",
    "plt.ylabel('Сумма по чекам', size = 12)\n",
    "plt.xlabel('День', size = 12)\n",
    "plt.show()"
   ]
  },
  {
   "cell_type": "markdown",
   "id": "63d8693e",
   "metadata": {},
   "source": [
    "В подневных продажах, с учетом выходным видны идентичные колебания, причем в декабре дневные продажи выше, чем в январе и феврале, кроме того с 24 декаря по 3 января продаж нет, что может быть связано с рождественскими/новогодними праздниками."
   ]
  },
  {
   "cell_type": "code",
   "execution_count": 45,
   "id": "48b2c92f",
   "metadata": {},
   "outputs": [
    {
     "data": {
      "image/png": "[encoded data removed]",
      "text/plain": [
       "<Figure size 1296x288 with 1 Axes>"
      ]
     },
     "metadata": {
      "needs_background": "light"
     },
     "output_type": "display_data"
    }
   ],
   "source": [
    "retail_check['week'] = retail_check['purchase_date'].dt.strftime('%U %Y')\n",
    "retail_check_week = retail_check.groupby('week')\\\n",
    "                                    .agg({'price_sum': 'sum'})\n",
    "retail_check_week.plot(kind='bar', figsize =(18, 4), grid = True)\n",
    "plt.title('Распределение сумм продаж по неделям', size = 14)\n",
    "plt.ylabel('Сумма по чекам', size = 12)\n",
    "plt.xlabel('Неделя в году', size = 12)\n",
    "plt.show()"
   ]
  },
  {
   "cell_type": "markdown",
   "id": "f47fb583",
   "metadata": {},
   "source": [
    "Продажи в декабре выше чем в январе и феврале. Учитывая меньшее количество дней в феврале чем в январе можно считать что среднедневные продажи близки."
   ]
  },
  {
   "cell_type": "markdown",
   "id": "31254012",
   "metadata": {},
   "source": [
    "## 4. Анализ программы лояльности: <a id=\"cell6\"></a>  <font size = 2>[к оглавлению](#cell0)</font>"
   ]
  },
  {
   "cell_type": "markdown",
   "id": "487ea0c3",
   "metadata": {},
   "source": [
    "Найдем средний чек и среднее количество товара по магазину `shop_0` в разрезе покупателей участвующих в программе лояльности и нет."
   ]
  },
  {
   "cell_type": "code",
   "execution_count": 46,
   "id": "2091561f",
   "metadata": {},
   "outputs": [
    {
     "data": {
      "text/html": [
       "<div>\n",
       "<style scoped>\n",
       "    .dataframe tbody tr th:only-of-type {\n",
       "        vertical-align: middle;\n",
       "    }\n",
       "\n",
       "    .dataframe tbody tr th {\n",
       "        vertical-align: top;\n",
       "    }\n",
       "\n",
       "    .dataframe thead th {\n",
       "        text-align: right;\n",
       "    }\n",
       "</style>\n",
       "<table border=\"1\" class=\"dataframe\">\n",
       "  <thead>\n",
       "    <tr style=\"text-align: right;\">\n",
       "      <th></th>\n",
       "      <th>price_sum</th>\n",
       "      <th>quantity</th>\n",
       "    </tr>\n",
       "    <tr>\n",
       "      <th>loyalty_program</th>\n",
       "      <th></th>\n",
       "      <th></th>\n",
       "    </tr>\n",
       "  </thead>\n",
       "  <tbody>\n",
       "    <tr>\n",
       "      <th>0.0</th>\n",
       "      <td>436.717963</td>\n",
       "      <td>145.748009</td>\n",
       "    </tr>\n",
       "    <tr>\n",
       "      <th>1.0</th>\n",
       "      <td>379.335549</td>\n",
       "      <td>130.094884</td>\n",
       "    </tr>\n",
       "  </tbody>\n",
       "</table>\n",
       "</div>"
      ],
      "text/plain": [
       "                  price_sum    quantity\n",
       "loyalty_program                        \n",
       "0.0              436.717963  145.748009\n",
       "1.0              379.335549  130.094884"
      ]
     },
     "execution_count": 46,
     "metadata": {},
     "output_type": "execute_result"
    }
   ],
   "source": [
    "average_check = retail_check.groupby('loyalty_program')\\\n",
    "                                    .agg({'price_sum': 'mean',\n",
    "                                          'quantity': 'mean'})#.reset_index()\n",
    "average_check"
   ]
  },
  {
   "cell_type": "markdown",
   "id": "f7ce75e2",
   "metadata": {},
   "source": [
    "Средний чек, так и количество заказов в группе покупателей не участвующей в программе лояльности выше, чем в группе, участвующих в программе лояльности."
   ]
  },
  {
   "cell_type": "markdown",
   "id": "ff78a299",
   "metadata": {},
   "source": [
    "Paccчитаем пожизненную ценность (LTV) для категорйи в прамках программы лояльности. добавим к "
   ]
  },
  {
   "cell_type": "code",
   "execution_count": 47,
   "id": "697796e7",
   "metadata": {},
   "outputs": [
    {
     "name": "stdout",
     "output_type": "stream",
     "text": [
      "LTV участников программы лояльности : 884.8356454545454\n",
      "LTV покупателей не участвующих в программе лояльности : 473.4949640861931\n",
      "LTV больше в: 1.868732959308673 раз\n"
     ]
    }
   ],
   "source": [
    "print('LTV участников программы лояльности :', retail_customer.query('loyalty_program == 1')['price_sum'].sum()\\\n",
    "                                              /retail_customer.query('loyalty_program == 1')['customer_id'].count())\n",
    "print('LTV покупателей не участвующих в программе лояльности :', retail_customer.query('loyalty_program == 0')['price_sum'].sum()\\\n",
    "                                              /(retail_customer.query('loyalty_program == 0')['customer_id'].count()))\n",
    "print('LTV больше в:',(retail_customer.query('loyalty_program == 1')['price_sum'].sum()\\\n",
    "                                              /retail_customer.query('loyalty_program == 1')['customer_id'].count())\\\n",
    "                                              /(retail_customer.query('loyalty_program == 0')['price_sum'].sum()\\\n",
    "                                              /(retail_customer.query('loyalty_program == 0')['customer_id'].count())), 'раз')"
   ]
  },
  {
   "cell_type": "code",
   "execution_count": 48,
   "id": "07c7796c",
   "metadata": {
    "scrolled": true
   },
   "outputs": [
    {
     "data": {
      "image/png": "[encoded data removed]",
      "text/plain": [
       "<Figure size 432x288 with 1 Axes>"
      ]
     },
     "metadata": {
      "needs_background": "light"
     },
     "output_type": "display_data"
    }
   ],
   "source": [
    "ltv = pd.DataFrame([retail_customer.query('loyalty_program == 1')['price_sum'].sum()\\\n",
    "          /retail_customer.query('loyalty_program == 1')['customer_id'].count(),\\\n",
    "     retail_customer.query('loyalty_program == 0')['price_sum'].sum()\\\n",
    "          /(retail_customer.query('loyalty_program == 0')['customer_id'].count())])\n",
    "ltv['group']= ['Участвующие','Не участвующие']\n",
    "ltv = ltv.set_index('group')\n",
    "ltv.plot(kind = 'bar', legend = False, title = 'LTV в зависимости от участия в програме лояльности', rot = 1)\n",
    "plt.show()"
   ]
  },
  {
   "cell_type": "markdown",
   "id": "6487870f",
   "metadata": {},
   "source": [
    "**Вывод по анализу программы лояльности:** Средний чек, так и количество заказов в группе покупателей не участвующей в программе лояльности выше, чем в группе, участвующих в программе лояльности.\n",
    "\n",
    "При этом LTV участников программы лояльности выше на 87% относительно LTV покупателей не участвующих в программе лояльности. соответственно участники программы лояльности несмотря на меньший средний чек приносят больше выручки с течением времени."
   ]
  },
  {
   "cell_type": "markdown",
   "id": "6baeba79",
   "metadata": {},
   "source": [
    "## 5. Проверка статистических гипотез:   <a id=\"cell7\"></a>  <font size = 2>[к оглавлению](#cell0)</font>  "
   ]
  },
  {
   "cell_type": "markdown",
   "id": "e8cdd6b7",
   "metadata": {},
   "source": [
    "Проверку на одновременное в группу программы лояльности и без мы провели в предобрадотке данных, соотвественно можно производить сравнение групп.  При проверке гипотез будем применять непараметрический тест Уилкоксона-Манна-Уитни, так как нами зафиксированы выбросы, а данный метод как раз подходит при их наличии. Уровень alpha зададим в размере 0.05.\n",
    "\n",
    "Ранее мы рассчитали, что средний чек и среднее количество товаров в чеке покупателей, участвующих в программе лояльности ниже, чем у остальных покупателей.\n",
    "Сформулируем гипотезы:\n",
    "\n",
    "**Гипотеза 1:** \n",
    "\n",
    "`H0 Нулевая` - средний чек участников программы статистически не отличается от остальных покупателей,\n",
    "\n",
    "`H1 Альтернативная` - средний чек участников программы лояльности меньше, чем у остальных покупателей"
   ]
  },
  {
   "cell_type": "code",
   "execution_count": 49,
   "id": "1b4be8ca",
   "metadata": {},
   "outputs": [
    {
     "name": "stdout",
     "output_type": "stream",
     "text": [
      "Средний чек покупателей участвующих в программе лояльности ниже среднего чека не участвующих покупателей на -13.1 %\n",
      "p-значение:  0.024843380549559403\n",
      "Отвергаем нулевую гипотезу: разница статистически значима\n"
     ]
    }
   ],
   "source": [
    "alpha = 0.05\n",
    "results = (stats.mannwhitneyu(retail_check[retail_check['loyalty_program']==0]['price_sum'],\\\n",
    "                              retail_check[retail_check['loyalty_program']==1]['price_sum'], True, 'greater'))\n",
    "\n",
    "print(('Средний чек покупателей участвующих в программе лояльности ниже среднего чека не участвующих\\\n",
    " покупателей на ' \"{0:.1f}\"\\\n",
    "       .format((retail_check[retail_check['loyalty_program']==1]['price_sum'].mean()\\\n",
    "                /retail_check[retail_check['loyalty_program']==0]['price_sum'].mean()-1)*100)), '%')\n",
    "\n",
    "print('p-значение: ', results.pvalue) \n",
    "if results.pvalue < alpha:\n",
    "    print('Отвергаем нулевую гипотезу: разница статистически значима')\n",
    "else:\n",
    "    print('Не получилось отвергнуть нулевую гипотезу, вывод о различии сделать нельзя') "
   ]
  },
  {
   "cell_type": "markdown",
   "id": "03f31a5e",
   "metadata": {},
   "source": [
    "**Гипотеза 2:** \n",
    "\n",
    "`H0 Нулевая` - среднее количество заказов у участников программы лояльности не отличается от остальных покупателей,\n",
    "\n",
    "`H1 Альтернативная` - среднее количество заказов у участников программы лояльности ниже, чем у остальных покупателей"
   ]
  },
  {
   "cell_type": "code",
   "execution_count": 50,
   "id": "b6aa9097",
   "metadata": {},
   "outputs": [
    {
     "name": "stdout",
     "output_type": "stream",
     "text": [
      "Среднее кол-во заказов покупателей участвующих в программе лояльности ниже среднего кол-ва заказов не участвующих покупателей на -10.7 %\n",
      "p-значение:  0.11742747936725223\n",
      "Не получилось отвергнуть нулевую гипотезу, вывод о различии сделать нельзя\n"
     ]
    }
   ],
   "source": [
    "results = (stats.mannwhitneyu(retail_check[retail_check['loyalty_program']==0]['quantity'],\\\n",
    "                              retail_check[retail_check['loyalty_program']==1]['quantity'], True, 'greater'))\n",
    "\n",
    "print(('Среднее кол-во заказов покупателей участвующих в программе лояльности ниже среднего кол-ва заказов\\\n",
    " не участвующих покупателей на ' \"{0:.1f}\"\\\n",
    "       .format((retail_check[retail_check['loyalty_program']==1]['quantity'].mean()\\\n",
    "                /retail_check[retail_check['loyalty_program']==0]['quantity'].mean()-1)*100)), '%')\n",
    "\n",
    "print('p-значение: ', results.pvalue) \n",
    "if results.pvalue < alpha:\n",
    "    print('Отвергаем нулевую гипотезу: разница статистически значима')\n",
    "else:\n",
    "    print('Не получилось отвергнуть нулевую гипотезу, вывод о различии сделать нельзя') "
   ]
  },
  {
   "cell_type": "markdown",
   "id": "8f429a67",
   "metadata": {},
   "source": [
    "**Вывод по анализу статистических гипотез:** \n",
    "- В результате анализа получилось, что средний чек покупателей участвующих в программе лояльности статистически значимо ниже среднего чека не участвующих покупателей на -13.1 %\n",
    "- Среднее кол-во заказов покупателей участвующих в программе лояльности статистически значимо не отличается от среднего кол-ва заказов не участвующих в программе лояльности покупателей "
   ]
  },
  {
   "cell_type": "markdown",
   "id": "ec66ed71",
   "metadata": {},
   "source": [
    "## 6. Итоги исследования (выводы и рекомендации) <a id=\"cell8\"></a>  <font size = 2>[к оглавлению](#cell0)</font>\n",
    " - Подавляющее число покупок, а так же число участников по программе лояльности приходится на магазин `shop 0`. Фактически  программа лояльности реализована толоко в этом магазине. Кроме того, количество покупок в других магазинах несопоставимо с `shop 0`, возможно это пункты выдачи, либо магазины-партнеры. Соответсвенно, наш анализ проведился по магазину `shop 0`.\n",
    " \n",
    "\n",
    "- В результате анализа получилось, что средний чек покупателей участвующих в программе лояльности статистически значимо ниже среднего чека не участвующих покупателей на -13.1 %.\n",
    "\n",
    "\n",
    "- Среднее кол-во заказов покупателей участвующих в программе лояльности статистически значимо не отличается от среднего кол-ва заказов не участвующих в программе лояльности покупателей\n",
    "\n",
    "\n",
    "- **LTV участников программы лояльности выше на 87% относительно LTV покупателей не участвующих в программе лояльности. Cоответсвенно участники программы лояльности несмотря на меньший средний чек приносят больше выручки с течением времени.**\n",
    "\n",
    "**Рекомендации по итогам проведенного анализа:** \n",
    "\n",
    "\n",
    "- Провести анализ на большем объеме данных (за больший срок), учитывая, что после очистки данных пришлось удалить значительный объем.\n",
    "\n",
    "\n",
    "- В таблице продуктов в  дальнейшем при сборе данных целесообразно фиксировать дату присвоения цены, а также делать привязку цены к программе лояльности, если она идет со скидкой.\n",
    "\n",
    "\n",
    "- В реальном исследовании необходимо разобраться с заказчиком на конкретных примерах, что вызвало попадание в данные товаров и чеков с нулевым(отрицательным) количеством или стоимостью.   "
   ]
  },
  {
   "cell_type": "code",
   "execution_count": null,
   "id": "29ce100f",
   "metadata": {},
   "outputs": [],
   "source": []
  }
 ],
 "metadata": {
  "ExecuteTimeLog": [
   {
    "duration": 1401,
    "start_time": "2023-04-11T12:54:21.276Z"
   },
   {
    "duration": 450,
    "start_time": "2023-04-11T12:54:22.679Z"
   },
   {
    "duration": 16,
    "start_time": "2023-04-11T12:54:23.130Z"
   },
   {
    "duration": 26,
    "start_time": "2023-04-11T12:54:23.147Z"
   },
   {
    "duration": 38,
    "start_time": "2023-04-11T12:54:23.175Z"
   },
   {
    "duration": 8,
    "start_time": "2023-04-11T12:54:23.214Z"
   },
   {
    "duration": 17,
    "start_time": "2023-04-11T12:54:23.223Z"
   },
   {
    "duration": 18,
    "start_time": "2023-04-11T12:54:23.241Z"
   },
   {
    "duration": 4,
    "start_time": "2023-04-11T12:54:23.261Z"
   },
   {
    "duration": 16,
    "start_time": "2023-04-11T12:54:23.266Z"
   },
   {
    "duration": 21,
    "start_time": "2023-04-11T12:54:23.284Z"
   },
   {
    "duration": 271,
    "start_time": "2023-04-11T12:54:23.307Z"
   },
   {
    "duration": 59,
    "start_time": "2023-04-11T12:54:23.580Z"
   },
   {
    "duration": 76,
    "start_time": "2023-04-11T12:54:23.655Z"
   },
   {
    "duration": 27,
    "start_time": "2023-04-11T12:54:23.733Z"
   },
   {
    "duration": 164,
    "start_time": "2023-04-11T12:54:23.761Z"
   },
   {
    "duration": 693,
    "start_time": "2023-04-11T12:54:23.927Z"
   },
   {
    "duration": 616,
    "start_time": "2023-04-11T12:54:24.622Z"
   },
   {
    "duration": 26,
    "start_time": "2023-04-11T12:54:25.239Z"
   },
   {
    "duration": 14,
    "start_time": "2023-04-11T12:54:25.267Z"
   },
   {
    "duration": 113,
    "start_time": "2023-04-11T12:54:25.283Z"
   },
   {
    "duration": 4,
    "start_time": "2023-04-11T12:54:25.398Z"
   },
   {
    "duration": 26,
    "start_time": "2023-04-11T12:54:25.403Z"
   },
   {
    "duration": 3,
    "start_time": "2023-04-11T12:54:25.431Z"
   },
   {
    "duration": 22,
    "start_time": "2023-04-11T12:54:25.436Z"
   },
   {
    "duration": 16,
    "start_time": "2023-04-11T12:54:25.459Z"
   },
   {
    "duration": 3230,
    "start_time": "2023-04-11T12:54:25.477Z"
   },
   {
    "duration": 15,
    "start_time": "2023-04-11T12:54:28.709Z"
   },
   {
    "duration": 31,
    "start_time": "2023-04-11T12:54:28.726Z"
   },
   {
    "duration": 18,
    "start_time": "2023-04-11T12:54:28.759Z"
   },
   {
    "duration": 80,
    "start_time": "2023-04-11T12:54:28.778Z"
   },
   {
    "duration": 22,
    "start_time": "2023-04-11T12:54:28.860Z"
   },
   {
    "duration": 117,
    "start_time": "2023-04-11T12:54:28.884Z"
   },
   {
    "duration": 110,
    "start_time": "2023-04-11T12:54:29.004Z"
   },
   {
    "duration": 28,
    "start_time": "2023-04-11T12:54:29.116Z"
   },
   {
    "duration": 61,
    "start_time": "2023-04-11T12:54:29.156Z"
   },
   {
    "duration": 342,
    "start_time": "2023-04-11T12:54:29.219Z"
   },
   {
    "duration": 13,
    "start_time": "2023-04-11T12:54:29.564Z"
   },
   {
    "duration": 144,
    "start_time": "2023-04-11T12:54:29.579Z"
   },
   {
    "duration": 35,
    "start_time": "2023-04-11T12:54:29.725Z"
   },
   {
    "duration": 4,
    "start_time": "2023-04-11T12:54:29.766Z"
   },
   {
    "duration": 130,
    "start_time": "2023-04-11T12:54:29.772Z"
   },
   {
    "duration": 3687,
    "start_time": "2023-04-11T12:54:29.904Z"
   },
   {
    "duration": 6,
    "start_time": "2023-04-11T12:54:33.593Z"
   },
   {
    "duration": 76,
    "start_time": "2023-04-11T12:54:33.601Z"
   },
   {
    "duration": 12,
    "start_time": "2023-04-11T12:54:33.679Z"
   },
   {
    "duration": 322,
    "start_time": "2023-04-11T12:54:33.693Z"
   },
   {
    "duration": 166,
    "start_time": "2023-04-11T12:54:34.017Z"
   },
   {
    "duration": 12,
    "start_time": "2023-04-11T12:54:34.184Z"
   },
   {
    "duration": 24,
    "start_time": "2023-04-11T12:54:34.198Z"
   },
   {
    "duration": 35,
    "start_time": "2023-04-11T12:54:34.223Z"
   },
   {
    "duration": 14,
    "start_time": "2023-04-11T12:54:34.260Z"
   },
   {
    "duration": 1496,
    "start_time": "2023-04-12T07:16:56.593Z"
   },
   {
    "duration": 518,
    "start_time": "2023-04-12T07:16:58.092Z"
   },
   {
    "duration": 18,
    "start_time": "2023-04-12T07:16:58.612Z"
   },
   {
    "duration": 31,
    "start_time": "2023-04-12T07:16:58.631Z"
   },
   {
    "duration": 66,
    "start_time": "2023-04-12T07:16:58.664Z"
   },
   {
    "duration": 8,
    "start_time": "2023-04-12T07:16:58.731Z"
   },
   {
    "duration": 15,
    "start_time": "2023-04-12T07:16:58.740Z"
   },
   {
    "duration": 5,
    "start_time": "2023-04-12T07:16:58.756Z"
   },
   {
    "duration": 24,
    "start_time": "2023-04-12T07:16:58.762Z"
   },
   {
    "duration": 18,
    "start_time": "2023-04-12T07:16:58.790Z"
   },
   {
    "duration": 21,
    "start_time": "2023-04-12T07:16:58.810Z"
   },
   {
    "duration": 313,
    "start_time": "2023-04-12T07:16:58.833Z"
   },
   {
    "duration": 68,
    "start_time": "2023-04-12T07:16:59.148Z"
   },
   {
    "duration": 83,
    "start_time": "2023-04-12T07:16:59.218Z"
   },
   {
    "duration": 22,
    "start_time": "2023-04-12T07:16:59.304Z"
   },
   {
    "duration": 184,
    "start_time": "2023-04-12T07:16:59.328Z"
   },
   {
    "duration": 752,
    "start_time": "2023-04-12T07:16:59.513Z"
   },
   {
    "duration": 698,
    "start_time": "2023-04-12T07:17:00.267Z"
   },
   {
    "duration": 19,
    "start_time": "2023-04-12T07:17:00.967Z"
   },
   {
    "duration": 27,
    "start_time": "2023-04-12T07:17:00.989Z"
   },
   {
    "duration": 125,
    "start_time": "2023-04-12T07:17:01.018Z"
   },
   {
    "duration": 5,
    "start_time": "2023-04-12T07:17:01.145Z"
   },
   {
    "duration": 56,
    "start_time": "2023-04-12T07:17:01.151Z"
   },
   {
    "duration": 11,
    "start_time": "2023-04-12T07:17:01.208Z"
   },
   {
    "duration": 44,
    "start_time": "2023-04-12T07:17:01.221Z"
   },
   {
    "duration": 36,
    "start_time": "2023-04-12T07:17:01.266Z"
   },
   {
    "duration": 3543,
    "start_time": "2023-04-12T07:17:01.305Z"
   },
   {
    "duration": 14,
    "start_time": "2023-04-12T07:17:04.853Z"
   },
   {
    "duration": 23,
    "start_time": "2023-04-12T07:17:04.869Z"
   },
   {
    "duration": 20,
    "start_time": "2023-04-12T07:17:04.897Z"
   },
   {
    "duration": 83,
    "start_time": "2023-04-12T07:17:04.919Z"
   },
   {
    "duration": 19,
    "start_time": "2023-04-12T07:17:05.005Z"
   },
   {
    "duration": 105,
    "start_time": "2023-04-12T07:17:05.026Z"
   },
   {
    "duration": 111,
    "start_time": "2023-04-12T07:17:05.133Z"
   },
   {
    "duration": 24,
    "start_time": "2023-04-12T07:17:05.245Z"
   },
   {
    "duration": 63,
    "start_time": "2023-04-12T07:17:05.271Z"
   },
   {
    "duration": 371,
    "start_time": "2023-04-12T07:17:05.336Z"
   },
   {
    "duration": 11,
    "start_time": "2023-04-12T07:17:05.709Z"
   },
   {
    "duration": 122,
    "start_time": "2023-04-12T07:17:05.721Z"
   },
   {
    "duration": 22,
    "start_time": "2023-04-12T07:17:05.845Z"
   },
   {
    "duration": 17,
    "start_time": "2023-04-12T07:17:05.868Z"
   },
   {
    "duration": 116,
    "start_time": "2023-04-12T07:17:05.887Z"
   },
   {
    "duration": 3865,
    "start_time": "2023-04-12T07:17:06.005Z"
   },
   {
    "duration": 5,
    "start_time": "2023-04-12T07:17:09.872Z"
   },
   {
    "duration": 11,
    "start_time": "2023-04-12T07:17:09.884Z"
   },
   {
    "duration": 7,
    "start_time": "2023-04-12T07:17:09.898Z"
   },
   {
    "duration": 341,
    "start_time": "2023-04-12T07:17:09.907Z"
   },
   {
    "duration": 189,
    "start_time": "2023-04-12T07:17:10.250Z"
   },
   {
    "duration": 10,
    "start_time": "2023-04-12T07:17:10.441Z"
   },
   {
    "duration": 37,
    "start_time": "2023-04-12T07:17:10.453Z"
   },
   {
    "duration": 15,
    "start_time": "2023-04-12T07:17:10.493Z"
   },
   {
    "duration": 13,
    "start_time": "2023-04-12T07:17:10.510Z"
   },
   {
    "duration": 1196,
    "start_time": "2023-04-12T07:17:25.118Z"
   },
   {
    "duration": 311,
    "start_time": "2023-04-12T07:17:26.316Z"
   },
   {
    "duration": 18,
    "start_time": "2023-04-12T07:17:26.629Z"
   },
   {
    "duration": 29,
    "start_time": "2023-04-12T07:17:26.648Z"
   },
   {
    "duration": 68,
    "start_time": "2023-04-12T07:17:26.680Z"
   },
   {
    "duration": 8,
    "start_time": "2023-04-12T07:17:26.750Z"
   },
   {
    "duration": 31,
    "start_time": "2023-04-12T07:17:26.760Z"
   },
   {
    "duration": 7,
    "start_time": "2023-04-12T07:17:26.794Z"
   },
   {
    "duration": 5,
    "start_time": "2023-04-12T07:17:26.803Z"
   },
   {
    "duration": 16,
    "start_time": "2023-04-12T07:17:26.810Z"
   },
   {
    "duration": 24,
    "start_time": "2023-04-12T07:17:26.827Z"
   },
   {
    "duration": 394,
    "start_time": "2023-04-12T07:17:26.853Z"
   },
   {
    "duration": 88,
    "start_time": "2023-04-12T07:17:27.249Z"
   },
   {
    "duration": 96,
    "start_time": "2023-04-12T07:17:27.341Z"
   },
   {
    "duration": 21,
    "start_time": "2023-04-12T07:17:27.439Z"
   },
   {
    "duration": 209,
    "start_time": "2023-04-12T07:17:27.462Z"
   },
   {
    "duration": 857,
    "start_time": "2023-04-12T07:17:27.673Z"
   },
   {
    "duration": 709,
    "start_time": "2023-04-12T07:17:28.532Z"
   },
   {
    "duration": 16,
    "start_time": "2023-04-12T07:17:29.243Z"
   },
   {
    "duration": 25,
    "start_time": "2023-04-12T07:17:29.261Z"
   },
   {
    "duration": 101,
    "start_time": "2023-04-12T07:17:29.289Z"
   },
   {
    "duration": 5,
    "start_time": "2023-04-12T07:17:29.393Z"
   },
   {
    "duration": 19,
    "start_time": "2023-04-12T07:17:29.400Z"
   },
   {
    "duration": 4,
    "start_time": "2023-04-12T07:17:29.421Z"
   },
   {
    "duration": 11,
    "start_time": "2023-04-12T07:17:29.426Z"
   },
   {
    "duration": 4,
    "start_time": "2023-04-12T07:17:29.438Z"
   },
   {
    "duration": 3549,
    "start_time": "2023-04-12T07:17:29.444Z"
   },
   {
    "duration": 16,
    "start_time": "2023-04-12T07:17:32.997Z"
   },
   {
    "duration": 17,
    "start_time": "2023-04-12T07:17:33.015Z"
   },
   {
    "duration": 17,
    "start_time": "2023-04-12T07:17:33.034Z"
   },
   {
    "duration": 84,
    "start_time": "2023-04-12T07:17:33.053Z"
   },
   {
    "duration": 21,
    "start_time": "2023-04-12T07:17:33.138Z"
   },
   {
    "duration": 102,
    "start_time": "2023-04-12T07:17:33.161Z"
   },
   {
    "duration": 109,
    "start_time": "2023-04-12T07:17:33.265Z"
   },
   {
    "duration": 36,
    "start_time": "2023-04-12T07:17:33.376Z"
   },
   {
    "duration": 48,
    "start_time": "2023-04-12T07:17:33.414Z"
   },
   {
    "duration": 351,
    "start_time": "2023-04-12T07:17:33.464Z"
   },
   {
    "duration": 11,
    "start_time": "2023-04-12T07:17:33.817Z"
   },
   {
    "duration": 124,
    "start_time": "2023-04-12T07:17:33.830Z"
   },
   {
    "duration": 31,
    "start_time": "2023-04-12T07:17:33.955Z"
   },
   {
    "duration": 4,
    "start_time": "2023-04-12T07:17:33.990Z"
   },
   {
    "duration": 137,
    "start_time": "2023-04-12T07:17:33.996Z"
   },
   {
    "duration": 3632,
    "start_time": "2023-04-12T07:17:34.136Z"
   },
   {
    "duration": 4,
    "start_time": "2023-04-12T07:17:37.770Z"
   },
   {
    "duration": 17,
    "start_time": "2023-04-12T07:17:37.776Z"
   },
   {
    "duration": 8,
    "start_time": "2023-04-12T07:17:37.795Z"
   },
   {
    "duration": 290,
    "start_time": "2023-04-12T07:17:37.804Z"
   },
   {
    "duration": 192,
    "start_time": "2023-04-12T07:17:38.097Z"
   },
   {
    "duration": 16,
    "start_time": "2023-04-12T07:17:38.292Z"
   },
   {
    "duration": 22,
    "start_time": "2023-04-12T07:17:38.312Z"
   },
   {
    "duration": 15,
    "start_time": "2023-04-12T07:17:38.335Z"
   },
   {
    "duration": 48,
    "start_time": "2023-04-12T07:17:38.352Z"
   },
   {
    "duration": 19,
    "start_time": "2023-04-12T07:52:24.501Z"
   },
   {
    "duration": 965,
    "start_time": "2023-04-12T07:53:25.600Z"
   },
   {
    "duration": 22,
    "start_time": "2023-04-12T07:53:37.137Z"
   },
   {
    "duration": 894,
    "start_time": "2023-04-12T07:53:47.595Z"
   },
   {
    "duration": 14,
    "start_time": "2023-04-12T07:54:17.737Z"
   },
   {
    "duration": 6,
    "start_time": "2023-04-12T07:54:43.144Z"
   },
   {
    "duration": 19,
    "start_time": "2023-04-12T07:54:49.407Z"
   },
   {
    "duration": 6,
    "start_time": "2023-04-12T07:55:19.347Z"
   },
   {
    "duration": 19,
    "start_time": "2023-04-12T07:55:20.465Z"
   },
   {
    "duration": 6,
    "start_time": "2023-04-12T07:55:41.550Z"
   },
   {
    "duration": 19,
    "start_time": "2023-04-12T07:55:42.198Z"
   },
   {
    "duration": 6,
    "start_time": "2023-04-12T07:56:30.044Z"
   },
   {
    "duration": 21,
    "start_time": "2023-04-12T07:56:31.078Z"
   },
   {
    "duration": 12,
    "start_time": "2023-04-12T07:57:20.064Z"
   },
   {
    "duration": 13,
    "start_time": "2023-04-12T07:57:49.840Z"
   },
   {
    "duration": 14,
    "start_time": "2023-04-12T07:59:37.218Z"
   },
   {
    "duration": 16,
    "start_time": "2023-04-12T07:59:44.799Z"
   },
   {
    "duration": 24,
    "start_time": "2023-04-12T07:59:58.289Z"
   },
   {
    "duration": 197,
    "start_time": "2023-04-12T08:00:05.378Z"
   },
   {
    "duration": 184,
    "start_time": "2023-04-12T08:00:12.231Z"
   },
   {
    "duration": 1779,
    "start_time": "2023-04-12T08:00:31.997Z"
   },
   {
    "duration": 187,
    "start_time": "2023-04-12T08:00:57.952Z"
   },
   {
    "duration": 28,
    "start_time": "2023-04-12T08:01:00.747Z"
   },
   {
    "duration": 1224,
    "start_time": "2023-04-12T08:01:26.436Z"
   },
   {
    "duration": 404,
    "start_time": "2023-04-12T08:01:27.662Z"
   },
   {
    "duration": 19,
    "start_time": "2023-04-12T08:01:28.068Z"
   },
   {
    "duration": 39,
    "start_time": "2023-04-12T08:01:28.089Z"
   },
   {
    "duration": 44,
    "start_time": "2023-04-12T08:01:28.131Z"
   },
   {
    "duration": 12,
    "start_time": "2023-04-12T08:01:28.186Z"
   },
   {
    "duration": 12,
    "start_time": "2023-04-12T08:01:28.199Z"
   },
   {
    "duration": 8,
    "start_time": "2023-04-12T08:01:28.213Z"
   },
   {
    "duration": 6,
    "start_time": "2023-04-12T08:01:28.223Z"
   },
   {
    "duration": 60,
    "start_time": "2023-04-12T08:01:28.231Z"
   },
   {
    "duration": 29,
    "start_time": "2023-04-12T08:01:28.293Z"
   },
   {
    "duration": 283,
    "start_time": "2023-04-12T08:01:28.325Z"
   },
   {
    "duration": 55,
    "start_time": "2023-04-12T08:01:28.610Z"
   },
   {
    "duration": 88,
    "start_time": "2023-04-12T08:01:28.669Z"
   },
   {
    "duration": 29,
    "start_time": "2023-04-12T08:01:28.759Z"
   },
   {
    "duration": 176,
    "start_time": "2023-04-12T08:01:28.790Z"
   },
   {
    "duration": 733,
    "start_time": "2023-04-12T08:01:28.968Z"
   },
   {
    "duration": 659,
    "start_time": "2023-04-12T08:01:29.704Z"
   },
   {
    "duration": 26,
    "start_time": "2023-04-12T08:01:30.366Z"
   },
   {
    "duration": 20,
    "start_time": "2023-04-12T08:01:30.393Z"
   },
   {
    "duration": 119,
    "start_time": "2023-04-12T08:01:30.415Z"
   },
   {
    "duration": 57,
    "start_time": "2023-04-12T08:01:30.536Z"
   },
   {
    "duration": 38,
    "start_time": "2023-04-12T08:01:30.595Z"
   },
   {
    "duration": 13,
    "start_time": "2023-04-12T08:01:30.634Z"
   },
   {
    "duration": 27,
    "start_time": "2023-04-12T08:01:30.649Z"
   },
   {
    "duration": 27,
    "start_time": "2023-04-12T08:01:30.679Z"
   },
   {
    "duration": 3212,
    "start_time": "2023-04-12T08:01:30.708Z"
   },
   {
    "duration": 18,
    "start_time": "2023-04-12T08:01:33.922Z"
   },
   {
    "duration": 14,
    "start_time": "2023-04-12T08:01:33.943Z"
   },
   {
    "duration": 42,
    "start_time": "2023-04-12T08:01:33.959Z"
   },
   {
    "duration": 89,
    "start_time": "2023-04-12T08:01:34.004Z"
   },
   {
    "duration": 28,
    "start_time": "2023-04-12T08:01:34.096Z"
   },
   {
    "duration": 126,
    "start_time": "2023-04-12T08:01:34.127Z"
   },
   {
    "duration": 91,
    "start_time": "2023-04-12T08:01:34.255Z"
   },
   {
    "duration": 22,
    "start_time": "2023-04-12T08:01:34.347Z"
   },
   {
    "duration": 70,
    "start_time": "2023-04-12T08:01:34.371Z"
   },
   {
    "duration": 288,
    "start_time": "2023-04-12T08:01:34.444Z"
   },
   {
    "duration": 12,
    "start_time": "2023-04-12T08:01:34.734Z"
   },
   {
    "duration": 126,
    "start_time": "2023-04-12T08:01:34.748Z"
   },
   {
    "duration": 27,
    "start_time": "2023-04-12T08:01:34.876Z"
   },
   {
    "duration": 3,
    "start_time": "2023-04-12T08:01:34.908Z"
   },
   {
    "duration": 127,
    "start_time": "2023-04-12T08:01:34.913Z"
   },
   {
    "duration": 3546,
    "start_time": "2023-04-12T08:01:35.042Z"
   },
   {
    "duration": 5,
    "start_time": "2023-04-12T08:01:38.591Z"
   },
   {
    "duration": 12,
    "start_time": "2023-04-12T08:01:38.598Z"
   },
   {
    "duration": 6,
    "start_time": "2023-04-12T08:01:38.612Z"
   },
   {
    "duration": 331,
    "start_time": "2023-04-12T08:01:38.620Z"
   },
   {
    "duration": 169,
    "start_time": "2023-04-12T08:01:38.953Z"
   },
   {
    "duration": 11,
    "start_time": "2023-04-12T08:01:39.124Z"
   },
   {
    "duration": 27,
    "start_time": "2023-04-12T08:01:39.137Z"
   },
   {
    "duration": 33,
    "start_time": "2023-04-12T08:01:39.165Z"
   },
   {
    "duration": 14,
    "start_time": "2023-04-12T08:01:39.199Z"
   },
   {
    "duration": 134,
    "start_time": "2023-04-12T08:05:00.421Z"
   },
   {
    "duration": 1371,
    "start_time": "2023-04-12T16:44:21.441Z"
   },
   {
    "duration": 940,
    "start_time": "2023-04-12T16:44:22.815Z"
   },
   {
    "duration": 17,
    "start_time": "2023-04-12T16:44:23.757Z"
   },
   {
    "duration": 30,
    "start_time": "2023-04-12T16:44:23.776Z"
   },
   {
    "duration": 55,
    "start_time": "2023-04-12T16:44:23.808Z"
   },
   {
    "duration": 8,
    "start_time": "2023-04-12T16:44:23.865Z"
   },
   {
    "duration": 31,
    "start_time": "2023-04-12T16:44:23.875Z"
   },
   {
    "duration": 27,
    "start_time": "2023-04-12T16:44:23.908Z"
   },
   {
    "duration": 16,
    "start_time": "2023-04-12T16:44:23.937Z"
   },
   {
    "duration": 25,
    "start_time": "2023-04-12T16:44:23.956Z"
   },
   {
    "duration": 31,
    "start_time": "2023-04-12T16:44:23.983Z"
   },
   {
    "duration": 335,
    "start_time": "2023-04-12T16:44:24.016Z"
   },
   {
    "duration": 73,
    "start_time": "2023-04-12T16:44:24.353Z"
   },
   {
    "duration": 81,
    "start_time": "2023-04-12T16:44:24.427Z"
   },
   {
    "duration": 38,
    "start_time": "2023-04-12T16:44:24.509Z"
   },
   {
    "duration": 178,
    "start_time": "2023-04-12T16:44:24.548Z"
   },
   {
    "duration": 751,
    "start_time": "2023-04-12T16:44:24.733Z"
   },
   {
    "duration": 697,
    "start_time": "2023-04-12T16:44:25.485Z"
   },
   {
    "duration": 16,
    "start_time": "2023-04-12T16:44:26.183Z"
   },
   {
    "duration": 30,
    "start_time": "2023-04-12T16:44:26.200Z"
   },
   {
    "duration": 108,
    "start_time": "2023-04-12T16:44:26.232Z"
   },
   {
    "duration": 4,
    "start_time": "2023-04-12T16:44:26.342Z"
   },
   {
    "duration": 37,
    "start_time": "2023-04-12T16:44:26.348Z"
   },
   {
    "duration": 18,
    "start_time": "2023-04-12T16:44:26.387Z"
   },
   {
    "duration": 38,
    "start_time": "2023-04-12T16:44:26.407Z"
   },
   {
    "duration": 16,
    "start_time": "2023-04-12T16:44:26.447Z"
   },
   {
    "duration": 3423,
    "start_time": "2023-04-12T16:44:26.466Z"
   },
   {
    "duration": 27,
    "start_time": "2023-04-12T16:44:29.893Z"
   },
   {
    "duration": 18,
    "start_time": "2023-04-12T16:44:29.931Z"
   },
   {
    "duration": 21,
    "start_time": "2023-04-12T16:44:29.951Z"
   },
   {
    "duration": 56,
    "start_time": "2023-04-12T16:44:29.974Z"
   },
   {
    "duration": 21,
    "start_time": "2023-04-12T16:44:30.032Z"
   },
   {
    "duration": 99,
    "start_time": "2023-04-12T16:44:30.055Z"
   },
   {
    "duration": 110,
    "start_time": "2023-04-12T16:44:30.155Z"
   },
   {
    "duration": 25,
    "start_time": "2023-04-12T16:44:30.266Z"
   },
   {
    "duration": 85,
    "start_time": "2023-04-12T16:44:30.293Z"
   },
   {
    "duration": 356,
    "start_time": "2023-04-12T16:44:30.379Z"
   },
   {
    "duration": 10,
    "start_time": "2023-04-12T16:44:30.736Z"
   },
   {
    "duration": 172,
    "start_time": "2023-04-12T16:44:30.748Z"
   },
   {
    "duration": 3759,
    "start_time": "2023-04-12T16:44:30.928Z"
   },
   {
    "duration": 5,
    "start_time": "2023-04-12T16:44:34.689Z"
   },
   {
    "duration": 15,
    "start_time": "2023-04-12T16:44:34.696Z"
   },
   {
    "duration": 9,
    "start_time": "2023-04-12T16:44:34.713Z"
   },
   {
    "duration": 1251,
    "start_time": "2023-04-12T16:44:34.731Z"
   },
   {
    "duration": 283,
    "start_time": "2023-04-12T16:44:35.984Z"
   },
   {
    "duration": 13,
    "start_time": "2023-04-12T16:44:36.268Z"
   },
   {
    "duration": 46,
    "start_time": "2023-04-12T16:44:36.282Z"
   },
   {
    "duration": 19,
    "start_time": "2023-04-12T16:44:36.331Z"
   },
   {
    "duration": 31,
    "start_time": "2023-04-12T16:44:36.352Z"
   }
  ],
  "kernelspec": {
   "display_name": "Python 3 (ipykernel)",
   "language": "python",
   "name": "python3"
  },
  "language_info": {
   "codemirror_mode": {
    "name": "ipython",
    "version": 3
   },
   "file_extension": ".py",
   "mimetype": "text/x-python",
   "name": "python",
   "nbconvert_exporter": "python",
   "pygments_lexer": "ipython3",
   "version": "3.9.7"
  },
  "toc": {
   "base_numbering": 1,
   "nav_menu": {},
   "number_sections": true,
   "sideBar": true,
   "skip_h1_title": true,
   "title_cell": "Table of Contents",
   "title_sidebar": "Contents",
   "toc_cell": false,
   "toc_position": {},
   "toc_section_display": true,
   "toc_window_display": false
  }
 },
 "nbformat": 4,
 "nbformat_minor": 5
}
